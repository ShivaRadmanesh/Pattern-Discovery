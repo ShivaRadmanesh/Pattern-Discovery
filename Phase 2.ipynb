{
  "nbformat": 4,
  "nbformat_minor": 0,
  "metadata": {
    "colab": {
      "name": "Kasra Korminejad - Phase 2.ipynb",
      "private_outputs": true,
      "provenance": [],
      "collapsed_sections": []
    },
    "kernelspec": {
      "name": "python3",
      "display_name": "Python 3"
    }
  },
  "cells": [
    {
      "cell_type": "code",
      "metadata": {
        "id": "-uWr70YBee0p"
      },
      "source": [
        "!pip install pyfpgrowth"
      ],
      "execution_count": null,
      "outputs": []
    },
    {
      "cell_type": "code",
      "metadata": {
        "id": "0JBbo3jzf4ud"
      },
      "source": [
        "from google.colab import drive\n",
        "drive.mount('/content/drive')"
      ],
      "execution_count": null,
      "outputs": []
    },
    {
      "cell_type": "code",
      "metadata": {
        "id": "Qj0Xpx1HzmQt"
      },
      "source": [
        "!unrar e /content/drive/'My Drive'/DataMining/dataset.rar"
      ],
      "execution_count": null,
      "outputs": []
    },
    {
      "cell_type": "code",
      "metadata": {
        "id": "Kx6hgPbh27bM"
      },
      "source": [
        "import pyfpgrowth\n",
        "import pandas as pd\n",
        "import matplotlib.pyplot as plt\n",
        "import networkx as nx\n",
        "from datetime import datetime\n",
        "print('done')"
      ],
      "execution_count": null,
      "outputs": []
    },
    {
      "cell_type": "markdown",
      "metadata": {
        "id": "lnGfdt0PfG9B"
      },
      "source": [
        "# Part 1\n",
        "**finding the frequent patterns of purchases of items based on the date of purchase by one customer on Orders dataset**"
      ]
    },
    {
      "cell_type": "code",
      "metadata": {
        "id": "LHS8g0QUePY_"
      },
      "source": [
        "df_orders = pd.read_csv('orders.csv')\n",
        "df_orders.head(5)"
      ],
      "execution_count": null,
      "outputs": []
    },
    {
      "cell_type": "markdown",
      "metadata": {
        "id": "BHFFIm9SzSsO"
      },
      "source": [
        "\\\\\n",
        "in this code, the \"DateTime_CartFinalize\" feature is converting to an integer field that contains only the date value.\n",
        "\n",
        "\n",
        "This is beacuse the pair of ID_Customer & DateTime_CartFinalize is the pair which determine the pattern of the purchases."
      ]
    },
    {
      "cell_type": "code",
      "metadata": {
        "id": "OCckMiDklyfl"
      },
      "source": [
        "dt_list = list(df_orders['DateTime_CartFinalize'])\n",
        "\n",
        "date_time_list = list(map(lambda x: datetime.strptime(x, '%Y-%m-%d %H:%M:%S.%f').date(), dt_list))\n",
        "int_date = list(map(lambda x: int(str(x.year) + str(x.month) + str(x.day)), date_time_list))\n",
        "\n",
        "df_orders['DateTime_CartFinalize'] = int_date\n",
        "df_orders.head(5)"
      ],
      "execution_count": null,
      "outputs": []
    },
    {
      "cell_type": "code",
      "metadata": {
        "id": "QyH6-4mrwZvY"
      },
      "source": [
        "grouped_df = df_orders.groupby(by = ['ID_Customer', 'DateTime_CartFinalize'])\n",
        "\n",
        "transactions = []\n",
        "for group, pdf in grouped_df:\n",
        "  transactions.append(pdf['ID_Item'].values.tolist())"
      ],
      "execution_count": null,
      "outputs": []
    },
    {
      "cell_type": "code",
      "metadata": {
        "id": "Q4jvhrO5wy_e"
      },
      "source": [
        "transactions_2 = list(filter(lambda x : len(x) > 1, transactions))\n",
        "transactions_2"
      ],
      "execution_count": null,
      "outputs": []
    },
    {
      "cell_type": "code",
      "metadata": {
        "id": "y0o41Jsbw2is"
      },
      "source": [
        "patterns = pyfpgrowth.find_frequent_patterns(transactions_2, 3)\n",
        "patterns"
      ],
      "execution_count": null,
      "outputs": []
    },
    {
      "cell_type": "code",
      "metadata": {
        "id": "OS869e_jyg_q"
      },
      "source": [
        "rules = pyfpgrowth.generate_association_rules(patterns, 0.2)"
      ],
      "execution_count": null,
      "outputs": []
    },
    {
      "cell_type": "markdown",
      "metadata": {
        "id": "XJw0oxdB0Ph8"
      },
      "source": [
        "In the cell below you can see the association rules of this dataset with minimum confident equal to 0.2 and minimum support equal to 3"
      ]
    },
    {
      "cell_type": "code",
      "metadata": {
        "id": "mGMpEJ0JykTT"
      },
      "source": [
        "rules"
      ],
      "execution_count": null,
      "outputs": []
    },
    {
      "cell_type": "markdown",
      "metadata": {
        "id": "B_nQtLvF0wy7"
      },
      "source": [
        "# Part 2:\n",
        "**finding the frequent patterns of purchases of items based on the date of purchase by in one city on Orders dataset**"
      ]
    },
    {
      "cell_type": "markdown",
      "metadata": {
        "id": "ETQ8Kea-2sUU"
      },
      "source": [
        "\\\\\n",
        "in this code, the \"DateTime_CartFinalize\" feature is converting to an integer field that contains only the date value.\n",
        "\n",
        "\n",
        "This is beacuse the pair of ID_Customer & DateTime_CartFinalize is the pair which determine the pattern of the purchases."
      ]
    },
    {
      "cell_type": "code",
      "metadata": {
        "id": "rTb4N8fT2yJr"
      },
      "source": [
        "df_orders = pd.read_csv('orders.csv')\n",
        "df_orders.head(5)"
      ],
      "execution_count": null,
      "outputs": []
    },
    {
      "cell_type": "markdown",
      "metadata": {
        "id": "9yODBfoBG2mn"
      },
      "source": [
        "\\\\\n",
        "Cell below replace the DateTime_CartFinalize with another cell which contains the date of the datetime column but in integer format"
      ]
    },
    {
      "cell_type": "code",
      "metadata": {
        "id": "ebNW04ke2sUg"
      },
      "source": [
        "dt_list = list(df_orders['DateTime_CartFinalize'])\n",
        "\n",
        "date_time_list = list(map(lambda x: datetime.strptime(x, '%Y-%m-%d %H:%M:%S.%f').date(), dt_list))\n",
        "int_date = list(map(lambda x: int(str(x.year) + str(x.month) + str(x.day)), date_time_list))\n",
        "\n",
        "df_orders['DateTime_CartFinalize'] = int_date\n",
        "df_orders.head(5)"
      ],
      "execution_count": null,
      "outputs": []
    },
    {
      "cell_type": "code",
      "metadata": {
        "id": "7mnQFZbk2sUi"
      },
      "source": [
        "grouped_df = df_orders.groupby(by = ['DateTime_CartFinalize', 'city_name_fa'])\n",
        "\n",
        "transactions = []\n",
        "for group, pdf in grouped_df:\n",
        "  transactions.append(pdf['ID_Item'].values.tolist())"
      ],
      "execution_count": null,
      "outputs": []
    },
    {
      "cell_type": "code",
      "metadata": {
        "id": "jR-4J7or2sUk"
      },
      "source": [
        "transactions_2 = list(filter(lambda x : len(x) > 1, transactions))\n",
        "transactions_2"
      ],
      "execution_count": null,
      "outputs": []
    },
    {
      "cell_type": "markdown",
      "metadata": {
        "id": "wTqIg6aBFKYm"
      },
      "source": [
        "Cell below find the frequent patterns in each city per day. This cell find products which are purchased frequently in a specific day. "
      ]
    },
    {
      "cell_type": "code",
      "metadata": {
        "id": "XYRvmIBD2sUk"
      },
      "source": [
        "patterns = pyfpgrowth.find_frequent_patterns(transactions_2, 60)\n",
        "patterns"
      ],
      "execution_count": null,
      "outputs": []
    },
    {
      "cell_type": "code",
      "metadata": {
        "id": "i7hyAFWs2sUl"
      },
      "source": [
        "rules = pyfpgrowth.generate_association_rules(patterns, 0.9)"
      ],
      "execution_count": null,
      "outputs": []
    },
    {
      "cell_type": "markdown",
      "metadata": {
        "id": "zy0-JkKC2sUm"
      },
      "source": [
        "In the cell below you can see the association rules of this dataset with minimum confident equal to 0.2 and minimum support equal to 3."
      ]
    },
    {
      "cell_type": "code",
      "metadata": {
        "id": "Ns1VTA5d2sUn"
      },
      "source": [
        "rules"
      ],
      "execution_count": null,
      "outputs": []
    }
  ]
}