{
  "nbformat": 4,
  "nbformat_minor": 0,
  "metadata": {
    "colab": {
      "name": "Part 3.ipynb",
      "provenance": [],
      "toc_visible": true
    },
    "kernelspec": {
      "name": "python3",
      "display_name": "Python 3"
    }
  },
  "cells": [
    {
      "cell_type": "code",
      "metadata": {
        "colab": {
          "base_uri": "https://localhost:8080/"
        },
        "id": "0JBbo3jzf4ud",
        "outputId": "da699634-dd72-43fa-b55a-e1fd5a87a2c4"
      },
      "source": [
        "from google.colab import drive\n",
        "drive.mount('/content/drive')"
      ],
      "execution_count": null,
      "outputs": [
        {
          "output_type": "stream",
          "text": [
            "Mounted at /content/drive\n"
          ],
          "name": "stdout"
        }
      ]
    },
    {
      "cell_type": "code",
      "metadata": {
        "colab": {
          "base_uri": "https://localhost:8080/"
        },
        "id": "Qj0Xpx1HzmQt",
        "outputId": "c5cb28a0-0258-42e7-9bc0-a3f4498c7021"
      },
      "source": [
        "!unrar e /content/drive/'My Drive'/DataMining/dataset.rar"
      ],
      "execution_count": null,
      "outputs": [
        {
          "output_type": "stream",
          "text": [
            "\n",
            "UNRAR 5.50 freeware      Copyright (c) 1993-2017 Alexander Roshal\n",
            "\n",
            "\n",
            "Extracting from /content/drive/My Drive/DataMining/dataset.rar\n",
            "\n",
            "Extracting  product.xlsx                                                 \b\b\b\b  5%\b\b\b\b 10%\b\b\b\b 16%\b\b\b\b 17%\b\b\b\b\b  OK \n",
            "Extracting  tarikhche kharid.csv                                         \b\b\b\b 22%\b\b\b\b 27%\b\b\b\b 33%\b\b\b\b 38%\b\b\b\b 43%\b\b\b\b 48%\b\b\b\b\b  OK \n",
            "Extracting  comment.xlsx                                                 \b\b\b\b 53%\b\b\b\b 58%\b\b\b\b 64%\b\b\b\b 69%\b\b\b\b\b  OK \n",
            "Extracting  keifiat.xlsx                                                 \b\b\b\b 69%\b\b\b\b 70%\b\b\b\b 71%\b\b\b\b 72%\b\b\b\b 73%\b\b\b\b 74%\b\b\b\b 75%\b\b\b\b 76%\b\b\b\b 77%\b\b\b\b 78%\b\b\b\b 79%\b\b\b\b 80%\b\b\b\b 81%\b\b\b\b 82%\b\b\b\b 83%\b\b\b\b 84%\b\b\b\b 85%\b\b\b\b 86%\b\b\b\b 87%\b\b\b\b 88%\b\b\b\b 89%\b\b\b\b 90%\b\b\b\b 91%\b\b\b\b 92%\b\b\b\b 93%\b\b\b\b 94%\b\b\b\b\b  OK \n",
            "Extracting  orders.csv                                                   \b\b\b\b 99%\b\b\b\b\b  OK \n",
            "All OK\n"
          ],
          "name": "stdout"
        }
      ]
    },
    {
      "cell_type": "code",
      "metadata": {
        "colab": {
          "base_uri": "https://localhost:8080/"
        },
        "id": "Kx6hgPbh27bM",
        "outputId": "c637a641-ef64-482c-a2c3-1154b09a6385"
      },
      "source": [
        "import pandas as pd \n",
        "import datetime\n",
        "import re\n",
        "\n",
        "!pip install langdetect\n",
        "from langdetect import detect\n",
        "print('done')"
      ],
      "execution_count": null,
      "outputs": [
        {
          "output_type": "stream",
          "text": [
            "Requirement already satisfied: langdetect in /usr/local/lib/python3.6/dist-packages (1.0.8)\n",
            "Requirement already satisfied: six in /usr/local/lib/python3.6/dist-packages (from langdetect) (1.15.0)\n",
            "done\n"
          ],
          "name": "stdout"
        }
      ]
    },
    {
      "cell_type": "markdown",
      "metadata": {
        "id": "kND7EUyg0APj"
      },
      "source": [
        "\\\\\n",
        "# **Orders Dataset**"
      ]
    },
    {
      "cell_type": "code",
      "metadata": {
        "colab": {
          "base_uri": "https://localhost:8080/",
          "height": 419
        },
        "id": "cttF4_ut0Esl",
        "outputId": "3c9fde42-8042-4405-d7dc-804af2e1bbe4"
      },
      "source": [
        "df_orders = pd.read_csv('orders.csv')\n",
        "df_orders"
      ],
      "execution_count": null,
      "outputs": [
        {
          "output_type": "execute_result",
          "data": {
            "text/html": [
              "<div>\n",
              "<style scoped>\n",
              "    .dataframe tbody tr th:only-of-type {\n",
              "        vertical-align: middle;\n",
              "    }\n",
              "\n",
              "    .dataframe tbody tr th {\n",
              "        vertical-align: top;\n",
              "    }\n",
              "\n",
              "    .dataframe thead th {\n",
              "        text-align: right;\n",
              "    }\n",
              "</style>\n",
              "<table border=\"1\" class=\"dataframe\">\n",
              "  <thead>\n",
              "    <tr style=\"text-align: right;\">\n",
              "      <th></th>\n",
              "      <th>ID_Order</th>\n",
              "      <th>ID_Customer</th>\n",
              "      <th>ID_Item</th>\n",
              "      <th>DateTime_CartFinalize</th>\n",
              "      <th>Amount_Gross_Order</th>\n",
              "      <th>city_name_fa</th>\n",
              "      <th>Quantity_item</th>\n",
              "    </tr>\n",
              "  </thead>\n",
              "  <tbody>\n",
              "    <tr>\n",
              "      <th>0</th>\n",
              "      <td>2714054</td>\n",
              "      <td>469662</td>\n",
              "      <td>21386</td>\n",
              "      <td>2015-10-15 08:50:56.000</td>\n",
              "      <td>597982.0</td>\n",
              "      <td>محمود آباد</td>\n",
              "      <td>1.0</td>\n",
              "    </tr>\n",
              "    <tr>\n",
              "      <th>1</th>\n",
              "      <td>11104039</td>\n",
              "      <td>3063877</td>\n",
              "      <td>248497</td>\n",
              "      <td>2018-02-11 00:29:26.000</td>\n",
              "      <td>980000.0</td>\n",
              "      <td>خرمدره</td>\n",
              "      <td>1.0</td>\n",
              "    </tr>\n",
              "    <tr>\n",
              "      <th>2</th>\n",
              "      <td>4228130</td>\n",
              "      <td>3184893</td>\n",
              "      <td>50144</td>\n",
              "      <td>2016-06-14 00:30:08.000</td>\n",
              "      <td>229358.0</td>\n",
              "      <td>قرچک</td>\n",
              "      <td>1.0</td>\n",
              "    </tr>\n",
              "    <tr>\n",
              "      <th>3</th>\n",
              "      <td>22225624</td>\n",
              "      <td>6888562</td>\n",
              "      <td>70208</td>\n",
              "      <td>2018-09-03 14:37:19.000</td>\n",
              "      <td>16514.0</td>\n",
              "      <td>قم</td>\n",
              "      <td>1.0</td>\n",
              "    </tr>\n",
              "    <tr>\n",
              "      <th>4</th>\n",
              "      <td>4068771</td>\n",
              "      <td>2533490</td>\n",
              "      <td>67627</td>\n",
              "      <td>2016-05-21 11:51:02.000</td>\n",
              "      <td>133028.0</td>\n",
              "      <td>تهران</td>\n",
              "      <td>1.0</td>\n",
              "    </tr>\n",
              "    <tr>\n",
              "      <th>...</th>\n",
              "      <td>...</td>\n",
              "      <td>...</td>\n",
              "      <td>...</td>\n",
              "      <td>...</td>\n",
              "      <td>...</td>\n",
              "      <td>...</td>\n",
              "      <td>...</td>\n",
              "    </tr>\n",
              "    <tr>\n",
              "      <th>199995</th>\n",
              "      <td>12172771</td>\n",
              "      <td>4403268</td>\n",
              "      <td>445940</td>\n",
              "      <td>2018-04-03 12:07:01.000</td>\n",
              "      <td>344037.0</td>\n",
              "      <td>تهران</td>\n",
              "      <td>2.0</td>\n",
              "    </tr>\n",
              "    <tr>\n",
              "      <th>199996</th>\n",
              "      <td>4425393</td>\n",
              "      <td>3745774</td>\n",
              "      <td>131645</td>\n",
              "      <td>2016-07-09 19:14:09.000</td>\n",
              "      <td>600000.0</td>\n",
              "      <td>محمدیه</td>\n",
              "      <td>1.0</td>\n",
              "    </tr>\n",
              "    <tr>\n",
              "      <th>199997</th>\n",
              "      <td>6671889</td>\n",
              "      <td>4845514</td>\n",
              "      <td>215045</td>\n",
              "      <td>2017-03-08 23:47:06.000</td>\n",
              "      <td>450000.0</td>\n",
              "      <td>اصفهان</td>\n",
              "      <td>1.0</td>\n",
              "    </tr>\n",
              "    <tr>\n",
              "      <th>199998</th>\n",
              "      <td>6315995</td>\n",
              "      <td>2541418</td>\n",
              "      <td>264021</td>\n",
              "      <td>2017-02-08 14:59:39.000</td>\n",
              "      <td>193486.0</td>\n",
              "      <td>همدان</td>\n",
              "      <td>1.0</td>\n",
              "    </tr>\n",
              "    <tr>\n",
              "      <th>199999</th>\n",
              "      <td>7584127</td>\n",
              "      <td>1342585</td>\n",
              "      <td>89427</td>\n",
              "      <td>2017-06-17 10:08:06.000</td>\n",
              "      <td>55046.0</td>\n",
              "      <td>بندر انزلی</td>\n",
              "      <td>1.0</td>\n",
              "    </tr>\n",
              "  </tbody>\n",
              "</table>\n",
              "<p>200000 rows × 7 columns</p>\n",
              "</div>"
            ],
            "text/plain": [
              "        ID_Order  ID_Customer  ...  city_name_fa Quantity_item\n",
              "0        2714054       469662  ...    محمود آباد           1.0\n",
              "1       11104039      3063877  ...        خرمدره           1.0\n",
              "2        4228130      3184893  ...          قرچک           1.0\n",
              "3       22225624      6888562  ...            قم           1.0\n",
              "4        4068771      2533490  ...         تهران           1.0\n",
              "...          ...          ...  ...           ...           ...\n",
              "199995  12172771      4403268  ...         تهران           2.0\n",
              "199996   4425393      3745774  ...        محمدیه           1.0\n",
              "199997   6671889      4845514  ...        اصفهان           1.0\n",
              "199998   6315995      2541418  ...         همدان           1.0\n",
              "199999   7584127      1342585  ...    بندر انزلی           1.0\n",
              "\n",
              "[200000 rows x 7 columns]"
            ]
          },
          "metadata": {
            "tags": []
          },
          "execution_count": 24
        }
      ]
    },
    {
      "cell_type": "code",
      "metadata": {
        "id": "cRoEEzDY0PSU"
      },
      "source": [
        "langs = [detect(str(df_orders['city_name_fa'][i])) for i in range(len(df_orders['city_name_fa']))]\n",
        "gheir_fa = [i for i in range(len(langs)) if langs[i] != 'fa']"
      ],
      "execution_count": null,
      "outputs": []
    },
    {
      "cell_type": "code",
      "metadata": {
        "colab": {
          "base_uri": "https://localhost:8080/"
        },
        "id": "tuUW3B1hlH8X",
        "outputId": "88eb6a57-afbe-4cd0-aa39-1f8606180f15"
      },
      "source": [
        "x = df_orders['city_name_fa'][gheir_fa]"
      ],
      "execution_count": null,
      "outputs": [
        {
          "output_type": "execute_result",
          "data": {
            "text/plain": [
              "2           قرچک\n",
              "11          لالی\n",
              "17        تنکابن\n",
              "18           کرج\n",
              "33          کلور\n",
              "           ...  \n",
              "199965     کرمان\n",
              "199975       کرج\n",
              "199983      فومن\n",
              "199990      قرچک\n",
              "199996    محمدیه\n",
              "Name: city_name_fa, Length: 16771, dtype: object"
            ]
          },
          "metadata": {
            "tags": []
          },
          "execution_count": 33
        }
      ]
    },
    {
      "cell_type": "markdown",
      "metadata": {
        "id": "hITAifjiyV3x"
      },
      "source": [
        "\\\\\n",
        "**The code above showed that the library does not work well and it has detect the languages of the text wrong.**"
      ]
    },
    {
      "cell_type": "markdown",
      "metadata": {
        "id": "V3wMgBAqywPb"
      },
      "source": [
        "# **Comment Dataset**"
      ]
    },
    {
      "cell_type": "code",
      "metadata": {
        "colab": {
          "base_uri": "https://localhost:8080/",
          "height": 419
        },
        "id": "we8FQ96Oy3wr",
        "outputId": "f4b7a8c3-8f26-4474-8456-57e98f4e5317"
      },
      "source": [
        "df_comment = pd.read_excel('comment.xlsx')\n",
        "df_comment"
      ],
      "execution_count": null,
      "outputs": [
        {
          "output_type": "execute_result",
          "data": {
            "text/html": [
              "<div>\n",
              "<style scoped>\n",
              "    .dataframe tbody tr th:only-of-type {\n",
              "        vertical-align: middle;\n",
              "    }\n",
              "\n",
              "    .dataframe tbody tr th {\n",
              "        vertical-align: top;\n",
              "    }\n",
              "\n",
              "    .dataframe thead th {\n",
              "        text-align: right;\n",
              "    }\n",
              "</style>\n",
              "<table border=\"1\" class=\"dataframe\">\n",
              "  <thead>\n",
              "    <tr style=\"text-align: right;\">\n",
              "      <th></th>\n",
              "      <th>product_id</th>\n",
              "      <th>confirmed_at</th>\n",
              "      <th>comment</th>\n",
              "    </tr>\n",
              "  </thead>\n",
              "  <tbody>\n",
              "    <tr>\n",
              "      <th>0</th>\n",
              "      <td>90213</td>\n",
              "      <td>2018-08-23 11:05:47</td>\n",
              "      <td>سلام، قبل اینکه نظرم رو بگم میخواستم به یک موض...</td>\n",
              "    </tr>\n",
              "    <tr>\n",
              "      <th>1</th>\n",
              "      <td>56871</td>\n",
              "      <td>2018-08-23 10:21:53</td>\n",
              "      <td>بوی تند ولی خوشبو داره.ماندگاریش خوبه و هر چقد...</td>\n",
              "    </tr>\n",
              "    <tr>\n",
              "      <th>2</th>\n",
              "      <td>49738</td>\n",
              "      <td>2018-10-13 11:13:39</td>\n",
              "      <td>متاسفانه عمر مفید این ماشین کم هست و بعد از دو...</td>\n",
              "    </tr>\n",
              "    <tr>\n",
              "      <th>3</th>\n",
              "      <td>134367</td>\n",
              "      <td>2018-10-17 11:27:57</td>\n",
              "      <td>افا از وقتی من اینو واسه پسرم خریدم همه بچه ها...</td>\n",
              "    </tr>\n",
              "    <tr>\n",
              "      <th>4</th>\n",
              "      <td>151402</td>\n",
              "      <td>2018-08-23 10:28:47</td>\n",
              "      <td>این تیغ محصول کشور آمریکا هست ( در عکس محصول م...</td>\n",
              "    </tr>\n",
              "    <tr>\n",
              "      <th>...</th>\n",
              "      <td>...</td>\n",
              "      <td>...</td>\n",
              "      <td>...</td>\n",
              "    </tr>\n",
              "    <tr>\n",
              "      <th>100003</th>\n",
              "      <td>104998</td>\n",
              "      <td>2018-07-09 21:27:12</td>\n",
              "      <td>قیمت مناسبی داره در حال حاضر . با این پول سخت ...</td>\n",
              "    </tr>\n",
              "    <tr>\n",
              "      <th>100004</th>\n",
              "      <td>333389</td>\n",
              "      <td>2018-07-09 21:26:52</td>\n",
              "      <td>در کل راضیم درسته لنوو با قیمت پایین تر هسته و...</td>\n",
              "    </tr>\n",
              "    <tr>\n",
              "      <th>100005</th>\n",
              "      <td>356546</td>\n",
              "      <td>2018-07-09 21:26:30</td>\n",
              "      <td>من این محصول رو از بیرون تهیه کردم . و باید بگ...</td>\n",
              "    </tr>\n",
              "    <tr>\n",
              "      <th>100006</th>\n",
              "      <td>33874</td>\n",
              "      <td>2018-07-09 21:26:12</td>\n",
              "      <td>دوسال و.نیم پیش از دیجی کالا گرفتم. هنوز مثل ر...</td>\n",
              "    </tr>\n",
              "    <tr>\n",
              "      <th>100007</th>\n",
              "      <td>318278</td>\n",
              "      <td>2018-07-09 21:26:02</td>\n",
              "      <td>با استفاده از این شامپو مشکل خشکی مو و پوست سر...</td>\n",
              "    </tr>\n",
              "  </tbody>\n",
              "</table>\n",
              "<p>100008 rows × 3 columns</p>\n",
              "</div>"
            ],
            "text/plain": [
              "        product_id  ...                                            comment\n",
              "0            90213  ...  سلام، قبل اینکه نظرم رو بگم میخواستم به یک موض...\n",
              "1            56871  ...  بوی تند ولی خوشبو داره.ماندگاریش خوبه و هر چقد...\n",
              "2            49738  ...  متاسفانه عمر مفید این ماشین کم هست و بعد از دو...\n",
              "3           134367  ...  افا از وقتی من اینو واسه پسرم خریدم همه بچه ها...\n",
              "4           151402  ...  این تیغ محصول کشور آمریکا هست ( در عکس محصول م...\n",
              "...            ...  ...                                                ...\n",
              "100003      104998  ...  قیمت مناسبی داره در حال حاضر . با این پول سخت ...\n",
              "100004      333389  ...  در کل راضیم درسته لنوو با قیمت پایین تر هسته و...\n",
              "100005      356546  ...  من این محصول رو از بیرون تهیه کردم . و باید بگ...\n",
              "100006       33874  ...  دوسال و.نیم پیش از دیجی کالا گرفتم. هنوز مثل ر...\n",
              "100007      318278  ...  با استفاده از این شامپو مشکل خشکی مو و پوست سر...\n",
              "\n",
              "[100008 rows x 3 columns]"
            ]
          },
          "metadata": {
            "tags": []
          },
          "execution_count": 3
        }
      ]
    },
    {
      "cell_type": "markdown",
      "metadata": {
        "id": "TUJIXvCjzSkp"
      },
      "source": [
        "# **keifiat**"
      ]
    },
    {
      "cell_type": "code",
      "metadata": {
        "colab": {
          "base_uri": "https://localhost:8080/",
          "height": 742
        },
        "id": "F9iWmzgKzWmi",
        "outputId": "cacea79b-af2a-411e-e4b7-86c222e7b8e6"
      },
      "source": [
        "df_keifiat = pd.read_excel('keifiat.xlsx')\n",
        "df_keifiat"
      ],
      "execution_count": null,
      "outputs": [
        {
          "output_type": "execute_result",
          "data": {
            "text/html": [
              "<div>\n",
              "<style scoped>\n",
              "    .dataframe tbody tr th:only-of-type {\n",
              "        vertical-align: middle;\n",
              "    }\n",
              "\n",
              "    .dataframe tbody tr th {\n",
              "        vertical-align: top;\n",
              "    }\n",
              "\n",
              "    .dataframe thead th {\n",
              "        text-align: right;\n",
              "    }\n",
              "</style>\n",
              "<table border=\"1\" class=\"dataframe\">\n",
              "  <thead>\n",
              "    <tr style=\"text-align: right;\">\n",
              "      <th></th>\n",
              "      <th>product_id</th>\n",
              "      <th>product_title</th>\n",
              "      <th>title_en</th>\n",
              "      <th>user_id</th>\n",
              "      <th>likes</th>\n",
              "      <th>dislikes</th>\n",
              "      <th>verification_status</th>\n",
              "      <th>recommend</th>\n",
              "      <th>title</th>\n",
              "      <th>comment</th>\n",
              "      <th>advantages</th>\n",
              "      <th>disadvantages</th>\n",
              "    </tr>\n",
              "  </thead>\n",
              "  <tbody>\n",
              "    <tr>\n",
              "      <th>0</th>\n",
              "      <td>3692</td>\n",
              "      <td>ماوس بی‌سیم لاجیتک مدل M325</td>\n",
              "      <td>IT</td>\n",
              "      <td>989472</td>\n",
              "      <td>0</td>\n",
              "      <td>0</td>\n",
              "      <td>verified</td>\n",
              "      <td>\\N</td>\n",
              "      <td>NaN</td>\n",
              "      <td>واقعا عالیه. من که ازش خیلی راضیم</td>\n",
              "      <td>NaN</td>\n",
              "      <td>NaN</td>\n",
              "    </tr>\n",
              "    <tr>\n",
              "      <th>1</th>\n",
              "      <td>90213</td>\n",
              "      <td>شارژر همراه شیاومی مدل NDY-02-AN با ظرفیت 1000...</td>\n",
              "      <td>AC</td>\n",
              "      <td>3862150</td>\n",
              "      <td>4</td>\n",
              "      <td>1</td>\n",
              "      <td>verified</td>\n",
              "      <td>recommended</td>\n",
              "      <td>واقعاً عالیه</td>\n",
              "      <td>سلام، قبل اینکه نظرم رو بگم میخواستم به یک موض...</td>\n",
              "      <td>[\"عمر طولانی\\r\",\"افت بسیار کم میزان شارژ\\r\",\"ا...</td>\n",
              "      <td>[\"ندارد\"]</td>\n",
              "    </tr>\n",
              "    <tr>\n",
              "      <th>2</th>\n",
              "      <td>59473</td>\n",
              "      <td>یدک پولیشر میکروفایبر مهسان مدل 20119</td>\n",
              "      <td>HW</td>\n",
              "      <td>626843</td>\n",
              "      <td>1</td>\n",
              "      <td>0</td>\n",
              "      <td>verified</td>\n",
              "      <td>not_recommended</td>\n",
              "      <td>خیلی سخت حوله اش در میاد</td>\n",
              "      <td>گیره های فلزی خیلی سخت تا میشوند و لذا حوله را...</td>\n",
              "      <td>NaN</td>\n",
              "      <td>NaN</td>\n",
              "    </tr>\n",
              "    <tr>\n",
              "      <th>3</th>\n",
              "      <td>120499</td>\n",
              "      <td>گوشی موبایل هوآوی آنر مدل 5X KIW-L21 دو سیم‌کارت</td>\n",
              "      <td>MO</td>\n",
              "      <td>786887</td>\n",
              "      <td>6</td>\n",
              "      <td>11</td>\n",
              "      <td>verified</td>\n",
              "      <td>no_idea</td>\n",
              "      <td>گوشی مقرون به صرفه</td>\n",
              "      <td>همه چیز در رابطه با ظاهر این گوشی بسیار خوب اس...</td>\n",
              "      <td>[\"صفحه نمایش پرنور و با کیفیت\\r\",\"کیفیت بالای ...</td>\n",
              "      <td>[\"کیفیت پایین اسپیکر\\r\",\"حاشیه خالی زیر صفحه ن...</td>\n",
              "    </tr>\n",
              "    <tr>\n",
              "      <th>4</th>\n",
              "      <td>67200</td>\n",
              "      <td>شارژر همراه شیائومی مدل Mi ظرفیت 5000 میلی آمپ...</td>\n",
              "      <td>AC</td>\n",
              "      <td>854531</td>\n",
              "      <td>19</td>\n",
              "      <td>4</td>\n",
              "      <td>verified</td>\n",
              "      <td>no_idea</td>\n",
              "      <td>ابعاد، استحکام و نگهداری شارژ مناسب</td>\n",
              "      <td>اگر ظرفیتش براتون کافیه حتما بخرید.\\r\\nیه شارژ...</td>\n",
              "      <td>[\"ظریف و زیبا و باریک\\r\",\"بدنه محکم و با دوام\"]</td>\n",
              "      <td>[\"ظرفیت متوسط\"]</td>\n",
              "    </tr>\n",
              "    <tr>\n",
              "      <th>...</th>\n",
              "      <td>...</td>\n",
              "      <td>...</td>\n",
              "      <td>...</td>\n",
              "      <td>...</td>\n",
              "      <td>...</td>\n",
              "      <td>...</td>\n",
              "      <td>...</td>\n",
              "      <td>...</td>\n",
              "      <td>...</td>\n",
              "      <td>...</td>\n",
              "      <td>...</td>\n",
              "      <td>...</td>\n",
              "    </tr>\n",
              "    <tr>\n",
              "      <th>99995</th>\n",
              "      <td>549845</td>\n",
              "      <td>شید آباژور آرام مدل SH45/01</td>\n",
              "      <td>TC</td>\n",
              "      <td>4979401</td>\n",
              "      <td>0</td>\n",
              "      <td>0</td>\n",
              "      <td>verified</td>\n",
              "      <td>recommended</td>\n",
              "      <td>بسیار تمیز و زیبا</td>\n",
              "      <td>بسیار تمیز و زیبا...من که خیلی راضیم</td>\n",
              "      <td>[\"کاملا مطابق با عکس\\r\",\"ساخت بسیار تمیز\"]</td>\n",
              "      <td>[\"ندارد\"]</td>\n",
              "    </tr>\n",
              "    <tr>\n",
              "      <th>99996</th>\n",
              "      <td>784160</td>\n",
              "      <td>کفش مخصوص دویدن مردانه و زنانه آلبرتینی مدل دا...</td>\n",
              "      <td>FA</td>\n",
              "      <td>1066034</td>\n",
              "      <td>7</td>\n",
              "      <td>32</td>\n",
              "      <td>verified</td>\n",
              "      <td>\\N</td>\n",
              "      <td>توصیه به خرید میکنم</td>\n",
              "      <td>من این کفش را برای پیاده روی اربعین خریدم از ی...</td>\n",
              "      <td>[\"سبک زیبا ارزان \"]</td>\n",
              "      <td>[\"محل عبور بند کفش ها ایراد دارد\"]</td>\n",
              "    </tr>\n",
              "    <tr>\n",
              "      <th>99997</th>\n",
              "      <td>820985</td>\n",
              "      <td>واکس کفش ساتل مدل 20 حجم 60 میلی لیتر</td>\n",
              "      <td>FA</td>\n",
              "      <td>568208</td>\n",
              "      <td>0</td>\n",
              "      <td>0</td>\n",
              "      <td>verified</td>\n",
              "      <td>recommended</td>\n",
              "      <td>خوبه و غلیظه</td>\n",
              "      <td>واکس خوبیه..</td>\n",
              "      <td>[\"روغنیه\"]</td>\n",
              "      <td>[\"ندیدم\"]</td>\n",
              "    </tr>\n",
              "    <tr>\n",
              "      <th>99998</th>\n",
              "      <td>678073</td>\n",
              "      <td>کش رنگی مدادچوبی مدل 010 بسته 100</td>\n",
              "      <td>TC</td>\n",
              "      <td>981594</td>\n",
              "      <td>2</td>\n",
              "      <td>1</td>\n",
              "      <td>verified</td>\n",
              "      <td>no_idea</td>\n",
              "      <td>سلام</td>\n",
              "      <td>هیچ کدوم از این رنگهای که توی عکسه داخل بسته ن...</td>\n",
              "      <td>NaN</td>\n",
              "      <td>NaN</td>\n",
              "    </tr>\n",
              "    <tr>\n",
              "      <th>99999</th>\n",
              "      <td>451791</td>\n",
              "      <td>ماژیک علامت گذار 6 رنگ اسکای مدل S-905</td>\n",
              "      <td>MA</td>\n",
              "      <td>3397901</td>\n",
              "      <td>0</td>\n",
              "      <td>0</td>\n",
              "      <td>verified</td>\n",
              "      <td>no_idea</td>\n",
              "      <td>مارکر</td>\n",
              "      <td>من خریدم و راضی بودم ولی متاسفانه یکی از مارکر...</td>\n",
              "      <td>NaN</td>\n",
              "      <td>NaN</td>\n",
              "    </tr>\n",
              "  </tbody>\n",
              "</table>\n",
              "<p>100000 rows × 12 columns</p>\n",
              "</div>"
            ],
            "text/plain": [
              "       product_id  ...                                      disadvantages\n",
              "0            3692  ...                                                NaN\n",
              "1           90213  ...                                          [\"ندارد\"]\n",
              "2           59473  ...                                                NaN\n",
              "3          120499  ...  [\"کیفیت پایین اسپیکر\\r\",\"حاشیه خالی زیر صفحه ن...\n",
              "4           67200  ...                                    [\"ظرفیت متوسط\"]\n",
              "...           ...  ...                                                ...\n",
              "99995      549845  ...                                          [\"ندارد\"]\n",
              "99996      784160  ...                 [\"محل عبور بند کفش ها ایراد دارد\"]\n",
              "99997      820985  ...                                          [\"ندیدم\"]\n",
              "99998      678073  ...                                                NaN\n",
              "99999      451791  ...                                                NaN\n",
              "\n",
              "[100000 rows x 12 columns]"
            ]
          },
          "metadata": {
            "tags": []
          },
          "execution_count": 4
        }
      ]
    }
  ]
}