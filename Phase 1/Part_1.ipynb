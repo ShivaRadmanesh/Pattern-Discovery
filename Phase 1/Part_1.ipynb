{
 "cells": [
  {
   "cell_type": "markdown",
   "metadata": {
    "id": "8sBgVuhKDebV"
   },
   "source": [
    "# **Data mining course project - Phase 1**\n",
    "**Contributers:** *Kasra Korminejad - Shiva Radmanesh*\n",
    "\n",
    "\\\\"
   ]
  },
  {
   "cell_type": "code",
   "execution_count": null,
   "metadata": {
    "colab": {
     "base_uri": "https://localhost:8080/"
    },
    "id": "0JBbo3jzf4ud",
    "outputId": "0ae54ae3-69bc-4118-fc0d-2690cbb1cce7"
   },
   "outputs": [
    {
     "name": "stdout",
     "output_type": "stream",
     "text": [
      "Mounted at /content/drive\n"
     ]
    }
   ],
   "source": [
    "from google.colab import drive\n",
    "drive.mount('/content/drive')"
   ]
  },
  {
   "cell_type": "code",
   "execution_count": null,
   "metadata": {
    "colab": {
     "base_uri": "https://localhost:8080/"
    },
    "id": "Qj0Xpx1HzmQt",
    "outputId": "77526662-4151-4d99-fe39-b9d2a9fc782d"
   },
   "outputs": [
    {
     "name": "stdout",
     "output_type": "stream",
     "text": [
      "\n",
      "UNRAR 5.50 freeware      Copyright (c) 1993-2017 Alexander Roshal\n",
      "\n",
      "\n",
      "Extracting from /content/drive/My Drive/DataMining/dataset.rar\n",
      "\n",
      "Extracting  product.xlsx                                                  1 1 17  OK \n",
      "Extracting  tarikhche kharid.csv                                        2 2 3 3 4 48  OK \n",
      "Extracting  comment.xlsx                                                5 5 6 69  OK \n",
      "Extracting  keifiat.xlsx                                                6 7 7 7 7 7 7 7 7 7 7 8 8 8 8 8 8 8 8 8 8 9 9 9 9 94  OK \n",
      "Extracting  orders.csv                                                  99  OK \n",
      "All OK\n"
     ]
    }
   ],
   "source": [
    "!unrar e /content/drive/'My Drive'/DataMining/dataset.rar"
   ]
  },
  {
   "cell_type": "code",
   "execution_count": null,
   "metadata": {
    "colab": {
     "base_uri": "https://localhost:8080/"
    },
    "id": "Kx6hgPbh27bM",
    "outputId": "35eafb04-409a-4153-b977-4e3c19158281"
   },
   "outputs": [
    {
     "name": "stdout",
     "output_type": "stream",
     "text": [
      "done\n"
     ]
    }
   ],
   "source": [
    "import pandas as pd \n",
    "print('done')"
   ]
  },
  {
   "cell_type": "markdown",
   "metadata": {
    "id": "lam2CEAQA7pR"
   },
   "source": [
    "\n",
    "## **Outliers Formula**:"
   ]
  },
  {
   "cell_type": "markdown",
   "metadata": {
    "id": "MQRAIy_OBazN"
   },
   "source": [
    "We find the outliers of one feature by drawing the boxplot for that feature. Then we use $Q_1$ and  $Q_3$ to calculate the following equation: \\\\\n",
    "\n",
    "$$ IQR = Q_3 - Q_1 $$ \n",
    "\n",
    "$$ outlier_1 < Q_1 - 1.5 \\times IQR$$ \n",
    "$$or$$ \n",
    "$$ outlier_2 > Q_3 + 1.5 \\times IQR$$"
   ]
  },
  {
   "cell_type": "markdown",
   "metadata": {
    "id": "_6pd3WDF0w8S"
   },
   "source": [
    "# **Orders dataset**"
   ]
  },
  {
   "cell_type": "code",
   "execution_count": null,
   "metadata": {
    "colab": {
     "base_uri": "https://localhost:8080/",
     "height": 419
    },
    "id": "BD6iTcZY3Dzq",
    "outputId": "0b72b284-aac4-4823-9f6c-c443567c640f"
   },
   "outputs": [
    {
     "data": {
      "text/html": [
       "<div>\n",
       "<style scoped>\n",
       "    .dataframe tbody tr th:only-of-type {\n",
       "        vertical-align: middle;\n",
       "    }\n",
       "\n",
       "    .dataframe tbody tr th {\n",
       "        vertical-align: top;\n",
       "    }\n",
       "\n",
       "    .dataframe thead th {\n",
       "        text-align: right;\n",
       "    }\n",
       "</style>\n",
       "<table border=\"1\" class=\"dataframe\">\n",
       "  <thead>\n",
       "    <tr style=\"text-align: right;\">\n",
       "      <th></th>\n",
       "      <th>ID_Order</th>\n",
       "      <th>ID_Customer</th>\n",
       "      <th>ID_Item</th>\n",
       "      <th>DateTime_CartFinalize</th>\n",
       "      <th>Amount_Gross_Order</th>\n",
       "      <th>city_name_fa</th>\n",
       "      <th>Quantity_item</th>\n",
       "    </tr>\n",
       "  </thead>\n",
       "  <tbody>\n",
       "    <tr>\n",
       "      <th>0</th>\n",
       "      <td>2714054</td>\n",
       "      <td>469662</td>\n",
       "      <td>21386</td>\n",
       "      <td>2015-10-15 08:50:56.000</td>\n",
       "      <td>597982.0</td>\n",
       "      <td>محمود آباد</td>\n",
       "      <td>1.0</td>\n",
       "    </tr>\n",
       "    <tr>\n",
       "      <th>1</th>\n",
       "      <td>11104039</td>\n",
       "      <td>3063877</td>\n",
       "      <td>248497</td>\n",
       "      <td>2018-02-11 00:29:26.000</td>\n",
       "      <td>980000.0</td>\n",
       "      <td>خرمدره</td>\n",
       "      <td>1.0</td>\n",
       "    </tr>\n",
       "    <tr>\n",
       "      <th>2</th>\n",
       "      <td>4228130</td>\n",
       "      <td>3184893</td>\n",
       "      <td>50144</td>\n",
       "      <td>2016-06-14 00:30:08.000</td>\n",
       "      <td>229358.0</td>\n",
       "      <td>قرچک</td>\n",
       "      <td>1.0</td>\n",
       "    </tr>\n",
       "    <tr>\n",
       "      <th>3</th>\n",
       "      <td>22225624</td>\n",
       "      <td>6888562</td>\n",
       "      <td>70208</td>\n",
       "      <td>2018-09-03 14:37:19.000</td>\n",
       "      <td>16514.0</td>\n",
       "      <td>قم</td>\n",
       "      <td>1.0</td>\n",
       "    </tr>\n",
       "    <tr>\n",
       "      <th>4</th>\n",
       "      <td>4068771</td>\n",
       "      <td>2533490</td>\n",
       "      <td>67627</td>\n",
       "      <td>2016-05-21 11:51:02.000</td>\n",
       "      <td>133028.0</td>\n",
       "      <td>تهران</td>\n",
       "      <td>1.0</td>\n",
       "    </tr>\n",
       "    <tr>\n",
       "      <th>...</th>\n",
       "      <td>...</td>\n",
       "      <td>...</td>\n",
       "      <td>...</td>\n",
       "      <td>...</td>\n",
       "      <td>...</td>\n",
       "      <td>...</td>\n",
       "      <td>...</td>\n",
       "    </tr>\n",
       "    <tr>\n",
       "      <th>199995</th>\n",
       "      <td>12172771</td>\n",
       "      <td>4403268</td>\n",
       "      <td>445940</td>\n",
       "      <td>2018-04-03 12:07:01.000</td>\n",
       "      <td>344037.0</td>\n",
       "      <td>تهران</td>\n",
       "      <td>2.0</td>\n",
       "    </tr>\n",
       "    <tr>\n",
       "      <th>199996</th>\n",
       "      <td>4425393</td>\n",
       "      <td>3745774</td>\n",
       "      <td>131645</td>\n",
       "      <td>2016-07-09 19:14:09.000</td>\n",
       "      <td>600000.0</td>\n",
       "      <td>محمدیه</td>\n",
       "      <td>1.0</td>\n",
       "    </tr>\n",
       "    <tr>\n",
       "      <th>199997</th>\n",
       "      <td>6671889</td>\n",
       "      <td>4845514</td>\n",
       "      <td>215045</td>\n",
       "      <td>2017-03-08 23:47:06.000</td>\n",
       "      <td>450000.0</td>\n",
       "      <td>اصفهان</td>\n",
       "      <td>1.0</td>\n",
       "    </tr>\n",
       "    <tr>\n",
       "      <th>199998</th>\n",
       "      <td>6315995</td>\n",
       "      <td>2541418</td>\n",
       "      <td>264021</td>\n",
       "      <td>2017-02-08 14:59:39.000</td>\n",
       "      <td>193486.0</td>\n",
       "      <td>همدان</td>\n",
       "      <td>1.0</td>\n",
       "    </tr>\n",
       "    <tr>\n",
       "      <th>199999</th>\n",
       "      <td>7584127</td>\n",
       "      <td>1342585</td>\n",
       "      <td>89427</td>\n",
       "      <td>2017-06-17 10:08:06.000</td>\n",
       "      <td>55046.0</td>\n",
       "      <td>بندر انزلی</td>\n",
       "      <td>1.0</td>\n",
       "    </tr>\n",
       "  </tbody>\n",
       "</table>\n",
       "<p>200000 rows × 7 columns</p>\n",
       "</div>"
      ],
      "text/plain": [
       "        ID_Order  ID_Customer  ...  city_name_fa Quantity_item\n",
       "0        2714054       469662  ...    محمود آباد           1.0\n",
       "1       11104039      3063877  ...        خرمدره           1.0\n",
       "2        4228130      3184893  ...          قرچک           1.0\n",
       "3       22225624      6888562  ...            قم           1.0\n",
       "4        4068771      2533490  ...         تهران           1.0\n",
       "...          ...          ...  ...           ...           ...\n",
       "199995  12172771      4403268  ...         تهران           2.0\n",
       "199996   4425393      3745774  ...        محمدیه           1.0\n",
       "199997   6671889      4845514  ...        اصفهان           1.0\n",
       "199998   6315995      2541418  ...         همدان           1.0\n",
       "199999   7584127      1342585  ...    بندر انزلی           1.0\n",
       "\n",
       "[200000 rows x 7 columns]"
      ]
     },
     "execution_count": 4,
     "metadata": {
      "tags": []
     },
     "output_type": "execute_result"
    }
   ],
   "source": [
    "df_orders = pd.read_csv('orders.csv')\n",
    "df_orders"
   ]
  },
  {
   "cell_type": "markdown",
   "metadata": {
    "id": "Zn54QvW327jR"
   },
   "source": [
    "## Amount_Gross_Order"
   ]
  },
  {
   "cell_type": "code",
   "execution_count": null,
   "metadata": {
    "colab": {
     "base_uri": "https://localhost:8080/"
    },
    "id": "0lVYMEPRwWvX",
    "outputId": "fbd89665-dc7f-4138-971c-d8da3a7de459"
   },
   "outputs": [
    {
     "data": {
      "text/plain": [
       "count    2.000000e+05\n",
       "mean     1.458204e+06\n",
       "std      5.450972e+06\n",
       "min      0.000000e+00\n",
       "25%      1.212730e+05\n",
       "50%      3.211010e+05\n",
       "75%      1.011032e+06\n",
       "max      1.530000e+09\n",
       "Name: Amount_Gross_Order, dtype: float64"
      ]
     },
     "execution_count": 5,
     "metadata": {
      "tags": []
     },
     "output_type": "execute_result"
    }
   ],
   "source": [
    "amount_gross_order_des = df_orders['Amount_Gross_Order'].describe()\n",
    "amount_gross_order_des"
   ]
  },
  {
   "cell_type": "code",
   "execution_count": null,
   "metadata": {
    "colab": {
     "base_uri": "https://localhost:8080/",
     "height": 294
    },
    "id": "imvcSBY52I_0",
    "outputId": "84baf0ca-6d2e-46f4-c831-a882970fd53b"
   },
   "outputs": [
    {
     "data": {
      "text/plain": [
       "<matplotlib.axes._subplots.AxesSubplot at 0x7f6a42cccc88>"
      ]
     },
     "execution_count": 6,
     "metadata": {
      "tags": []
     },
     "output_type": "execute_result"
    },
    {
     "data": {
      "image/png": "[encoded data removed]",
      "text/plain": [
       "<Figure size 432x288 with 1 Axes>"
      ]
     },
     "metadata": {
      "needs_background": "light",
      "tags": []
     },
     "output_type": "display_data"
    }
   ],
   "source": [
    "boxplot1 = df_orders[['Amount_Gross_Order']].boxplot()\n",
    "boxplot1"
   ]
  },
  {
   "cell_type": "markdown",
   "metadata": {
    "id": "cLblH6aKFHY-"
   },
   "source": [
    "removing the outliers of these two feature"
   ]
  },
  {
   "cell_type": "markdown",
   "metadata": {
    "id": "QiX1gfUnh9P4"
   },
   "source": [
    "**TODO** \\\\\n",
    "In this part, we store some atributes about our feature, such as Q1, Q2, Q3, mean, minimum and maximum."
   ]
  },
  {
   "cell_type": "code",
   "execution_count": null,
   "metadata": {
    "colab": {
     "base_uri": "https://localhost:8080/"
    },
    "id": "ltgYmRnsFbj_",
    "outputId": "d89111eb-671a-47bd-a7bc-2176cb43ab79"
   },
   "outputs": [
    {
     "data": {
      "text/plain": [
       "121273.0"
      ]
     },
     "execution_count": 7,
     "metadata": {
      "tags": []
     },
     "output_type": "execute_result"
    }
   ],
   "source": [
    "amount_gross_order_q1    =  amount_gross_order_des['25%']\n",
    "amount_gross_order_q2    =  amount_gross_order_des['50%']\n",
    "amount_gross_order_q3    =  amount_gross_order_des['75%']\n",
    "amount_gross_order_mean  =  amount_gross_order_des['mean']\n",
    "amount_gross_order_min   =  amount_gross_order_des['min']\n",
    "amount_gross_order_max   =  amount_gross_order_des['max']\n",
    "amount_gross_order_q1"
   ]
  },
  {
   "cell_type": "markdown",
   "metadata": {
    "id": "n4Hym4_GjTqM"
   },
   "source": [
    "\\\\\n",
    "Calulate the IQR of Amount_Gross_Order"
   ]
  },
  {
   "cell_type": "code",
   "execution_count": null,
   "metadata": {
    "colab": {
     "base_uri": "https://localhost:8080/"
    },
    "id": "sXG6XiD62Usi",
    "outputId": "59b19805-3133-4b04-8dde-c730ce4e807f"
   },
   "outputs": [
    {
     "name": "stdout",
     "output_type": "stream",
     "text": [
      "IQR of Amount_gross_Order feature =  889759.25\n"
     ]
    }
   ],
   "source": [
    "amount_gross_order_iqr = amount_gross_order_q3 - amount_gross_order_q1\n",
    "print(\"IQR of Amount_gross_Order feature = \", amount_gross_order_iqr)"
   ]
  },
  {
   "cell_type": "markdown",
   "metadata": {
    "id": "TG4Dz3jO6BO2"
   },
   "source": [
    "\\\\\n",
    "Code below caculate the top and bottom boundries, which define the ranges that includes outliers.\n",
    "\n",
    "* if value of a record for this feature is **less than or equal** to the ```amount_gross_outlier1``` variable, it will be considered as an outlier.\n",
    "* if value of a record for this feature is **greater than or equal** to the ```amount_gross_outlier2``` variable, it will be considered as an outlier."
   ]
  },
  {
   "cell_type": "code",
   "execution_count": null,
   "metadata": {
    "colab": {
     "base_uri": "https://localhost:8080/"
    },
    "id": "86huk7AJ6AJS",
    "outputId": "cc3ca78e-62ad-40c5-abbc-67ba6439cb28"
   },
   "outputs": [
    {
     "name": "stdout",
     "output_type": "stream",
     "text": [
      "outlier bottom boundry = 0.0\n",
      "outlier top boundry = 2345671.125\n"
     ]
    }
   ],
   "source": [
    "amount_gross_outlier1 = max(amount_gross_order_q1 - 1.5 * amount_gross_order_iqr, amount_gross_order_min)\n",
    "amount_gross_outlier2 = min(amount_gross_order_q3 + 1.5 * amount_gross_order_iqr, amount_gross_order_max)\n",
    "print(\"outlier bottom boundry = \" + str(amount_gross_outlier1))\n",
    "print(\"outlier top boundry = \" + str(amount_gross_outlier2))"
   ]
  },
  {
   "cell_type": "markdown",
   "metadata": {
    "id": "Yod7nLiBpIc8"
   },
   "source": [
    "\\\\\n",
    "In this part, we can see the rows of the data in which the value for the Amount_Gross_Order feature are outlier. \\\\\n",
    "As can be seen at the table below, there is 25563 record have outlier value for ```Amount_Gross_Order``` feature."
   ]
  },
  {
   "cell_type": "code",
   "execution_count": null,
   "metadata": {
    "colab": {
     "base_uri": "https://localhost:8080/",
     "height": 419
    },
    "id": "l3jhkYaKp7IO",
    "outputId": "bc399daa-53b2-4c6c-8dd2-d116e40b5ecd"
   },
   "outputs": [
    {
     "data": {
      "text/html": [
       "<div>\n",
       "<style scoped>\n",
       "    .dataframe tbody tr th:only-of-type {\n",
       "        vertical-align: middle;\n",
       "    }\n",
       "\n",
       "    .dataframe tbody tr th {\n",
       "        vertical-align: top;\n",
       "    }\n",
       "\n",
       "    .dataframe thead th {\n",
       "        text-align: right;\n",
       "    }\n",
       "</style>\n",
       "<table border=\"1\" class=\"dataframe\">\n",
       "  <thead>\n",
       "    <tr style=\"text-align: right;\">\n",
       "      <th></th>\n",
       "      <th>ID_Order</th>\n",
       "      <th>ID_Customer</th>\n",
       "      <th>ID_Item</th>\n",
       "      <th>DateTime_CartFinalize</th>\n",
       "      <th>Amount_Gross_Order</th>\n",
       "      <th>city_name_fa</th>\n",
       "      <th>Quantity_item</th>\n",
       "    </tr>\n",
       "  </thead>\n",
       "  <tbody>\n",
       "    <tr>\n",
       "      <th>7</th>\n",
       "      <td>11588978</td>\n",
       "      <td>5574955</td>\n",
       "      <td>715680</td>\n",
       "      <td>2018-03-04 19:19:02.000</td>\n",
       "      <td>2790000.0</td>\n",
       "      <td>رشت</td>\n",
       "      <td>1.0</td>\n",
       "    </tr>\n",
       "    <tr>\n",
       "      <th>9</th>\n",
       "      <td>10740652</td>\n",
       "      <td>4928230</td>\n",
       "      <td>658519</td>\n",
       "      <td>2018-01-23 06:11:34.000</td>\n",
       "      <td>2600000.0</td>\n",
       "      <td>خرمشهر</td>\n",
       "      <td>1.0</td>\n",
       "    </tr>\n",
       "    <tr>\n",
       "      <th>31</th>\n",
       "      <td>6049218</td>\n",
       "      <td>2975257</td>\n",
       "      <td>145505</td>\n",
       "      <td>2017-01-12 16:57:44.000</td>\n",
       "      <td>5340000.0</td>\n",
       "      <td>زنجان</td>\n",
       "      <td>1.0</td>\n",
       "    </tr>\n",
       "    <tr>\n",
       "      <th>35</th>\n",
       "      <td>1566382</td>\n",
       "      <td>702672</td>\n",
       "      <td>36610</td>\n",
       "      <td>2014-12-09 08:29:35.000</td>\n",
       "      <td>7838889.0</td>\n",
       "      <td>تهران</td>\n",
       "      <td>1.0</td>\n",
       "    </tr>\n",
       "    <tr>\n",
       "      <th>39</th>\n",
       "      <td>3701661</td>\n",
       "      <td>1482434</td>\n",
       "      <td>114137</td>\n",
       "      <td>2016-03-27 08:23:50.000</td>\n",
       "      <td>5954128.0</td>\n",
       "      <td>مبارکه</td>\n",
       "      <td>1.0</td>\n",
       "    </tr>\n",
       "    <tr>\n",
       "      <th>...</th>\n",
       "      <td>...</td>\n",
       "      <td>...</td>\n",
       "      <td>...</td>\n",
       "      <td>...</td>\n",
       "      <td>...</td>\n",
       "      <td>...</td>\n",
       "      <td>...</td>\n",
       "    </tr>\n",
       "    <tr>\n",
       "      <th>199963</th>\n",
       "      <td>23758528</td>\n",
       "      <td>3050804</td>\n",
       "      <td>1790541</td>\n",
       "      <td>2018-11-02 17:40:31.000</td>\n",
       "      <td>2350000.0</td>\n",
       "      <td>ابرکوه</td>\n",
       "      <td>1.0</td>\n",
       "    </tr>\n",
       "    <tr>\n",
       "      <th>199968</th>\n",
       "      <td>9177264</td>\n",
       "      <td>3348764</td>\n",
       "      <td>398310</td>\n",
       "      <td>2017-10-26 19:43:27.000</td>\n",
       "      <td>2770000.0</td>\n",
       "      <td>تهران</td>\n",
       "      <td>1.0</td>\n",
       "    </tr>\n",
       "    <tr>\n",
       "      <th>199978</th>\n",
       "      <td>9175447</td>\n",
       "      <td>491508</td>\n",
       "      <td>466714</td>\n",
       "      <td>2017-10-26 13:48:47.000</td>\n",
       "      <td>6601284.0</td>\n",
       "      <td>اصفهان</td>\n",
       "      <td>1.0</td>\n",
       "    </tr>\n",
       "    <tr>\n",
       "      <th>199985</th>\n",
       "      <td>6194722</td>\n",
       "      <td>483447</td>\n",
       "      <td>7108</td>\n",
       "      <td>2017-01-27 21:55:48.000</td>\n",
       "      <td>3623853.0</td>\n",
       "      <td>همدان</td>\n",
       "      <td>1.0</td>\n",
       "    </tr>\n",
       "    <tr>\n",
       "      <th>199988</th>\n",
       "      <td>11347656</td>\n",
       "      <td>5882546</td>\n",
       "      <td>556280</td>\n",
       "      <td>2018-02-23 10:44:40.000</td>\n",
       "      <td>4946606.0</td>\n",
       "      <td>هادی شهر</td>\n",
       "      <td>1.0</td>\n",
       "    </tr>\n",
       "  </tbody>\n",
       "</table>\n",
       "<p>25560 rows × 7 columns</p>\n",
       "</div>"
      ],
      "text/plain": [
       "        ID_Order  ID_Customer  ...  city_name_fa Quantity_item\n",
       "7       11588978      5574955  ...           رشت           1.0\n",
       "9       10740652      4928230  ...        خرمشهر           1.0\n",
       "31       6049218      2975257  ...         زنجان           1.0\n",
       "35       1566382       702672  ...         تهران           1.0\n",
       "39       3701661      1482434  ...        مبارکه           1.0\n",
       "...          ...          ...  ...           ...           ...\n",
       "199963  23758528      3050804  ...        ابرکوه           1.0\n",
       "199968   9177264      3348764  ...         تهران           1.0\n",
       "199978   9175447       491508  ...        اصفهان           1.0\n",
       "199985   6194722       483447  ...         همدان           1.0\n",
       "199988  11347656      5882546  ...      هادی شهر           1.0\n",
       "\n",
       "[25560 rows x 7 columns]"
      ]
     },
     "execution_count": 10,
     "metadata": {
      "tags": []
     },
     "output_type": "execute_result"
    }
   ],
   "source": [
    "df_orders.loc[(df_orders['Amount_Gross_Order'] < amount_gross_outlier1) | (df_orders['Amount_Gross_Order'] > amount_gross_outlier2)]"
   ]
  },
  {
   "cell_type": "code",
   "execution_count": null,
   "metadata": {
    "id": "4oT-F1cR8XyD"
   },
   "outputs": [],
   "source": [
    "x = df_orders.loc[(df_orders['Amount_Gross_Order'] >= amount_gross_outlier1) & (df_orders['Amount_Gross_Order'] <= amount_gross_outlier2)]"
   ]
  },
  {
   "cell_type": "code",
   "execution_count": null,
   "metadata": {
    "colab": {
     "base_uri": "https://localhost:8080/",
     "height": 294
    },
    "id": "_RQAuK1Y8dww",
    "outputId": "3e0571ea-38be-400f-b096-385fcd783fd2"
   },
   "outputs": [
    {
     "data": {
      "text/plain": [
       "<matplotlib.axes._subplots.AxesSubplot at 0x7f6a42793f60>"
      ]
     },
     "execution_count": 12,
     "metadata": {
      "tags": []
     },
     "output_type": "execute_result"
    },
    {
     "data": {
      "image/png": "[encoded data removed]",
      "text/plain": [
       "<Figure size 432x288 with 1 Axes>"
      ]
     },
     "metadata": {
      "needs_background": "light",
      "tags": []
     },
     "output_type": "display_data"
    }
   ],
   "source": [
    "x[['Amount_Gross_Order']].boxplot()"
   ]
  },
  {
   "cell_type": "markdown",
   "metadata": {
    "id": "Q_xz3XFc3WSj"
   },
   "source": [
    "\\\\\n",
    "\n",
    "## Quantity_item"
   ]
  },
  {
   "cell_type": "code",
   "execution_count": null,
   "metadata": {
    "colab": {
     "base_uri": "https://localhost:8080/"
    },
    "id": "a4HY2QYk1GX7",
    "outputId": "76454f13-a7dd-45e1-a494-48f8202b89ea"
   },
   "outputs": [
    {
     "data": {
      "text/plain": [
       "count    200000.000000\n",
       "mean          1.261225\n",
       "std           1.801186\n",
       "min           1.000000\n",
       "25%           1.000000\n",
       "50%           1.000000\n",
       "75%           1.000000\n",
       "max         500.000000\n",
       "Name: Quantity_item, dtype: float64"
      ]
     },
     "execution_count": 13,
     "metadata": {
      "tags": []
     },
     "output_type": "execute_result"
    }
   ],
   "source": [
    "quantity_item_des = df_orders['Quantity_item'].describe()\n",
    "quantity_item_des"
   ]
  },
  {
   "cell_type": "code",
   "execution_count": null,
   "metadata": {
    "colab": {
     "base_uri": "https://localhost:8080/",
     "height": 283
    },
    "id": "7JoZP2-j9-nu",
    "outputId": "5ccf426b-e27d-42a5-d4b9-295579caaceb"
   },
   "outputs": [
    {
     "data": {
      "text/plain": [
       "<matplotlib.axes._subplots.AxesSubplot at 0x7f6a414b1898>"
      ]
     },
     "execution_count": 14,
     "metadata": {
      "tags": []
     },
     "output_type": "execute_result"
    },
    {
     "data": {
      "image/png": "[encoded data removed]",
      "text/plain": [
       "<Figure size 432x288 with 1 Axes>"
      ]
     },
     "metadata": {
      "needs_background": "light",
      "tags": []
     },
     "output_type": "display_data"
    }
   ],
   "source": [
    "df_orders[['Quantity_item']].boxplot()"
   ]
  },
  {
   "cell_type": "markdown",
   "metadata": {
    "id": "e8vv7gRJ9-nx"
   },
   "source": [
    "removing the outliers of these two feature"
   ]
  },
  {
   "cell_type": "markdown",
   "metadata": {
    "id": "AWD6d5bi9-nx"
   },
   "source": [
    "**TODO** \\\\\n",
    "In this part, we store some atributes about our feature, such as Q1, Q2, Q3, mean, minimum and maximum."
   ]
  },
  {
   "cell_type": "code",
   "execution_count": null,
   "metadata": {
    "colab": {
     "base_uri": "https://localhost:8080/"
    },
    "id": "_pJngL2o9-nx",
    "outputId": "5e761923-5c1f-459d-d53f-bd9040c7f534"
   },
   "outputs": [
    {
     "data": {
      "text/plain": [
       "1.0"
      ]
     },
     "execution_count": 15,
     "metadata": {
      "tags": []
     },
     "output_type": "execute_result"
    }
   ],
   "source": [
    "quantity_item_q2    =   quantity_item_des['50%']\n",
    "quantity_item_q1    =   quantity_item_des['25%']\n",
    "quantity_item_q3    =   quantity_item_des['75%']\n",
    "quantity_item_mean  =   quantity_item_des['mean']\n",
    "quantity_item_min   =   quantity_item_des['min']\n",
    "quantity_item_max   =   quantity_item_des['max']\n",
    "quantity_item_q1"
   ]
  },
  {
   "cell_type": "markdown",
   "metadata": {
    "id": "PJ0Ho6CT9-ny"
   },
   "source": [
    "\\\\\n",
    "Calulate the IQR of Quantity_item"
   ]
  },
  {
   "cell_type": "code",
   "execution_count": null,
   "metadata": {
    "colab": {
     "base_uri": "https://localhost:8080/"
    },
    "id": "Q2qZgl4P9-ny",
    "outputId": "94622fff-2ff0-4331-b447-ba547d9dd501"
   },
   "outputs": [
    {
     "name": "stdout",
     "output_type": "stream",
     "text": [
      "IQR of Quantity_item feature =  0.0\n"
     ]
    }
   ],
   "source": [
    "quantity_item_iqr = quantity_item_q3 - quantity_item_q1\n",
    "print(\"IQR of Quantity_item feature = \", quantity_item_iqr)"
   ]
  },
  {
   "cell_type": "markdown",
   "metadata": {
    "id": "PQdw-iwn9-ny"
   },
   "source": [
    "\\\\\n",
    "Code below caculate the top and bottom boundries, which define the ranges that includes outliers.\n",
    "\n",
    "* if value of a record for this feature is **less than or equal** to the ```quantity_item_outlier1``` variable, it will be considered as an outlier.\n",
    "* if value of a record for this feature is **greater than or equal** to the ```quantity_item_outlier2``` variable, it will be considered as an outlier."
   ]
  },
  {
   "cell_type": "code",
   "execution_count": null,
   "metadata": {
    "colab": {
     "base_uri": "https://localhost:8080/"
    },
    "id": "kLBRUovb9-ny",
    "outputId": "9247b6e4-b2c7-4b62-ef45-62b951c58f4b"
   },
   "outputs": [
    {
     "name": "stdout",
     "output_type": "stream",
     "text": [
      "outlier bottom boundry = 1.0\n",
      "outlier top boundry = 1.0\n"
     ]
    }
   ],
   "source": [
    "quantity_item_outlier1 = max(quantity_item_q1 - 1.5 * quantity_item_iqr, quantity_item_min)\n",
    "quantity_item_outlier2 = min(quantity_item_q3 + 1.5 * quantity_item_iqr, quantity_item_max)\n",
    "print(\"outlier bottom boundry = \" + str(quantity_item_outlier1))\n",
    "print(\"outlier top boundry = \" + str(quantity_item_outlier2))"
   ]
  },
  {
   "cell_type": "markdown",
   "metadata": {
    "id": "IdUbzaFn9-ny"
   },
   "source": [
    "\\\\\n",
    "In this part, we can see the rows of the data in which the value for the Amount_Gross_Order feature are outlier. \\\\\n",
    "As can be seen at the table below, there is 24403 record have outlier value for ```Amount_Gross_Order``` feature."
   ]
  },
  {
   "cell_type": "code",
   "execution_count": null,
   "metadata": {
    "colab": {
     "base_uri": "https://localhost:8080/",
     "height": 419
    },
    "id": "BuIjh-ie9-ny",
    "outputId": "cff2514e-6c6b-433a-baeb-33f08aae1097"
   },
   "outputs": [
    {
     "data": {
      "text/html": [
       "<div>\n",
       "<style scoped>\n",
       "    .dataframe tbody tr th:only-of-type {\n",
       "        vertical-align: middle;\n",
       "    }\n",
       "\n",
       "    .dataframe tbody tr th {\n",
       "        vertical-align: top;\n",
       "    }\n",
       "\n",
       "    .dataframe thead th {\n",
       "        text-align: right;\n",
       "    }\n",
       "</style>\n",
       "<table border=\"1\" class=\"dataframe\">\n",
       "  <thead>\n",
       "    <tr style=\"text-align: right;\">\n",
       "      <th></th>\n",
       "      <th>ID_Order</th>\n",
       "      <th>ID_Customer</th>\n",
       "      <th>ID_Item</th>\n",
       "      <th>DateTime_CartFinalize</th>\n",
       "      <th>Amount_Gross_Order</th>\n",
       "      <th>city_name_fa</th>\n",
       "      <th>Quantity_item</th>\n",
       "    </tr>\n",
       "  </thead>\n",
       "  <tbody>\n",
       "    <tr>\n",
       "      <th>16</th>\n",
       "      <td>23062506</td>\n",
       "      <td>7193109</td>\n",
       "      <td>1656648</td>\n",
       "      <td>2018-10-04 17:48:12.000</td>\n",
       "      <td>229000.0</td>\n",
       "      <td>تهران</td>\n",
       "      <td>2.0</td>\n",
       "    </tr>\n",
       "    <tr>\n",
       "      <th>18</th>\n",
       "      <td>23693949</td>\n",
       "      <td>3665022</td>\n",
       "      <td>1671745</td>\n",
       "      <td>2018-10-30 22:15:15.000</td>\n",
       "      <td>73211.0</td>\n",
       "      <td>کرج</td>\n",
       "      <td>3.0</td>\n",
       "    </tr>\n",
       "    <tr>\n",
       "      <th>20</th>\n",
       "      <td>6156363</td>\n",
       "      <td>3549803</td>\n",
       "      <td>193926</td>\n",
       "      <td>2017-01-24 03:05:35.000</td>\n",
       "      <td>41284.0</td>\n",
       "      <td>تهران</td>\n",
       "      <td>3.0</td>\n",
       "    </tr>\n",
       "    <tr>\n",
       "      <th>44</th>\n",
       "      <td>23634499</td>\n",
       "      <td>5196834</td>\n",
       "      <td>1157587</td>\n",
       "      <td>2018-10-28 16:07:17.000</td>\n",
       "      <td>142982.0</td>\n",
       "      <td>تهران</td>\n",
       "      <td>3.0</td>\n",
       "    </tr>\n",
       "    <tr>\n",
       "      <th>50</th>\n",
       "      <td>8186946</td>\n",
       "      <td>5356355</td>\n",
       "      <td>395337</td>\n",
       "      <td>2017-08-12 11:10:35.000</td>\n",
       "      <td>1950000.0</td>\n",
       "      <td>قائم شهر</td>\n",
       "      <td>2.0</td>\n",
       "    </tr>\n",
       "    <tr>\n",
       "      <th>...</th>\n",
       "      <td>...</td>\n",
       "      <td>...</td>\n",
       "      <td>...</td>\n",
       "      <td>...</td>\n",
       "      <td>...</td>\n",
       "      <td>...</td>\n",
       "      <td>...</td>\n",
       "    </tr>\n",
       "    <tr>\n",
       "      <th>199980</th>\n",
       "      <td>11350514</td>\n",
       "      <td>3708020</td>\n",
       "      <td>483145</td>\n",
       "      <td>2018-02-23 13:42:20.000</td>\n",
       "      <td>279817.0</td>\n",
       "      <td>تهران</td>\n",
       "      <td>4.0</td>\n",
       "    </tr>\n",
       "    <tr>\n",
       "      <th>199986</th>\n",
       "      <td>22105540</td>\n",
       "      <td>4343929</td>\n",
       "      <td>738895</td>\n",
       "      <td>2018-08-30 09:42:40.000</td>\n",
       "      <td>192156.0</td>\n",
       "      <td>تهران</td>\n",
       "      <td>2.0</td>\n",
       "    </tr>\n",
       "    <tr>\n",
       "      <th>199989</th>\n",
       "      <td>8320537</td>\n",
       "      <td>659553</td>\n",
       "      <td>192749</td>\n",
       "      <td>2017-08-24 11:38:29.000</td>\n",
       "      <td>37798.0</td>\n",
       "      <td>تهران</td>\n",
       "      <td>24.0</td>\n",
       "    </tr>\n",
       "    <tr>\n",
       "      <th>199992</th>\n",
       "      <td>7717838</td>\n",
       "      <td>4625961</td>\n",
       "      <td>313451</td>\n",
       "      <td>2017-07-01 01:49:29.000</td>\n",
       "      <td>504587.0</td>\n",
       "      <td>اراک</td>\n",
       "      <td>5.0</td>\n",
       "    </tr>\n",
       "    <tr>\n",
       "      <th>199995</th>\n",
       "      <td>12172771</td>\n",
       "      <td>4403268</td>\n",
       "      <td>445940</td>\n",
       "      <td>2018-04-03 12:07:01.000</td>\n",
       "      <td>344037.0</td>\n",
       "      <td>تهران</td>\n",
       "      <td>2.0</td>\n",
       "    </tr>\n",
       "  </tbody>\n",
       "</table>\n",
       "<p>24403 rows × 7 columns</p>\n",
       "</div>"
      ],
      "text/plain": [
       "        ID_Order  ID_Customer  ...  city_name_fa Quantity_item\n",
       "16      23062506      7193109  ...         تهران           2.0\n",
       "18      23693949      3665022  ...           کرج           3.0\n",
       "20       6156363      3549803  ...         تهران           3.0\n",
       "44      23634499      5196834  ...         تهران           3.0\n",
       "50       8186946      5356355  ...      قائم شهر           2.0\n",
       "...          ...          ...  ...           ...           ...\n",
       "199980  11350514      3708020  ...         تهران           4.0\n",
       "199986  22105540      4343929  ...         تهران           2.0\n",
       "199989   8320537       659553  ...         تهران          24.0\n",
       "199992   7717838      4625961  ...          اراک           5.0\n",
       "199995  12172771      4403268  ...         تهران           2.0\n",
       "\n",
       "[24403 rows x 7 columns]"
      ]
     },
     "execution_count": 18,
     "metadata": {
      "tags": []
     },
     "output_type": "execute_result"
    }
   ],
   "source": [
    "df_orders.loc[(df_orders['Quantity_item'] < quantity_item_outlier1) | (df_orders['Quantity_item'] > quantity_item_outlier2)]"
   ]
  },
  {
   "cell_type": "code",
   "execution_count": null,
   "metadata": {
    "id": "Z_POQN899-nz"
   },
   "outputs": [],
   "source": [
    "x = df_orders.loc[(df_orders['Quantity_item'] >= quantity_item_outlier1) & (df_orders['Quantity_item'] <= quantity_item_outlier2)]"
   ]
  },
  {
   "cell_type": "code",
   "execution_count": null,
   "metadata": {
    "colab": {
     "base_uri": "https://localhost:8080/",
     "height": 283
    },
    "id": "WJ5QLjSK9-nz",
    "outputId": "7b5e3095-146d-45a2-b64a-9dcafe11450f"
   },
   "outputs": [
    {
     "data": {
      "text/plain": [
       "<matplotlib.axes._subplots.AxesSubplot at 0x7f6a4143bd68>"
      ]
     },
     "execution_count": 20,
     "metadata": {
      "tags": []
     },
     "output_type": "execute_result"
    },
    {
     "data": {
      "image/png": "[encoded data removed]",
      "text/plain": [
       "<Figure size 432x288 with 1 Axes>"
      ]
     },
     "metadata": {
      "needs_background": "light",
      "tags": []
     },
     "output_type": "display_data"
    }
   ],
   "source": [
    "x[['Quantity_item']].boxplot()"
   ]
  },
  {
   "cell_type": "markdown",
   "metadata": {
    "id": "P__Zw019D7SU"
   },
   "source": [
    "\\\\\n",
    "#**comment dataset** \n",
    "This dataset has no numeric feature."
   ]
  },
  {
   "cell_type": "code",
   "execution_count": null,
   "metadata": {
    "colab": {
     "base_uri": "https://localhost:8080/",
     "height": 419
    },
    "id": "Ps64ed9lEgro",
    "outputId": "b984839e-9fc0-4631-b440-2ff2049443ab"
   },
   "outputs": [
    {
     "data": {
      "text/html": [
       "<div>\n",
       "<style scoped>\n",
       "    .dataframe tbody tr th:only-of-type {\n",
       "        vertical-align: middle;\n",
       "    }\n",
       "\n",
       "    .dataframe tbody tr th {\n",
       "        vertical-align: top;\n",
       "    }\n",
       "\n",
       "    .dataframe thead th {\n",
       "        text-align: right;\n",
       "    }\n",
       "</style>\n",
       "<table border=\"1\" class=\"dataframe\">\n",
       "  <thead>\n",
       "    <tr style=\"text-align: right;\">\n",
       "      <th></th>\n",
       "      <th>product_id</th>\n",
       "      <th>confirmed_at</th>\n",
       "      <th>comment</th>\n",
       "    </tr>\n",
       "  </thead>\n",
       "  <tbody>\n",
       "    <tr>\n",
       "      <th>0</th>\n",
       "      <td>90213</td>\n",
       "      <td>2018-08-23 11:05:47</td>\n",
       "      <td>سلام، قبل اینکه نظرم رو بگم میخواستم به یک موض...</td>\n",
       "    </tr>\n",
       "    <tr>\n",
       "      <th>1</th>\n",
       "      <td>56871</td>\n",
       "      <td>2018-08-23 10:21:53</td>\n",
       "      <td>بوی تند ولی خوشبو داره.ماندگاریش خوبه و هر چقد...</td>\n",
       "    </tr>\n",
       "    <tr>\n",
       "      <th>2</th>\n",
       "      <td>49738</td>\n",
       "      <td>2018-10-13 11:13:39</td>\n",
       "      <td>متاسفانه عمر مفید این ماشین کم هست و بعد از دو...</td>\n",
       "    </tr>\n",
       "    <tr>\n",
       "      <th>3</th>\n",
       "      <td>134367</td>\n",
       "      <td>2018-10-17 11:27:57</td>\n",
       "      <td>افا از وقتی من اینو واسه پسرم خریدم همه بچه ها...</td>\n",
       "    </tr>\n",
       "    <tr>\n",
       "      <th>4</th>\n",
       "      <td>151402</td>\n",
       "      <td>2018-08-23 10:28:47</td>\n",
       "      <td>این تیغ محصول کشور آمریکا هست ( در عکس محصول م...</td>\n",
       "    </tr>\n",
       "    <tr>\n",
       "      <th>...</th>\n",
       "      <td>...</td>\n",
       "      <td>...</td>\n",
       "      <td>...</td>\n",
       "    </tr>\n",
       "    <tr>\n",
       "      <th>100003</th>\n",
       "      <td>104998</td>\n",
       "      <td>2018-07-09 21:27:12</td>\n",
       "      <td>قیمت مناسبی داره در حال حاضر . با این پول سخت ...</td>\n",
       "    </tr>\n",
       "    <tr>\n",
       "      <th>100004</th>\n",
       "      <td>333389</td>\n",
       "      <td>2018-07-09 21:26:52</td>\n",
       "      <td>در کل راضیم درسته لنوو با قیمت پایین تر هسته و...</td>\n",
       "    </tr>\n",
       "    <tr>\n",
       "      <th>100005</th>\n",
       "      <td>356546</td>\n",
       "      <td>2018-07-09 21:26:30</td>\n",
       "      <td>من این محصول رو از بیرون تهیه کردم . و باید بگ...</td>\n",
       "    </tr>\n",
       "    <tr>\n",
       "      <th>100006</th>\n",
       "      <td>33874</td>\n",
       "      <td>2018-07-09 21:26:12</td>\n",
       "      <td>دوسال و.نیم پیش از دیجی کالا گرفتم. هنوز مثل ر...</td>\n",
       "    </tr>\n",
       "    <tr>\n",
       "      <th>100007</th>\n",
       "      <td>318278</td>\n",
       "      <td>2018-07-09 21:26:02</td>\n",
       "      <td>با استفاده از این شامپو مشکل خشکی مو و پوست سر...</td>\n",
       "    </tr>\n",
       "  </tbody>\n",
       "</table>\n",
       "<p>100008 rows × 3 columns</p>\n",
       "</div>"
      ],
      "text/plain": [
       "        product_id  ...                                            comment\n",
       "0            90213  ...  سلام، قبل اینکه نظرم رو بگم میخواستم به یک موض...\n",
       "1            56871  ...  بوی تند ولی خوشبو داره.ماندگاریش خوبه و هر چقد...\n",
       "2            49738  ...  متاسفانه عمر مفید این ماشین کم هست و بعد از دو...\n",
       "3           134367  ...  افا از وقتی من اینو واسه پسرم خریدم همه بچه ها...\n",
       "4           151402  ...  این تیغ محصول کشور آمریکا هست ( در عکس محصول م...\n",
       "...            ...  ...                                                ...\n",
       "100003      104998  ...  قیمت مناسبی داره در حال حاضر . با این پول سخت ...\n",
       "100004      333389  ...  در کل راضیم درسته لنوو با قیمت پایین تر هسته و...\n",
       "100005      356546  ...  من این محصول رو از بیرون تهیه کردم . و باید بگ...\n",
       "100006       33874  ...  دوسال و.نیم پیش از دیجی کالا گرفتم. هنوز مثل ر...\n",
       "100007      318278  ...  با استفاده از این شامپو مشکل خشکی مو و پوست سر...\n",
       "\n",
       "[100008 rows x 3 columns]"
      ]
     },
     "execution_count": 21,
     "metadata": {
      "tags": []
     },
     "output_type": "execute_result"
    }
   ],
   "source": [
    "df_comments = pd.read_excel('comment.xlsx')\n",
    "df_comments"
   ]
  },
  {
   "cell_type": "markdown",
   "metadata": {
    "id": "qAP-ByXFFAiQ"
   },
   "source": []
  },
  {
   "cell_type": "markdown",
   "metadata": {
    "id": "zI1BF9PjFB8D"
   },
   "source": [
    "\\\\\n",
    "#**keifiat dataset**"
   ]
  },
  {
   "cell_type": "code",
   "execution_count": null,
   "metadata": {
    "colab": {
     "base_uri": "https://localhost:8080/",
     "height": 742
    },
    "id": "NGBs_7ssFJ_9",
    "outputId": "39e23307-dd1b-48ef-a63a-9ba029eb375b"
   },
   "outputs": [
    {
     "data": {
      "text/html": [
       "<div>\n",
       "<style scoped>\n",
       "    .dataframe tbody tr th:only-of-type {\n",
       "        vertical-align: middle;\n",
       "    }\n",
       "\n",
       "    .dataframe tbody tr th {\n",
       "        vertical-align: top;\n",
       "    }\n",
       "\n",
       "    .dataframe thead th {\n",
       "        text-align: right;\n",
       "    }\n",
       "</style>\n",
       "<table border=\"1\" class=\"dataframe\">\n",
       "  <thead>\n",
       "    <tr style=\"text-align: right;\">\n",
       "      <th></th>\n",
       "      <th>product_id</th>\n",
       "      <th>product_title</th>\n",
       "      <th>title_en</th>\n",
       "      <th>user_id</th>\n",
       "      <th>likes</th>\n",
       "      <th>dislikes</th>\n",
       "      <th>verification_status</th>\n",
       "      <th>recommend</th>\n",
       "      <th>title</th>\n",
       "      <th>comment</th>\n",
       "      <th>advantages</th>\n",
       "      <th>disadvantages</th>\n",
       "    </tr>\n",
       "  </thead>\n",
       "  <tbody>\n",
       "    <tr>\n",
       "      <th>0</th>\n",
       "      <td>3692</td>\n",
       "      <td>ماوس بی‌سیم لاجیتک مدل M325</td>\n",
       "      <td>IT</td>\n",
       "      <td>989472</td>\n",
       "      <td>0</td>\n",
       "      <td>0</td>\n",
       "      <td>verified</td>\n",
       "      <td>\\N</td>\n",
       "      <td>NaN</td>\n",
       "      <td>واقعا عالیه. من که ازش خیلی راضیم</td>\n",
       "      <td>NaN</td>\n",
       "      <td>NaN</td>\n",
       "    </tr>\n",
       "    <tr>\n",
       "      <th>1</th>\n",
       "      <td>90213</td>\n",
       "      <td>شارژر همراه شیاومی مدل NDY-02-AN با ظرفیت 1000...</td>\n",
       "      <td>AC</td>\n",
       "      <td>3862150</td>\n",
       "      <td>4</td>\n",
       "      <td>1</td>\n",
       "      <td>verified</td>\n",
       "      <td>recommended</td>\n",
       "      <td>واقعاً عالیه</td>\n",
       "      <td>سلام، قبل اینکه نظرم رو بگم میخواستم به یک موض...</td>\n",
       "      <td>[\"عمر طولانی\\r\",\"افت بسیار کم میزان شارژ\\r\",\"ا...</td>\n",
       "      <td>[\"ندارد\"]</td>\n",
       "    </tr>\n",
       "    <tr>\n",
       "      <th>2</th>\n",
       "      <td>59473</td>\n",
       "      <td>یدک پولیشر میکروفایبر مهسان مدل 20119</td>\n",
       "      <td>HW</td>\n",
       "      <td>626843</td>\n",
       "      <td>1</td>\n",
       "      <td>0</td>\n",
       "      <td>verified</td>\n",
       "      <td>not_recommended</td>\n",
       "      <td>خیلی سخت حوله اش در میاد</td>\n",
       "      <td>گیره های فلزی خیلی سخت تا میشوند و لذا حوله را...</td>\n",
       "      <td>NaN</td>\n",
       "      <td>NaN</td>\n",
       "    </tr>\n",
       "    <tr>\n",
       "      <th>3</th>\n",
       "      <td>120499</td>\n",
       "      <td>گوشی موبایل هوآوی آنر مدل 5X KIW-L21 دو سیم‌کارت</td>\n",
       "      <td>MO</td>\n",
       "      <td>786887</td>\n",
       "      <td>6</td>\n",
       "      <td>11</td>\n",
       "      <td>verified</td>\n",
       "      <td>no_idea</td>\n",
       "      <td>گوشی مقرون به صرفه</td>\n",
       "      <td>همه چیز در رابطه با ظاهر این گوشی بسیار خوب اس...</td>\n",
       "      <td>[\"صفحه نمایش پرنور و با کیفیت\\r\",\"کیفیت بالای ...</td>\n",
       "      <td>[\"کیفیت پایین اسپیکر\\r\",\"حاشیه خالی زیر صفحه ن...</td>\n",
       "    </tr>\n",
       "    <tr>\n",
       "      <th>4</th>\n",
       "      <td>67200</td>\n",
       "      <td>شارژر همراه شیائومی مدل Mi ظرفیت 5000 میلی آمپ...</td>\n",
       "      <td>AC</td>\n",
       "      <td>854531</td>\n",
       "      <td>19</td>\n",
       "      <td>4</td>\n",
       "      <td>verified</td>\n",
       "      <td>no_idea</td>\n",
       "      <td>ابعاد، استحکام و نگهداری شارژ مناسب</td>\n",
       "      <td>اگر ظرفیتش براتون کافیه حتما بخرید.\\r\\nیه شارژ...</td>\n",
       "      <td>[\"ظریف و زیبا و باریک\\r\",\"بدنه محکم و با دوام\"]</td>\n",
       "      <td>[\"ظرفیت متوسط\"]</td>\n",
       "    </tr>\n",
       "    <tr>\n",
       "      <th>...</th>\n",
       "      <td>...</td>\n",
       "      <td>...</td>\n",
       "      <td>...</td>\n",
       "      <td>...</td>\n",
       "      <td>...</td>\n",
       "      <td>...</td>\n",
       "      <td>...</td>\n",
       "      <td>...</td>\n",
       "      <td>...</td>\n",
       "      <td>...</td>\n",
       "      <td>...</td>\n",
       "      <td>...</td>\n",
       "    </tr>\n",
       "    <tr>\n",
       "      <th>99995</th>\n",
       "      <td>549845</td>\n",
       "      <td>شید آباژور آرام مدل SH45/01</td>\n",
       "      <td>TC</td>\n",
       "      <td>4979401</td>\n",
       "      <td>0</td>\n",
       "      <td>0</td>\n",
       "      <td>verified</td>\n",
       "      <td>recommended</td>\n",
       "      <td>بسیار تمیز و زیبا</td>\n",
       "      <td>بسیار تمیز و زیبا...من که خیلی راضیم</td>\n",
       "      <td>[\"کاملا مطابق با عکس\\r\",\"ساخت بسیار تمیز\"]</td>\n",
       "      <td>[\"ندارد\"]</td>\n",
       "    </tr>\n",
       "    <tr>\n",
       "      <th>99996</th>\n",
       "      <td>784160</td>\n",
       "      <td>کفش مخصوص دویدن مردانه و زنانه آلبرتینی مدل دا...</td>\n",
       "      <td>FA</td>\n",
       "      <td>1066034</td>\n",
       "      <td>7</td>\n",
       "      <td>32</td>\n",
       "      <td>verified</td>\n",
       "      <td>\\N</td>\n",
       "      <td>توصیه به خرید میکنم</td>\n",
       "      <td>من این کفش را برای پیاده روی اربعین خریدم از ی...</td>\n",
       "      <td>[\"سبک زیبا ارزان \"]</td>\n",
       "      <td>[\"محل عبور بند کفش ها ایراد دارد\"]</td>\n",
       "    </tr>\n",
       "    <tr>\n",
       "      <th>99997</th>\n",
       "      <td>820985</td>\n",
       "      <td>واکس کفش ساتل مدل 20 حجم 60 میلی لیتر</td>\n",
       "      <td>FA</td>\n",
       "      <td>568208</td>\n",
       "      <td>0</td>\n",
       "      <td>0</td>\n",
       "      <td>verified</td>\n",
       "      <td>recommended</td>\n",
       "      <td>خوبه و غلیظه</td>\n",
       "      <td>واکس خوبیه..</td>\n",
       "      <td>[\"روغنیه\"]</td>\n",
       "      <td>[\"ندیدم\"]</td>\n",
       "    </tr>\n",
       "    <tr>\n",
       "      <th>99998</th>\n",
       "      <td>678073</td>\n",
       "      <td>کش رنگی مدادچوبی مدل 010 بسته 100</td>\n",
       "      <td>TC</td>\n",
       "      <td>981594</td>\n",
       "      <td>2</td>\n",
       "      <td>1</td>\n",
       "      <td>verified</td>\n",
       "      <td>no_idea</td>\n",
       "      <td>سلام</td>\n",
       "      <td>هیچ کدوم از این رنگهای که توی عکسه داخل بسته ن...</td>\n",
       "      <td>NaN</td>\n",
       "      <td>NaN</td>\n",
       "    </tr>\n",
       "    <tr>\n",
       "      <th>99999</th>\n",
       "      <td>451791</td>\n",
       "      <td>ماژیک علامت گذار 6 رنگ اسکای مدل S-905</td>\n",
       "      <td>MA</td>\n",
       "      <td>3397901</td>\n",
       "      <td>0</td>\n",
       "      <td>0</td>\n",
       "      <td>verified</td>\n",
       "      <td>no_idea</td>\n",
       "      <td>مارکر</td>\n",
       "      <td>من خریدم و راضی بودم ولی متاسفانه یکی از مارکر...</td>\n",
       "      <td>NaN</td>\n",
       "      <td>NaN</td>\n",
       "    </tr>\n",
       "  </tbody>\n",
       "</table>\n",
       "<p>100000 rows × 12 columns</p>\n",
       "</div>"
      ],
      "text/plain": [
       "       product_id  ...                                      disadvantages\n",
       "0            3692  ...                                                NaN\n",
       "1           90213  ...                                          [\"ندارد\"]\n",
       "2           59473  ...                                                NaN\n",
       "3          120499  ...  [\"کیفیت پایین اسپیکر\\r\",\"حاشیه خالی زیر صفحه ن...\n",
       "4           67200  ...                                    [\"ظرفیت متوسط\"]\n",
       "...           ...  ...                                                ...\n",
       "99995      549845  ...                                          [\"ندارد\"]\n",
       "99996      784160  ...                 [\"محل عبور بند کفش ها ایراد دارد\"]\n",
       "99997      820985  ...                                          [\"ندیدم\"]\n",
       "99998      678073  ...                                                NaN\n",
       "99999      451791  ...                                                NaN\n",
       "\n",
       "[100000 rows x 12 columns]"
      ]
     },
     "execution_count": 22,
     "metadata": {
      "tags": []
     },
     "output_type": "execute_result"
    }
   ],
   "source": [
    "df_keifiat = pd.read_excel('keifiat.xlsx')\n",
    "df_keifiat"
   ]
  },
  {
   "cell_type": "markdown",
   "metadata": {
    "id": "PJ05q8LYGYe0"
   },
   "source": [
    "## likes"
   ]
  },
  {
   "cell_type": "code",
   "execution_count": null,
   "metadata": {
    "colab": {
     "base_uri": "https://localhost:8080/"
    },
    "id": "LI-AQelCGYe1",
    "outputId": "a8dcd64f-a8a4-4ad5-e09a-be08a4f4e756"
   },
   "outputs": [
    {
     "data": {
      "text/plain": [
       "count    100000.000000\n",
       "mean          3.114790\n",
       "std           8.050031\n",
       "min           0.000000\n",
       "25%           0.000000\n",
       "50%           1.000000\n",
       "75%           4.000000\n",
       "max         854.000000\n",
       "Name: likes, dtype: float64"
      ]
     },
     "execution_count": 23,
     "metadata": {
      "tags": []
     },
     "output_type": "execute_result"
    }
   ],
   "source": [
    "likes_des = df_keifiat['likes'].describe()\n",
    "likes_des"
   ]
  },
  {
   "cell_type": "code",
   "execution_count": null,
   "metadata": {
    "colab": {
     "base_uri": "https://localhost:8080/",
     "height": 282
    },
    "id": "qyRWIPhOGYe3",
    "outputId": "0e35fee7-4b8b-462b-ad00-0567b36cf95c"
   },
   "outputs": [
    {
     "data": {
      "text/plain": [
       "<matplotlib.axes._subplots.AxesSubplot at 0x7f6a42793a90>"
      ]
     },
     "execution_count": 24,
     "metadata": {
      "tags": []
     },
     "output_type": "execute_result"
    },
    {
     "data": {
      "image/png": "[encoded data removed]",
      "text/plain": [
       "<Figure size 432x288 with 1 Axes>"
      ]
     },
     "metadata": {
      "needs_background": "light",
      "tags": []
     },
     "output_type": "display_data"
    }
   ],
   "source": [
    "df_keifiat[['likes']].boxplot()"
   ]
  },
  {
   "cell_type": "markdown",
   "metadata": {
    "id": "Ab2OpMmtGYe3"
   },
   "source": [
    "removing the outliers of these two feature"
   ]
  },
  {
   "cell_type": "markdown",
   "metadata": {
    "id": "bLy0KEdwGYe3"
   },
   "source": [
    "**TODO** \\\\\n",
    "In this part, we store some atributes about our feature, such as Q1, Q2, Q3, mean, minimum and maximum."
   ]
  },
  {
   "cell_type": "code",
   "execution_count": null,
   "metadata": {
    "id": "HtfAVLdDGYe3"
   },
   "outputs": [],
   "source": [
    "likes_q1    =  likes_des['25%']\n",
    "likes_q2    =  likes_des['50%']\n",
    "likes_q3    =  likes_des['75%']\n",
    "likes_mean  =  likes_des['mean']\n",
    "likes_min   =  likes_des['min']\n",
    "likes_max   =  likes_des['max']"
   ]
  },
  {
   "cell_type": "markdown",
   "metadata": {
    "id": "yJpnMQWeGYe4"
   },
   "source": [
    "\\\\\n",
    "Calulate the IQR of likes"
   ]
  },
  {
   "cell_type": "code",
   "execution_count": null,
   "metadata": {
    "colab": {
     "base_uri": "https://localhost:8080/"
    },
    "id": "hY772jN9GYe4",
    "outputId": "ce608ea8-74f5-4e9e-9f9f-ab49b35bd7e3"
   },
   "outputs": [
    {
     "name": "stdout",
     "output_type": "stream",
     "text": [
      "IQR of likes feature =  4.0\n"
     ]
    }
   ],
   "source": [
    "likes_iqr = likes_q3 - likes_q1\n",
    "print(\"IQR of likes feature = \", likes_iqr)"
   ]
  },
  {
   "cell_type": "markdown",
   "metadata": {
    "id": "eUFt53WWGYe4"
   },
   "source": [
    "\\\\\n",
    "Code below caculate the top and bottom boundries, which define the ranges that includes outliers.\n",
    "\n",
    "* if value of a record for this feature is **less than or equal** to the ```likes_outlier1``` variable, it will be considered as an outlier.\n",
    "* if value of a record for this feature is **greater than or equal** to the ```likes_outlier2``` variable, it will be considered as an outlier."
   ]
  },
  {
   "cell_type": "code",
   "execution_count": null,
   "metadata": {
    "colab": {
     "base_uri": "https://localhost:8080/"
    },
    "id": "vTZteoUZGYe4",
    "outputId": "ebe5971f-6c15-475b-eb86-7165ef83f218"
   },
   "outputs": [
    {
     "name": "stdout",
     "output_type": "stream",
     "text": [
      "outlier bottom boundry = 0.0\n",
      "outlier top boundry = 10.0\n"
     ]
    }
   ],
   "source": [
    "likes_outlier1 = max(likes_q1 - 1.5 * likes_iqr, likes_min)\n",
    "likes_outlier2 = min(likes_q3 + 1.5 * likes_iqr, likes_max)\n",
    "print(\"outlier bottom boundry = \" + str(likes_outlier1))\n",
    "print(\"outlier top boundry = \" + str(likes_outlier2))"
   ]
  },
  {
   "cell_type": "markdown",
   "metadata": {
    "id": "5R4ktBcUGYe4"
   },
   "source": [
    "\\\\\n",
    "In this part, we can see the rows of the data in which the value for the likes feature are outlier. \\\\\n",
    "As can be seen at the table below, there is 33112 record have outlier value for ```likes``` feature."
   ]
  },
  {
   "cell_type": "code",
   "execution_count": null,
   "metadata": {
    "colab": {
     "base_uri": "https://localhost:8080/",
     "height": 640
    },
    "id": "A19s3kJbGYe5",
    "outputId": "b8c6ea73-41c8-4185-8d12-099e6f06c61a"
   },
   "outputs": [
    {
     "data": {
      "text/html": [
       "<div>\n",
       "<style scoped>\n",
       "    .dataframe tbody tr th:only-of-type {\n",
       "        vertical-align: middle;\n",
       "    }\n",
       "\n",
       "    .dataframe tbody tr th {\n",
       "        vertical-align: top;\n",
       "    }\n",
       "\n",
       "    .dataframe thead th {\n",
       "        text-align: right;\n",
       "    }\n",
       "</style>\n",
       "<table border=\"1\" class=\"dataframe\">\n",
       "  <thead>\n",
       "    <tr style=\"text-align: right;\">\n",
       "      <th></th>\n",
       "      <th>product_id</th>\n",
       "      <th>product_title</th>\n",
       "      <th>title_en</th>\n",
       "      <th>user_id</th>\n",
       "      <th>likes</th>\n",
       "      <th>dislikes</th>\n",
       "      <th>verification_status</th>\n",
       "      <th>recommend</th>\n",
       "      <th>title</th>\n",
       "      <th>comment</th>\n",
       "      <th>advantages</th>\n",
       "      <th>disadvantages</th>\n",
       "    </tr>\n",
       "  </thead>\n",
       "  <tbody>\n",
       "    <tr>\n",
       "      <th>0</th>\n",
       "      <td>3692</td>\n",
       "      <td>ماوس بی‌سیم لاجیتک مدل M325</td>\n",
       "      <td>IT</td>\n",
       "      <td>989472</td>\n",
       "      <td>0</td>\n",
       "      <td>0</td>\n",
       "      <td>verified</td>\n",
       "      <td>\\N</td>\n",
       "      <td>NaN</td>\n",
       "      <td>واقعا عالیه. من که ازش خیلی راضیم</td>\n",
       "      <td>NaN</td>\n",
       "      <td>NaN</td>\n",
       "    </tr>\n",
       "    <tr>\n",
       "      <th>66</th>\n",
       "      <td>39527</td>\n",
       "      <td>کابل تبدیل USB به microUSB  فنمکس طول 0.02 متر</td>\n",
       "      <td>AC</td>\n",
       "      <td>586409</td>\n",
       "      <td>0</td>\n",
       "      <td>0</td>\n",
       "      <td>verified</td>\n",
       "      <td>not_recommended</td>\n",
       "      <td>راضی نیستم</td>\n",
       "      <td>خریدمش ولی یکبار هم ازش استفاده نکردم.. خراب ب...</td>\n",
       "      <td>NaN</td>\n",
       "      <td>NaN</td>\n",
       "    </tr>\n",
       "    <tr>\n",
       "      <th>103</th>\n",
       "      <td>164654</td>\n",
       "      <td>ترازو دیجیتال رزمکس مدل WB101</td>\n",
       "      <td>PA</td>\n",
       "      <td>2775344</td>\n",
       "      <td>0</td>\n",
       "      <td>0</td>\n",
       "      <td>verified</td>\n",
       "      <td>no_idea</td>\n",
       "      <td>ترازوی خوبیه</td>\n",
       "      <td>سلام من قبلا در مورد این ترازو نظر دادم. یه ای...</td>\n",
       "      <td>NaN</td>\n",
       "      <td>NaN</td>\n",
       "    </tr>\n",
       "    <tr>\n",
       "      <th>125</th>\n",
       "      <td>78642</td>\n",
       "      <td>خط چشم ماژیکی ضد آب اسنس مدل 02</td>\n",
       "      <td>PC</td>\n",
       "      <td>2724686</td>\n",
       "      <td>0</td>\n",
       "      <td>0</td>\n",
       "      <td>verified</td>\n",
       "      <td>\\N</td>\n",
       "      <td>ناراضی</td>\n",
       "      <td>مثل خیلی از خط چشم های ماژیکی مدادی دیگه اینم ...</td>\n",
       "      <td>NaN</td>\n",
       "      <td>NaN</td>\n",
       "    </tr>\n",
       "    <tr>\n",
       "      <th>186</th>\n",
       "      <td>168431</td>\n",
       "      <td>اسپیکر قابل حمل استروم مدل ST200</td>\n",
       "      <td>IT</td>\n",
       "      <td>3195590</td>\n",
       "      <td>0</td>\n",
       "      <td>5</td>\n",
       "      <td>verified</td>\n",
       "      <td>no_idea</td>\n",
       "      <td>یک سال کارکرد</td>\n",
       "      <td>من یکسال دادمش حرف نداره</td>\n",
       "      <td>[\"صدای خوب \\r\",\"باتری عالی \\r\",\"\"]</td>\n",
       "      <td>[\"هیچی\"]</td>\n",
       "    </tr>\n",
       "    <tr>\n",
       "      <th>...</th>\n",
       "      <td>...</td>\n",
       "      <td>...</td>\n",
       "      <td>...</td>\n",
       "      <td>...</td>\n",
       "      <td>...</td>\n",
       "      <td>...</td>\n",
       "      <td>...</td>\n",
       "      <td>...</td>\n",
       "      <td>...</td>\n",
       "      <td>...</td>\n",
       "      <td>...</td>\n",
       "      <td>...</td>\n",
       "    </tr>\n",
       "    <tr>\n",
       "      <th>99991</th>\n",
       "      <td>818381</td>\n",
       "      <td>بالش بادی پورگونر مدل KMG</td>\n",
       "      <td>TS</td>\n",
       "      <td>8027276</td>\n",
       "      <td>0</td>\n",
       "      <td>0</td>\n",
       "      <td>verified</td>\n",
       "      <td>not_recommended</td>\n",
       "      <td>ارزش خرید نداره</td>\n",
       "      <td>اندازه بالش بسیار کوچک هست بیشتر بدرد بچه ۲ سا...</td>\n",
       "      <td>NaN</td>\n",
       "      <td>NaN</td>\n",
       "    </tr>\n",
       "    <tr>\n",
       "      <th>99994</th>\n",
       "      <td>400647</td>\n",
       "      <td>کفش راحتی مردانه نایکی مدل Nightgazer Lw</td>\n",
       "      <td>FA</td>\n",
       "      <td>981594</td>\n",
       "      <td>0</td>\n",
       "      <td>0</td>\n",
       "      <td>verified</td>\n",
       "      <td>no_idea</td>\n",
       "      <td>سلام</td>\n",
       "      <td>کیفیت ساختش بد نیست ولی نسبت به قیمتش و برند ن...</td>\n",
       "      <td>NaN</td>\n",
       "      <td>NaN</td>\n",
       "    </tr>\n",
       "    <tr>\n",
       "      <th>99995</th>\n",
       "      <td>549845</td>\n",
       "      <td>شید آباژور آرام مدل SH45/01</td>\n",
       "      <td>TC</td>\n",
       "      <td>4979401</td>\n",
       "      <td>0</td>\n",
       "      <td>0</td>\n",
       "      <td>verified</td>\n",
       "      <td>recommended</td>\n",
       "      <td>بسیار تمیز و زیبا</td>\n",
       "      <td>بسیار تمیز و زیبا...من که خیلی راضیم</td>\n",
       "      <td>[\"کاملا مطابق با عکس\\r\",\"ساخت بسیار تمیز\"]</td>\n",
       "      <td>[\"ندارد\"]</td>\n",
       "    </tr>\n",
       "    <tr>\n",
       "      <th>99997</th>\n",
       "      <td>820985</td>\n",
       "      <td>واکس کفش ساتل مدل 20 حجم 60 میلی لیتر</td>\n",
       "      <td>FA</td>\n",
       "      <td>568208</td>\n",
       "      <td>0</td>\n",
       "      <td>0</td>\n",
       "      <td>verified</td>\n",
       "      <td>recommended</td>\n",
       "      <td>خوبه و غلیظه</td>\n",
       "      <td>واکس خوبیه..</td>\n",
       "      <td>[\"روغنیه\"]</td>\n",
       "      <td>[\"ندیدم\"]</td>\n",
       "    </tr>\n",
       "    <tr>\n",
       "      <th>99999</th>\n",
       "      <td>451791</td>\n",
       "      <td>ماژیک علامت گذار 6 رنگ اسکای مدل S-905</td>\n",
       "      <td>MA</td>\n",
       "      <td>3397901</td>\n",
       "      <td>0</td>\n",
       "      <td>0</td>\n",
       "      <td>verified</td>\n",
       "      <td>no_idea</td>\n",
       "      <td>مارکر</td>\n",
       "      <td>من خریدم و راضی بودم ولی متاسفانه یکی از مارکر...</td>\n",
       "      <td>NaN</td>\n",
       "      <td>NaN</td>\n",
       "    </tr>\n",
       "  </tbody>\n",
       "</table>\n",
       "<p>33112 rows × 12 columns</p>\n",
       "</div>"
      ],
      "text/plain": [
       "       product_id  ... disadvantages\n",
       "0            3692  ...           NaN\n",
       "66          39527  ...           NaN\n",
       "103        164654  ...           NaN\n",
       "125         78642  ...           NaN\n",
       "186        168431  ...      [\"هیچی\"]\n",
       "...           ...  ...           ...\n",
       "99991      818381  ...           NaN\n",
       "99994      400647  ...           NaN\n",
       "99995      549845  ...     [\"ندارد\"]\n",
       "99997      820985  ...     [\"ندیدم\"]\n",
       "99999      451791  ...           NaN\n",
       "\n",
       "[33112 rows x 12 columns]"
      ]
     },
     "execution_count": 28,
     "metadata": {
      "tags": []
     },
     "output_type": "execute_result"
    }
   ],
   "source": [
    "df_keifiat.loc[(df_keifiat['likes'] <= amount_gross_outlier1) | (df_keifiat['likes'] >= amount_gross_outlier2)]"
   ]
  },
  {
   "cell_type": "code",
   "execution_count": null,
   "metadata": {
    "id": "R5SihawsGYe5"
   },
   "outputs": [],
   "source": [
    "x = df_keifiat.loc[(df_keifiat['likes'] >= amount_gross_outlier1) & (df_keifiat['likes'] <= amount_gross_outlier2)]"
   ]
  },
  {
   "cell_type": "code",
   "execution_count": null,
   "metadata": {
    "colab": {
     "base_uri": "https://localhost:8080/",
     "height": 282
    },
    "id": "-bLBgIZKGYe5",
    "outputId": "85f7c4e4-7310-450f-a4c2-1860d927119d"
   },
   "outputs": [
    {
     "data": {
      "text/plain": [
       "<matplotlib.axes._subplots.AxesSubplot at 0x7f6a3dcfc278>"
      ]
     },
     "execution_count": 30,
     "metadata": {
      "tags": []
     },
     "output_type": "execute_result"
    },
    {
     "data": {
      "image/png": "[encoded data removed]",
      "text/plain": [
       "<Figure size 432x288 with 1 Axes>"
      ]
     },
     "metadata": {
      "needs_background": "light",
      "tags": []
     },
     "output_type": "display_data"
    }
   ],
   "source": [
    "x[['likes']].boxplot()"
   ]
  },
  {
   "cell_type": "markdown",
   "metadata": {
    "id": "35fcpduSJdsN"
   },
   "source": [
    "## dislikes"
   ]
  },
  {
   "cell_type": "code",
   "execution_count": null,
   "metadata": {
    "colab": {
     "base_uri": "https://localhost:8080/"
    },
    "id": "WrE_AmIFJdsO",
    "outputId": "40531a09-652f-4b2b-92e1-b526c21c987f"
   },
   "outputs": [
    {
     "data": {
      "text/plain": [
       "count    100000.000000\n",
       "mean          1.649460\n",
       "std           8.912705\n",
       "min           0.000000\n",
       "25%           0.000000\n",
       "50%           0.000000\n",
       "75%           1.000000\n",
       "max        1344.000000\n",
       "Name: dislikes, dtype: float64"
      ]
     },
     "execution_count": 31,
     "metadata": {
      "tags": []
     },
     "output_type": "execute_result"
    }
   ],
   "source": [
    "dislikes_des = df_keifiat['dislikes'].describe()\n",
    "dislikes_des"
   ]
  },
  {
   "cell_type": "code",
   "execution_count": null,
   "metadata": {
    "colab": {
     "base_uri": "https://localhost:8080/",
     "height": 285
    },
    "id": "wgaVNqhvJdsQ",
    "outputId": "bb4e0692-24b7-49e6-ffc3-a137609ebcc5"
   },
   "outputs": [
    {
     "data": {
      "text/plain": [
       "<matplotlib.axes._subplots.AxesSubplot at 0x7f6a40868c88>"
      ]
     },
     "execution_count": 32,
     "metadata": {
      "tags": []
     },
     "output_type": "execute_result"
    },
    {
     "data": {
      "image/png": "[encoded data removed]",
      "text/plain": [
       "<Figure size 432x288 with 1 Axes>"
      ]
     },
     "metadata": {
      "needs_background": "light",
      "tags": []
     },
     "output_type": "display_data"
    }
   ],
   "source": [
    "df_keifiat[['dislikes']].boxplot()"
   ]
  },
  {
   "cell_type": "markdown",
   "metadata": {
    "id": "nSvDbtlfJdsQ"
   },
   "source": [
    "removing the outliers of these two feature"
   ]
  },
  {
   "cell_type": "markdown",
   "metadata": {
    "id": "DkGRMr5dJdsQ"
   },
   "source": [
    "**TODO** \\\\\n",
    "In this part, we store some atributes about our feature, such as Q1, Q2, Q3, mean, minimum and maximum."
   ]
  },
  {
   "cell_type": "code",
   "execution_count": null,
   "metadata": {
    "id": "guESKDTtJdsQ"
   },
   "outputs": [],
   "source": [
    "dislikes_q1    =  dislikes_des['25%']\n",
    "dislikes_q2    =  dislikes_des['50%']\n",
    "dislikes_q3    =  dislikes_des['75%']\n",
    "dislikes_mean  =  dislikes_des['mean']\n",
    "dislikes_min   =  dislikes_des['min']\n",
    "dislikes_max   =  dislikes_des['max']"
   ]
  },
  {
   "cell_type": "markdown",
   "metadata": {
    "id": "eMwifyM1JdsQ"
   },
   "source": [
    "\\\\\n",
    "Calulate the IQR of likes"
   ]
  },
  {
   "cell_type": "code",
   "execution_count": null,
   "metadata": {
    "colab": {
     "base_uri": "https://localhost:8080/"
    },
    "id": "eMoU8HvNJdsR",
    "outputId": "b1912162-c114-449a-fd5c-6bcf390c1c1b"
   },
   "outputs": [
    {
     "name": "stdout",
     "output_type": "stream",
     "text": [
      "IQR of dislikes feature =  1.0\n"
     ]
    }
   ],
   "source": [
    "dislikes_iqr = dislikes_q3 - likes_q1\n",
    "print(\"IQR of dislikes feature = \", dislikes_iqr)"
   ]
  },
  {
   "cell_type": "markdown",
   "metadata": {
    "id": "4EalYlQhJdsR"
   },
   "source": [
    "\\\\\n",
    "Code below caculate the top and bottom boundries, which define the ranges that includes outliers.\n",
    "\n",
    "* if value of a record for this feature is **less than or equal** to the ```dislikes_outlier1``` variable, it will be considered as an outlier.\n",
    "* if value of a record for this feature is **greater than or equal** to the ```dislikes_outlier2``` variable, it will be considered as an outlier."
   ]
  },
  {
   "cell_type": "code",
   "execution_count": null,
   "metadata": {
    "colab": {
     "base_uri": "https://localhost:8080/"
    },
    "id": "QaQYMIDdJdsR",
    "outputId": "5846bbad-40ea-4396-daef-95afc48ebc62"
   },
   "outputs": [
    {
     "name": "stdout",
     "output_type": "stream",
     "text": [
      "outlier bottom boundry = 0.0\n",
      "outlier top boundry = 2.5\n"
     ]
    }
   ],
   "source": [
    "dislikes_outlier1 = max(dislikes_q1 - 1.5 * dislikes_iqr, dislikes_min)\n",
    "dislikes_outlier2 = min(dislikes_q3 + 1.5 * dislikes_iqr, dislikes_max)\n",
    "print(\"outlier bottom boundry = \" + str(dislikes_outlier1))\n",
    "print(\"outlier top boundry = \" + str(dislikes_outlier2))"
   ]
  },
  {
   "cell_type": "markdown",
   "metadata": {
    "id": "xaORFJR2JdsS"
   },
   "source": [
    "\\\\\n",
    "In this part, we can see the rows of the data in which the value for the likes feature are outlier. \\\\\n",
    "As can be seen at the table below, there is 57438 record have outlier value for ```dislikes``` feature."
   ]
  },
  {
   "cell_type": "code",
   "execution_count": null,
   "metadata": {
    "colab": {
     "base_uri": "https://localhost:8080/",
     "height": 708
    },
    "id": "8ZjlctVoJdsS",
    "outputId": "e736b02e-0027-4d12-8d82-00e39dfd3afe"
   },
   "outputs": [
    {
     "data": {
      "text/html": [
       "<div>\n",
       "<style scoped>\n",
       "    .dataframe tbody tr th:only-of-type {\n",
       "        vertical-align: middle;\n",
       "    }\n",
       "\n",
       "    .dataframe tbody tr th {\n",
       "        vertical-align: top;\n",
       "    }\n",
       "\n",
       "    .dataframe thead th {\n",
       "        text-align: right;\n",
       "    }\n",
       "</style>\n",
       "<table border=\"1\" class=\"dataframe\">\n",
       "  <thead>\n",
       "    <tr style=\"text-align: right;\">\n",
       "      <th></th>\n",
       "      <th>product_id</th>\n",
       "      <th>product_title</th>\n",
       "      <th>title_en</th>\n",
       "      <th>user_id</th>\n",
       "      <th>likes</th>\n",
       "      <th>dislikes</th>\n",
       "      <th>verification_status</th>\n",
       "      <th>recommend</th>\n",
       "      <th>title</th>\n",
       "      <th>comment</th>\n",
       "      <th>advantages</th>\n",
       "      <th>disadvantages</th>\n",
       "    </tr>\n",
       "  </thead>\n",
       "  <tbody>\n",
       "    <tr>\n",
       "      <th>0</th>\n",
       "      <td>3692</td>\n",
       "      <td>ماوس بی‌سیم لاجیتک مدل M325</td>\n",
       "      <td>IT</td>\n",
       "      <td>989472</td>\n",
       "      <td>0</td>\n",
       "      <td>0</td>\n",
       "      <td>verified</td>\n",
       "      <td>\\N</td>\n",
       "      <td>NaN</td>\n",
       "      <td>واقعا عالیه. من که ازش خیلی راضیم</td>\n",
       "      <td>NaN</td>\n",
       "      <td>NaN</td>\n",
       "    </tr>\n",
       "    <tr>\n",
       "      <th>2</th>\n",
       "      <td>59473</td>\n",
       "      <td>یدک پولیشر میکروفایبر مهسان مدل 20119</td>\n",
       "      <td>HW</td>\n",
       "      <td>626843</td>\n",
       "      <td>1</td>\n",
       "      <td>0</td>\n",
       "      <td>verified</td>\n",
       "      <td>not_recommended</td>\n",
       "      <td>خیلی سخت حوله اش در میاد</td>\n",
       "      <td>گیره های فلزی خیلی سخت تا میشوند و لذا حوله را...</td>\n",
       "      <td>NaN</td>\n",
       "      <td>NaN</td>\n",
       "    </tr>\n",
       "    <tr>\n",
       "      <th>6</th>\n",
       "      <td>148509</td>\n",
       "      <td>اسپیکر بلوتوثی دیووم مدل Bluetune bean</td>\n",
       "      <td>IT</td>\n",
       "      <td>574130</td>\n",
       "      <td>3</td>\n",
       "      <td>0</td>\n",
       "      <td>verified</td>\n",
       "      <td>recommended</td>\n",
       "      <td>بسیار خوب</td>\n",
       "      <td>من چند سالی هست که این اسپیکرو خریدم و واقعا ح...</td>\n",
       "      <td>[\"کیفیت ساخت بسیار خوب\\r\",\"کیفیت صدا بسیار عال...</td>\n",
       "      <td>[\"ندارد\"]</td>\n",
       "    </tr>\n",
       "    <tr>\n",
       "      <th>9</th>\n",
       "      <td>161548</td>\n",
       "      <td>فلاسک هنری مدل Virginia Special ظرفیت 1.9 لیتر</td>\n",
       "      <td>HW</td>\n",
       "      <td>3934937</td>\n",
       "      <td>1</td>\n",
       "      <td>0</td>\n",
       "      <td>verified</td>\n",
       "      <td>no_idea</td>\n",
       "      <td>خوب بودممنون</td>\n",
       "      <td>خوب بودممنون</td>\n",
       "      <td>NaN</td>\n",
       "      <td>NaN</td>\n",
       "    </tr>\n",
       "    <tr>\n",
       "      <th>10</th>\n",
       "      <td>5107</td>\n",
       "      <td>هارددیسک اکسترنال سیگیت مدل Backup Plus Deskto...</td>\n",
       "      <td>IT</td>\n",
       "      <td>794316</td>\n",
       "      <td>1</td>\n",
       "      <td>0</td>\n",
       "      <td>verified</td>\n",
       "      <td>recommended</td>\n",
       "      <td>هارد با کیفیت و ظاهر شیک</td>\n",
       "      <td>نزدیک به دو ساله که این هارد رو خریدم. استفاده...</td>\n",
       "      <td>[\"کیفیت ساخت خوب\\r\",\"ظاهر ساده و زیبا\\r\",\"صدای...</td>\n",
       "      <td>[\"عدم مقاومت در برابر ضربه\\r\",\"عدم سهولت جا به...</td>\n",
       "    </tr>\n",
       "    <tr>\n",
       "      <th>...</th>\n",
       "      <td>...</td>\n",
       "      <td>...</td>\n",
       "      <td>...</td>\n",
       "      <td>...</td>\n",
       "      <td>...</td>\n",
       "      <td>...</td>\n",
       "      <td>...</td>\n",
       "      <td>...</td>\n",
       "      <td>...</td>\n",
       "      <td>...</td>\n",
       "      <td>...</td>\n",
       "      <td>...</td>\n",
       "    </tr>\n",
       "    <tr>\n",
       "      <th>99992</th>\n",
       "      <td>907445</td>\n",
       "      <td>بست کمربندی دبلیو اند ای سایز 100x2.5 بسته 100...</td>\n",
       "      <td>TC</td>\n",
       "      <td>2754703</td>\n",
       "      <td>1</td>\n",
       "      <td>0</td>\n",
       "      <td>verified</td>\n",
       "      <td>\\N</td>\n",
       "      <td>با کیفیت</td>\n",
       "      <td>استفاده کردیم خوب بود خیلی وقت بود دنبالش میگش...</td>\n",
       "      <td>NaN</td>\n",
       "      <td>NaN</td>\n",
       "    </tr>\n",
       "    <tr>\n",
       "      <th>99994</th>\n",
       "      <td>400647</td>\n",
       "      <td>کفش راحتی مردانه نایکی مدل Nightgazer Lw</td>\n",
       "      <td>FA</td>\n",
       "      <td>981594</td>\n",
       "      <td>0</td>\n",
       "      <td>0</td>\n",
       "      <td>verified</td>\n",
       "      <td>no_idea</td>\n",
       "      <td>سلام</td>\n",
       "      <td>کیفیت ساختش بد نیست ولی نسبت به قیمتش و برند ن...</td>\n",
       "      <td>NaN</td>\n",
       "      <td>NaN</td>\n",
       "    </tr>\n",
       "    <tr>\n",
       "      <th>99995</th>\n",
       "      <td>549845</td>\n",
       "      <td>شید آباژور آرام مدل SH45/01</td>\n",
       "      <td>TC</td>\n",
       "      <td>4979401</td>\n",
       "      <td>0</td>\n",
       "      <td>0</td>\n",
       "      <td>verified</td>\n",
       "      <td>recommended</td>\n",
       "      <td>بسیار تمیز و زیبا</td>\n",
       "      <td>بسیار تمیز و زیبا...من که خیلی راضیم</td>\n",
       "      <td>[\"کاملا مطابق با عکس\\r\",\"ساخت بسیار تمیز\"]</td>\n",
       "      <td>[\"ندارد\"]</td>\n",
       "    </tr>\n",
       "    <tr>\n",
       "      <th>99997</th>\n",
       "      <td>820985</td>\n",
       "      <td>واکس کفش ساتل مدل 20 حجم 60 میلی لیتر</td>\n",
       "      <td>FA</td>\n",
       "      <td>568208</td>\n",
       "      <td>0</td>\n",
       "      <td>0</td>\n",
       "      <td>verified</td>\n",
       "      <td>recommended</td>\n",
       "      <td>خوبه و غلیظه</td>\n",
       "      <td>واکس خوبیه..</td>\n",
       "      <td>[\"روغنیه\"]</td>\n",
       "      <td>[\"ندیدم\"]</td>\n",
       "    </tr>\n",
       "    <tr>\n",
       "      <th>99999</th>\n",
       "      <td>451791</td>\n",
       "      <td>ماژیک علامت گذار 6 رنگ اسکای مدل S-905</td>\n",
       "      <td>MA</td>\n",
       "      <td>3397901</td>\n",
       "      <td>0</td>\n",
       "      <td>0</td>\n",
       "      <td>verified</td>\n",
       "      <td>no_idea</td>\n",
       "      <td>مارکر</td>\n",
       "      <td>من خریدم و راضی بودم ولی متاسفانه یکی از مارکر...</td>\n",
       "      <td>NaN</td>\n",
       "      <td>NaN</td>\n",
       "    </tr>\n",
       "  </tbody>\n",
       "</table>\n",
       "<p>57438 rows × 12 columns</p>\n",
       "</div>"
      ],
      "text/plain": [
       "       product_id  ...                                      disadvantages\n",
       "0            3692  ...                                                NaN\n",
       "2           59473  ...                                                NaN\n",
       "6          148509  ...                                          [\"ندارد\"]\n",
       "9          161548  ...                                                NaN\n",
       "10           5107  ...  [\"عدم مقاومت در برابر ضربه\\r\",\"عدم سهولت جا به...\n",
       "...           ...  ...                                                ...\n",
       "99992      907445  ...                                                NaN\n",
       "99994      400647  ...                                                NaN\n",
       "99995      549845  ...                                          [\"ندارد\"]\n",
       "99997      820985  ...                                          [\"ندیدم\"]\n",
       "99999      451791  ...                                                NaN\n",
       "\n",
       "[57438 rows x 12 columns]"
      ]
     },
     "execution_count": 36,
     "metadata": {
      "tags": []
     },
     "output_type": "execute_result"
    }
   ],
   "source": [
    "df_keifiat.loc[(df_keifiat['dislikes'] <= amount_gross_outlier1) | (df_keifiat['dislikes'] >= amount_gross_outlier2)]"
   ]
  },
  {
   "cell_type": "code",
   "execution_count": null,
   "metadata": {
    "id": "-zVXUmL3JdsS"
   },
   "outputs": [],
   "source": [
    "x = df_keifiat.loc[(df_keifiat['dislikes'] >= amount_gross_outlier1) & (df_keifiat['dislikes'] <= amount_gross_outlier2)]"
   ]
  },
  {
   "cell_type": "code",
   "execution_count": null,
   "metadata": {
    "colab": {
     "base_uri": "https://localhost:8080/",
     "height": 285
    },
    "id": "hz6qgVp7JdsS",
    "outputId": "418e9230-291a-465f-ba59-81914f9326a0"
   },
   "outputs": [
    {
     "data": {
      "text/plain": [
       "<matplotlib.axes._subplots.AxesSubplot at 0x7f6a3f5966d8>"
      ]
     },
     "execution_count": 38,
     "metadata": {
      "tags": []
     },
     "output_type": "execute_result"
    },
    {
     "data": {
      "image/png": "[encoded data removed]",
      "text/plain": [
       "<Figure size 432x288 with 1 Axes>"
      ]
     },
     "metadata": {
      "needs_background": "light",
      "tags": []
     },
     "output_type": "display_data"
    }
   ],
   "source": [
    "x[['dislikes']].boxplot()"
   ]
  },
  {
   "cell_type": "markdown",
   "metadata": {
    "id": "j5GMUrJHLKQu"
   },
   "source": [
    "\\\\\n",
    "#**product dataset**\n",
    "This dataset has no numeric feature."
   ]
  },
  {
   "cell_type": "code",
   "execution_count": null,
   "metadata": {
    "colab": {
     "base_uri": "https://localhost:8080/",
     "height": 915
    },
    "id": "3xmtKYXkLYWS",
    "outputId": "03427915-14b5-494c-c350-a77eb3295fdd"
   },
   "outputs": [
    {
     "data": {
      "text/html": [
       "<div>\n",
       "<style scoped>\n",
       "    .dataframe tbody tr th:only-of-type {\n",
       "        vertical-align: middle;\n",
       "    }\n",
       "\n",
       "    .dataframe tbody tr th {\n",
       "        vertical-align: top;\n",
       "    }\n",
       "\n",
       "    .dataframe thead th {\n",
       "        text-align: right;\n",
       "    }\n",
       "</style>\n",
       "<table border=\"1\" class=\"dataframe\">\n",
       "  <thead>\n",
       "    <tr style=\"text-align: right;\">\n",
       "      <th></th>\n",
       "      <th>id</th>\n",
       "      <th>product_title_fa</th>\n",
       "      <th>product_title_en</th>\n",
       "      <th>url_code</th>\n",
       "      <th>title_alt</th>\n",
       "      <th>category_title_fa</th>\n",
       "      <th>category_keywords</th>\n",
       "      <th>brand_name_fa</th>\n",
       "      <th>brand_name_en</th>\n",
       "      <th>product_attributes</th>\n",
       "    </tr>\n",
       "  </thead>\n",
       "  <tbody>\n",
       "    <tr>\n",
       "      <th>0</th>\n",
       "      <td>723302</td>\n",
       "      <td>ماگ حرارتی لومانا مدل عرفانه کد MAG1042</td>\n",
       "      <td>NaN</td>\n",
       "      <td>ماگ-حرارتی-لومانا-مدل-عرفانه-کد-mag1042</td>\n",
       "      <td>mug، لیوان ، ماگ ، فنجان ، لیوان دسته دار ، لو...</td>\n",
       "      <td>ماگ، لیوان و فنجان</td>\n",
       "      <td>ماگ، لیوان و فنجان CupandMug</td>\n",
       "      <td>لومانا</td>\n",
       "      <td>Lomana</td>\n",
       "      <td>[{\"Key\":\"وزن بسته‌بندی\",\"Value\":\"480\"},{\"Key\":...</td>\n",
       "    </tr>\n",
       "    <tr>\n",
       "      <th>1</th>\n",
       "      <td>727089</td>\n",
       "      <td>ست آبکش و آبگیر تیتیز مدل AP-9141 سایز متوسط</td>\n",
       "      <td>NaN</td>\n",
       "      <td>ست-آبکش-و-آبگیر-تیتیز-مدل-ap-9141-سایز-متوسط</td>\n",
       "      <td>;hsi, steel, کاسه، کاسه بامبو، لگن، کالا خانه ...</td>\n",
       "      <td>آبکش و آبگیر</td>\n",
       "      <td>آبکش و آبگیر VirgoBasin</td>\n",
       "      <td>تیتیز</td>\n",
       "      <td>Titiz</td>\n",
       "      <td>[{\"Key\":\"دستگیره\",\"Value\":\"1 جفت\"},{\"Key\":\"نوع...</td>\n",
       "    </tr>\n",
       "    <tr>\n",
       "      <th>2</th>\n",
       "      <td>727096</td>\n",
       "      <td>روغن مرطوب کننده کدلی مدل Divine oil حجم 50 می...</td>\n",
       "      <td>NaN</td>\n",
       "      <td>روغن-مرطوب-کننده-کدلی-مدل-divine-oil-حجم-50-می...</td>\n",
       "      <td>NaN</td>\n",
       "      <td>روغن صورت</td>\n",
       "      <td>روغن صورت Face-Oil</td>\n",
       "      <td>کدلی</td>\n",
       "      <td>CAUDALIE</td>\n",
       "      <td>[{\"Key\":\"حجم\",\"Value\":\"50\"},{\"Key\":\"نوع عصاره\"...</td>\n",
       "    </tr>\n",
       "    <tr>\n",
       "      <th>3</th>\n",
       "      <td>727803</td>\n",
       "      <td>ست لحاف پوپلین هوبی مدل اما یکنفره چهار تکه کاوری</td>\n",
       "      <td>Hobby Emma Quilt Single Set - 4 Pieces</td>\n",
       "      <td>ست-لحاف-پوپلین-هوبی-مدل-اما-یکنفره-چهار-تکه-کاوری</td>\n",
       "      <td>روتختی اسپرت، اما، emma، روتختی یکنفره، لحاف ی...</td>\n",
       "      <td>سرویس خواب</td>\n",
       "      <td>سرویس خواب SleepSet</td>\n",
       "      <td>هوبی</td>\n",
       "      <td>Hobby</td>\n",
       "      <td>[{\"Key\":\"ابعاد رو بالشی\",\"Value\":\"50×70\"},{\"Ke...</td>\n",
       "    </tr>\n",
       "    <tr>\n",
       "      <th>4</th>\n",
       "      <td>725222</td>\n",
       "      <td>ماگ آبنبات رنگی مدل AR0143</td>\n",
       "      <td>NaN</td>\n",
       "      <td>ماگ-آبنبات-رنگی-مدل-ar0143</td>\n",
       "      <td>ماگ آبنبات رنگی،شذدشذشفقشدله،Mag Abnabatrangi</td>\n",
       "      <td>ماگ، لیوان و فنجان</td>\n",
       "      <td>ماگ، لیوان و فنجان CupandMug</td>\n",
       "      <td>متفرقه</td>\n",
       "      <td>Miscellaneous</td>\n",
       "      <td>[{\"Key\":\"در\",\"Value\":\"ندارد\"},{\"Key\":\"جنس\",\"Va...</td>\n",
       "    </tr>\n",
       "    <tr>\n",
       "      <th>...</th>\n",
       "      <td>...</td>\n",
       "      <td>...</td>\n",
       "      <td>...</td>\n",
       "      <td>...</td>\n",
       "      <td>...</td>\n",
       "      <td>...</td>\n",
       "      <td>...</td>\n",
       "      <td>...</td>\n",
       "      <td>...</td>\n",
       "      <td>...</td>\n",
       "    </tr>\n",
       "    <tr>\n",
       "      <th>99995</th>\n",
       "      <td>803375</td>\n",
       "      <td>سوتین زنانه طرح گل کد 262014527</td>\n",
       "      <td>NaN</td>\n",
       "      <td>سوتین-زنانه-طرح-گل-کد-262014527</td>\n",
       "      <td>لباس زیر، کتان، سوتین، شورت و سوتین، توری، جک ...</td>\n",
       "      <td>سوتین</td>\n",
       "      <td>سوتین Women-UW-Bra</td>\n",
       "      <td>متفرقه</td>\n",
       "      <td>Miscellaneous</td>\n",
       "      <td>NaN</td>\n",
       "    </tr>\n",
       "    <tr>\n",
       "      <th>99996</th>\n",
       "      <td>790932</td>\n",
       "      <td>محافظ صفحه نمایش مدل نانو گلس مناسب برای گوشی ...</td>\n",
       "      <td>NaN</td>\n",
       "      <td>محافظ-صفحه-نمایش-مدل-نانو-گلس-مناسب-برای-گوشی-...</td>\n",
       "      <td>نانو گلس سامسونگ J7 Pro  ، محافظ صفحه نمایش ،ن...</td>\n",
       "      <td>محافظ صفحه نمایش گوشی</td>\n",
       "      <td>محافظ صفحه نمایش گوشی Cell-Phone-Screen-Guard</td>\n",
       "      <td>متفرقه</td>\n",
       "      <td>Miscellaneous</td>\n",
       "      <td>NaN</td>\n",
       "    </tr>\n",
       "    <tr>\n",
       "      <th>99997</th>\n",
       "      <td>786604</td>\n",
       "      <td>تابلو نوشته تکس پیک مدل A63</td>\n",
       "      <td>NaN</td>\n",
       "      <td>تابلو-نوشته-تکس-پیک-مدل-a63</td>\n",
       "      <td>عکس نوشته,تابلونوشته,تکستگرافی,تابلوعکس,تابلو ...</td>\n",
       "      <td>تابلو شاسی</td>\n",
       "      <td>تابلو شاسی Chassis</td>\n",
       "      <td>متفرقه</td>\n",
       "      <td>Miscellaneous</td>\n",
       "      <td>NaN</td>\n",
       "    </tr>\n",
       "    <tr>\n",
       "      <th>99998</th>\n",
       "      <td>799047</td>\n",
       "      <td>سینی  برایتون مدل BT-8387</td>\n",
       "      <td>NaN</td>\n",
       "      <td>سینی-برایتون-مدل-bt-8387</td>\n",
       "      <td>سینی، سینی چای،  sdkd ]hd</td>\n",
       "      <td>سینی</td>\n",
       "      <td>سینی Tray</td>\n",
       "      <td>برایتون</td>\n",
       "      <td>briton</td>\n",
       "      <td>NaN</td>\n",
       "    </tr>\n",
       "    <tr>\n",
       "      <th>99999</th>\n",
       "      <td>782276</td>\n",
       "      <td>تیشرت زنانه تارپون طرح فانتزی کد 10532</td>\n",
       "      <td>NaN</td>\n",
       "      <td>تیشرت-زنانه-تارپون-طرح-فانتزی-کد-10532</td>\n",
       "      <td>تیشرت، تیشرت آستین کوتاه، تیشرت تارپون، تیشرت ...</td>\n",
       "      <td>تی‌شرت و پولوشرت زنانه</td>\n",
       "      <td>تی‌شرت و پولوشرت زنانه womens-tshirts-polos</td>\n",
       "      <td>تارپون</td>\n",
       "      <td>tarpon</td>\n",
       "      <td>NaN</td>\n",
       "    </tr>\n",
       "  </tbody>\n",
       "</table>\n",
       "<p>100000 rows × 10 columns</p>\n",
       "</div>"
      ],
      "text/plain": [
       "           id  ...                                 product_attributes\n",
       "0      723302  ...  [{\"Key\":\"وزن بسته‌بندی\",\"Value\":\"480\"},{\"Key\":...\n",
       "1      727089  ...  [{\"Key\":\"دستگیره\",\"Value\":\"1 جفت\"},{\"Key\":\"نوع...\n",
       "2      727096  ...  [{\"Key\":\"حجم\",\"Value\":\"50\"},{\"Key\":\"نوع عصاره\"...\n",
       "3      727803  ...  [{\"Key\":\"ابعاد رو بالشی\",\"Value\":\"50×70\"},{\"Ke...\n",
       "4      725222  ...  [{\"Key\":\"در\",\"Value\":\"ندارد\"},{\"Key\":\"جنس\",\"Va...\n",
       "...       ...  ...                                                ...\n",
       "99995  803375  ...                                                NaN\n",
       "99996  790932  ...                                                NaN\n",
       "99997  786604  ...                                                NaN\n",
       "99998  799047  ...                                                NaN\n",
       "99999  782276  ...                                                NaN\n",
       "\n",
       "[100000 rows x 10 columns]"
      ]
     },
     "execution_count": 39,
     "metadata": {
      "tags": []
     },
     "output_type": "execute_result"
    }
   ],
   "source": [
    "df_product = pd.read_excel('product.xlsx')\n",
    "df_product"
   ]
  },
  {
   "cell_type": "markdown",
   "metadata": {
    "id": "uK7oHSOELsNV"
   },
   "source": [
    "\\\\\n",
    "#**tarikhche kharid dataset**"
   ]
  },
  {
   "cell_type": "code",
   "execution_count": null,
   "metadata": {
    "colab": {
     "base_uri": "https://localhost:8080/",
     "height": 609
    },
    "id": "1Cv_UbmcLsNV",
    "outputId": "58df4c92-b63d-49b0-dc55-621456bfcce4"
   },
   "outputs": [
    {
     "data": {
      "text/html": [
       "<div>\n",
       "<style scoped>\n",
       "    .dataframe tbody tr th:only-of-type {\n",
       "        vertical-align: middle;\n",
       "    }\n",
       "\n",
       "    .dataframe tbody tr th {\n",
       "        vertical-align: top;\n",
       "    }\n",
       "\n",
       "    .dataframe thead th {\n",
       "        text-align: right;\n",
       "    }\n",
       "</style>\n",
       "<table border=\"1\" class=\"dataframe\">\n",
       "  <thead>\n",
       "    <tr style=\"text-align: right;\">\n",
       "      <th></th>\n",
       "      <th>id</th>\n",
       "      <th>product_variant_id</th>\n",
       "      <th>selling_price</th>\n",
       "      <th>rrp_price</th>\n",
       "      <th>base_price</th>\n",
       "      <th>buy_price</th>\n",
       "      <th>order_limit</th>\n",
       "      <th>start_at</th>\n",
       "      <th>end_at</th>\n",
       "      <th>tags</th>\n",
       "      <th>show_in_price_history</th>\n",
       "      <th>active</th>\n",
       "      <th>created_at</th>\n",
       "      <th>product_id</th>\n",
       "      <th>marketplace_seller_id</th>\n",
       "    </tr>\n",
       "  </thead>\n",
       "  <tbody>\n",
       "    <tr>\n",
       "      <th>0</th>\n",
       "      <td>18752043</td>\n",
       "      <td>1977385</td>\n",
       "      <td>850000</td>\n",
       "      <td>850000</td>\n",
       "      <td>\\N</td>\n",
       "      <td>\\N</td>\n",
       "      <td>1</td>\n",
       "      <td>\\N</td>\n",
       "      <td>\\N</td>\n",
       "      <td>\\N</td>\n",
       "      <td>1</td>\n",
       "      <td>1</td>\n",
       "      <td>2018-11-26 18:59:52</td>\n",
       "      <td>667969</td>\n",
       "      <td>2962</td>\n",
       "    </tr>\n",
       "    <tr>\n",
       "      <th>1</th>\n",
       "      <td>18752022</td>\n",
       "      <td>1977380</td>\n",
       "      <td>12550000</td>\n",
       "      <td>12550000</td>\n",
       "      <td>\\N</td>\n",
       "      <td>\\N</td>\n",
       "      <td>2</td>\n",
       "      <td>\\N</td>\n",
       "      <td>\\N</td>\n",
       "      <td>\\N</td>\n",
       "      <td>1</td>\n",
       "      <td>0</td>\n",
       "      <td>2018-11-26 18:59:31</td>\n",
       "      <td>150144</td>\n",
       "      <td>78525</td>\n",
       "    </tr>\n",
       "    <tr>\n",
       "      <th>2</th>\n",
       "      <td>18752046</td>\n",
       "      <td>1977380</td>\n",
       "      <td>12500000</td>\n",
       "      <td>12500000</td>\n",
       "      <td>\\N</td>\n",
       "      <td>\\N</td>\n",
       "      <td>2</td>\n",
       "      <td>\\N</td>\n",
       "      <td>\\N</td>\n",
       "      <td>\\N</td>\n",
       "      <td>1</td>\n",
       "      <td>1</td>\n",
       "      <td>2018-11-26 18:59:55</td>\n",
       "      <td>150144</td>\n",
       "      <td>78525</td>\n",
       "    </tr>\n",
       "    <tr>\n",
       "      <th>3</th>\n",
       "      <td>18751982</td>\n",
       "      <td>1977374</td>\n",
       "      <td>310000</td>\n",
       "      <td>310000</td>\n",
       "      <td>\\N</td>\n",
       "      <td>\\N</td>\n",
       "      <td>2</td>\n",
       "      <td>\\N</td>\n",
       "      <td>\\N</td>\n",
       "      <td>\\N</td>\n",
       "      <td>1</td>\n",
       "      <td>0</td>\n",
       "      <td>2018-11-26 18:58:48</td>\n",
       "      <td>908541</td>\n",
       "      <td>4199</td>\n",
       "    </tr>\n",
       "    <tr>\n",
       "      <th>4</th>\n",
       "      <td>18752018</td>\n",
       "      <td>1977374</td>\n",
       "      <td>300000</td>\n",
       "      <td>300000</td>\n",
       "      <td>\\N</td>\n",
       "      <td>\\N</td>\n",
       "      <td>2</td>\n",
       "      <td>\\N</td>\n",
       "      <td>\\N</td>\n",
       "      <td>\\N</td>\n",
       "      <td>1</td>\n",
       "      <td>1</td>\n",
       "      <td>2018-11-26 18:59:28</td>\n",
       "      <td>908541</td>\n",
       "      <td>4199</td>\n",
       "    </tr>\n",
       "    <tr>\n",
       "      <th>...</th>\n",
       "      <td>...</td>\n",
       "      <td>...</td>\n",
       "      <td>...</td>\n",
       "      <td>...</td>\n",
       "      <td>...</td>\n",
       "      <td>...</td>\n",
       "      <td>...</td>\n",
       "      <td>...</td>\n",
       "      <td>...</td>\n",
       "      <td>...</td>\n",
       "      <td>...</td>\n",
       "      <td>...</td>\n",
       "      <td>...</td>\n",
       "      <td>...</td>\n",
       "      <td>...</td>\n",
       "    </tr>\n",
       "    <tr>\n",
       "      <th>2184353</th>\n",
       "      <td>12763117</td>\n",
       "      <td>1155042</td>\n",
       "      <td>439000</td>\n",
       "      <td>529000</td>\n",
       "      <td>\\N</td>\n",
       "      <td>\\N</td>\n",
       "      <td>2</td>\n",
       "      <td>\\N</td>\n",
       "      <td>\\N</td>\n",
       "      <td>\\N</td>\n",
       "      <td>1</td>\n",
       "      <td>0</td>\n",
       "      <td>2018-09-13 20:23:28</td>\n",
       "      <td>221109</td>\n",
       "      <td>7664</td>\n",
       "    </tr>\n",
       "    <tr>\n",
       "      <th>2184354</th>\n",
       "      <td>13703581</td>\n",
       "      <td>1155042</td>\n",
       "      <td>469000</td>\n",
       "      <td>529000</td>\n",
       "      <td>\\N</td>\n",
       "      <td>\\N</td>\n",
       "      <td>2</td>\n",
       "      <td>\\N</td>\n",
       "      <td>\\N</td>\n",
       "      <td>\\N</td>\n",
       "      <td>1</td>\n",
       "      <td>0</td>\n",
       "      <td>2018-09-29 20:14:36</td>\n",
       "      <td>221109</td>\n",
       "      <td>7664</td>\n",
       "    </tr>\n",
       "    <tr>\n",
       "      <th>2184355</th>\n",
       "      <td>13703591</td>\n",
       "      <td>1155042</td>\n",
       "      <td>465000</td>\n",
       "      <td>529000</td>\n",
       "      <td>\\N</td>\n",
       "      <td>\\N</td>\n",
       "      <td>2</td>\n",
       "      <td>\\N</td>\n",
       "      <td>\\N</td>\n",
       "      <td>\\N</td>\n",
       "      <td>1</td>\n",
       "      <td>0</td>\n",
       "      <td>2018-09-29 20:14:50</td>\n",
       "      <td>221109</td>\n",
       "      <td>7664</td>\n",
       "    </tr>\n",
       "    <tr>\n",
       "      <th>2184356</th>\n",
       "      <td>13703595</td>\n",
       "      <td>1155042</td>\n",
       "      <td>460000</td>\n",
       "      <td>460000</td>\n",
       "      <td>\\N</td>\n",
       "      <td>\\N</td>\n",
       "      <td>2</td>\n",
       "      <td>\\N</td>\n",
       "      <td>\\N</td>\n",
       "      <td>\\N</td>\n",
       "      <td>1</td>\n",
       "      <td>0</td>\n",
       "      <td>2018-09-29 20:15:03</td>\n",
       "      <td>221109</td>\n",
       "      <td>7664</td>\n",
       "    </tr>\n",
       "    <tr>\n",
       "      <th>2184357</th>\n",
       "      <td>16766304</td>\n",
       "      <td>1155042</td>\n",
       "      <td>449000</td>\n",
       "      <td>449000</td>\n",
       "      <td>\\N</td>\n",
       "      <td>\\N</td>\n",
       "      <td>2</td>\n",
       "      <td>\\N</td>\n",
       "      <td>\\N</td>\n",
       "      <td>\\N</td>\n",
       "      <td>1</td>\n",
       "      <td>1</td>\n",
       "      <td>2018-11-03 19:21:04</td>\n",
       "      <td>221109</td>\n",
       "      <td>7664</td>\n",
       "    </tr>\n",
       "  </tbody>\n",
       "</table>\n",
       "<p>2184358 rows × 15 columns</p>\n",
       "</div>"
      ],
      "text/plain": [
       "               id  product_variant_id  ...  product_id  marketplace_seller_id\n",
       "0        18752043             1977385  ...      667969                   2962\n",
       "1        18752022             1977380  ...      150144                  78525\n",
       "2        18752046             1977380  ...      150144                  78525\n",
       "3        18751982             1977374  ...      908541                   4199\n",
       "4        18752018             1977374  ...      908541                   4199\n",
       "...           ...                 ...  ...         ...                    ...\n",
       "2184353  12763117             1155042  ...      221109                   7664\n",
       "2184354  13703581             1155042  ...      221109                   7664\n",
       "2184355  13703591             1155042  ...      221109                   7664\n",
       "2184356  13703595             1155042  ...      221109                   7664\n",
       "2184357  16766304             1155042  ...      221109                   7664\n",
       "\n",
       "[2184358 rows x 15 columns]"
      ]
     },
     "execution_count": 40,
     "metadata": {
      "tags": []
     },
     "output_type": "execute_result"
    }
   ],
   "source": [
    "df_tarikhche = pd.read_csv('tarikhche kharid.csv')\n",
    "df_tarikhche"
   ]
  },
  {
   "cell_type": "markdown",
   "metadata": {
    "id": "bZNE851odd-C"
   },
   "source": [
    "## selling_price"
   ]
  },
  {
   "cell_type": "code",
   "execution_count": null,
   "metadata": {
    "colab": {
     "base_uri": "https://localhost:8080/"
    },
    "id": "MD_fhdVndd-D",
    "outputId": "4ac84748-5871-4932-86e6-de51c6b5572b"
   },
   "outputs": [
    {
     "data": {
      "text/plain": [
       "count    2.184358e+06\n",
       "mean     5.835065e+10\n",
       "std      8.459160e+13\n",
       "min      1.000000e+00\n",
       "25%      7.200000e+05\n",
       "50%      3.436000e+06\n",
       "75%      7.699900e+06\n",
       "max      1.250001e+17\n",
       "Name: selling_price, dtype: float64"
      ]
     },
     "execution_count": 41,
     "metadata": {
      "tags": []
     },
     "output_type": "execute_result"
    }
   ],
   "source": [
    "selling_price_des = df_tarikhche['selling_price'].describe()\n",
    "selling_price_des"
   ]
  },
  {
   "cell_type": "code",
   "execution_count": null,
   "metadata": {
    "colab": {
     "base_uri": "https://localhost:8080/",
     "height": 294
    },
    "id": "qOwedZFidd-E",
    "outputId": "e6145d5b-0223-4b2f-a298-a565965021be"
   },
   "outputs": [
    {
     "data": {
      "text/plain": [
       "<matplotlib.axes._subplots.AxesSubplot at 0x7f6a38b71630>"
      ]
     },
     "execution_count": 42,
     "metadata": {
      "tags": []
     },
     "output_type": "execute_result"
    },
    {
     "data": {
      "image/png": "[encoded data removed]",
      "text/plain": [
       "<Figure size 432x288 with 1 Axes>"
      ]
     },
     "metadata": {
      "needs_background": "light",
      "tags": []
     },
     "output_type": "display_data"
    }
   ],
   "source": [
    "df_tarikhche[['selling_price']].boxplot()"
   ]
  },
  {
   "cell_type": "markdown",
   "metadata": {
    "id": "W1kRCRh6dd-E"
   },
   "source": [
    "removing the outliers of these two feature"
   ]
  },
  {
   "cell_type": "markdown",
   "metadata": {
    "id": "PiVyYSwXdd-E"
   },
   "source": [
    "**TODO** \\\\\n",
    "In this part, we store some atributes about our feature, such as Q1, Q2, Q3, mean, minimum and maximum."
   ]
  },
  {
   "cell_type": "code",
   "execution_count": null,
   "metadata": {
    "id": "UmRBBu0pdd-E"
   },
   "outputs": [],
   "source": [
    "selling_price_q1    =  selling_price_des['25%']\n",
    "selling_price_q2    =  selling_price_des['50%']\n",
    "selling_price_q3    =  selling_price_des['75%']\n",
    "selling_price_mean  =  selling_price_des['mean']\n",
    "selling_price_min   =  selling_price_des['min']\n",
    "selling_price_max   =  selling_price_des['max']"
   ]
  },
  {
   "cell_type": "markdown",
   "metadata": {
    "id": "WRZefwkndd-E"
   },
   "source": [
    "\\\\\n",
    "Calulate the IQR of likes"
   ]
  },
  {
   "cell_type": "code",
   "execution_count": null,
   "metadata": {
    "colab": {
     "base_uri": "https://localhost:8080/"
    },
    "id": "mkCfQdDMdd-E",
    "outputId": "9c20e450-0a4e-4e5a-dc71-812fc8c221b1"
   },
   "outputs": [
    {
     "name": "stdout",
     "output_type": "stream",
     "text": [
      "IQR of selling_price feature =  6979900.0\n"
     ]
    }
   ],
   "source": [
    "selling_price_iqr = selling_price_q3 - selling_price_q1\n",
    "print(\"IQR of selling_price feature = \", selling_price_iqr)"
   ]
  },
  {
   "cell_type": "markdown",
   "metadata": {
    "id": "NuIa52fidd-E"
   },
   "source": [
    "\\\\\n",
    "Code below caculate the top and bottom boundries, which define the ranges that includes outliers.\n",
    "\n",
    "* if value of a record for this feature is **less than or equal** to the ```selling_price_outlier1``` variable, it will be considered as an outlier.\n",
    "* if value of a record for this feature is **greater than or equal** to the ```selling_price_outlier2``` variable, it will be considered as an outlier."
   ]
  },
  {
   "cell_type": "code",
   "execution_count": null,
   "metadata": {
    "colab": {
     "base_uri": "https://localhost:8080/"
    },
    "id": "_GSLpHwtdd-F",
    "outputId": "ebfab1c8-131b-4f4c-b6b7-13e54d3bd4b7"
   },
   "outputs": [
    {
     "name": "stdout",
     "output_type": "stream",
     "text": [
      "outlier bottom boundry = 1.0\n",
      "outlier top boundry = 18169750.0\n"
     ]
    }
   ],
   "source": [
    "selling_price_outlier1 = max(selling_price_q1 - 1.5 * selling_price_iqr, selling_price_min)\n",
    "selling_price_outlier2 = min(selling_price_q3 + 1.5 * selling_price_iqr, selling_price_max)\n",
    "print(\"outlier bottom boundry = \" + str(selling_price_outlier1))\n",
    "print(\"outlier top boundry = \" + str(selling_price_outlier2))"
   ]
  },
  {
   "cell_type": "markdown",
   "metadata": {
    "id": "121btagVdd-F"
   },
   "source": [
    "\\\\\n",
    "In this part, we can see the rows of the data in which the value for the likes feature are outlier. \\\\\n",
    "As can be seen at the table below, there is 33112 record have outlier value for ```selling_price``` feature."
   ]
  },
  {
   "cell_type": "code",
   "execution_count": null,
   "metadata": {
    "colab": {
     "base_uri": "https://localhost:8080/",
     "height": 609
    },
    "id": "eIYuOKhAdd-F",
    "outputId": "6ff23a6e-a34a-41c9-da56-e35b697562f2"
   },
   "outputs": [
    {
     "data": {
      "text/html": [
       "<div>\n",
       "<style scoped>\n",
       "    .dataframe tbody tr th:only-of-type {\n",
       "        vertical-align: middle;\n",
       "    }\n",
       "\n",
       "    .dataframe tbody tr th {\n",
       "        vertical-align: top;\n",
       "    }\n",
       "\n",
       "    .dataframe thead th {\n",
       "        text-align: right;\n",
       "    }\n",
       "</style>\n",
       "<table border=\"1\" class=\"dataframe\">\n",
       "  <thead>\n",
       "    <tr style=\"text-align: right;\">\n",
       "      <th></th>\n",
       "      <th>id</th>\n",
       "      <th>product_variant_id</th>\n",
       "      <th>selling_price</th>\n",
       "      <th>rrp_price</th>\n",
       "      <th>base_price</th>\n",
       "      <th>buy_price</th>\n",
       "      <th>order_limit</th>\n",
       "      <th>start_at</th>\n",
       "      <th>end_at</th>\n",
       "      <th>tags</th>\n",
       "      <th>show_in_price_history</th>\n",
       "      <th>active</th>\n",
       "      <th>created_at</th>\n",
       "      <th>product_id</th>\n",
       "      <th>marketplace_seller_id</th>\n",
       "    </tr>\n",
       "  </thead>\n",
       "  <tbody>\n",
       "    <tr>\n",
       "      <th>1</th>\n",
       "      <td>18752022</td>\n",
       "      <td>1977380</td>\n",
       "      <td>12550000</td>\n",
       "      <td>12550000</td>\n",
       "      <td>\\N</td>\n",
       "      <td>\\N</td>\n",
       "      <td>2</td>\n",
       "      <td>\\N</td>\n",
       "      <td>\\N</td>\n",
       "      <td>\\N</td>\n",
       "      <td>1</td>\n",
       "      <td>0</td>\n",
       "      <td>2018-11-26 18:59:31</td>\n",
       "      <td>150144</td>\n",
       "      <td>78525</td>\n",
       "    </tr>\n",
       "    <tr>\n",
       "      <th>2</th>\n",
       "      <td>18752046</td>\n",
       "      <td>1977380</td>\n",
       "      <td>12500000</td>\n",
       "      <td>12500000</td>\n",
       "      <td>\\N</td>\n",
       "      <td>\\N</td>\n",
       "      <td>2</td>\n",
       "      <td>\\N</td>\n",
       "      <td>\\N</td>\n",
       "      <td>\\N</td>\n",
       "      <td>1</td>\n",
       "      <td>1</td>\n",
       "      <td>2018-11-26 18:59:55</td>\n",
       "      <td>150144</td>\n",
       "      <td>78525</td>\n",
       "    </tr>\n",
       "    <tr>\n",
       "      <th>5</th>\n",
       "      <td>18751959</td>\n",
       "      <td>1977367</td>\n",
       "      <td>15500000</td>\n",
       "      <td>15500000</td>\n",
       "      <td>\\N</td>\n",
       "      <td>\\N</td>\n",
       "      <td>2</td>\n",
       "      <td>\\N</td>\n",
       "      <td>\\N</td>\n",
       "      <td>\\N</td>\n",
       "      <td>1</td>\n",
       "      <td>0</td>\n",
       "      <td>2018-11-26 18:58:19</td>\n",
       "      <td>150144</td>\n",
       "      <td>78525</td>\n",
       "    </tr>\n",
       "    <tr>\n",
       "      <th>6</th>\n",
       "      <td>18752064</td>\n",
       "      <td>1977367</td>\n",
       "      <td>12500000</td>\n",
       "      <td>12500000</td>\n",
       "      <td>\\N</td>\n",
       "      <td>\\N</td>\n",
       "      <td>2</td>\n",
       "      <td>\\N</td>\n",
       "      <td>\\N</td>\n",
       "      <td>\\N</td>\n",
       "      <td>1</td>\n",
       "      <td>1</td>\n",
       "      <td>2018-11-26 19:00:16</td>\n",
       "      <td>150144</td>\n",
       "      <td>78525</td>\n",
       "    </tr>\n",
       "    <tr>\n",
       "      <th>8</th>\n",
       "      <td>18751880</td>\n",
       "      <td>1977358</td>\n",
       "      <td>15800000</td>\n",
       "      <td>15800000</td>\n",
       "      <td>\\N</td>\n",
       "      <td>\\N</td>\n",
       "      <td>2</td>\n",
       "      <td>\\N</td>\n",
       "      <td>\\N</td>\n",
       "      <td>\\N</td>\n",
       "      <td>1</td>\n",
       "      <td>1</td>\n",
       "      <td>2018-11-26 18:56:59</td>\n",
       "      <td>150144</td>\n",
       "      <td>78525</td>\n",
       "    </tr>\n",
       "    <tr>\n",
       "      <th>...</th>\n",
       "      <td>...</td>\n",
       "      <td>...</td>\n",
       "      <td>...</td>\n",
       "      <td>...</td>\n",
       "      <td>...</td>\n",
       "      <td>...</td>\n",
       "      <td>...</td>\n",
       "      <td>...</td>\n",
       "      <td>...</td>\n",
       "      <td>...</td>\n",
       "      <td>...</td>\n",
       "      <td>...</td>\n",
       "      <td>...</td>\n",
       "      <td>...</td>\n",
       "      <td>...</td>\n",
       "    </tr>\n",
       "    <tr>\n",
       "      <th>2184061</th>\n",
       "      <td>15998814</td>\n",
       "      <td>1155117</td>\n",
       "      <td>7920000</td>\n",
       "      <td>7920000</td>\n",
       "      <td>\\N</td>\n",
       "      <td>\\N</td>\n",
       "      <td>4</td>\n",
       "      <td>\\N</td>\n",
       "      <td>\\N</td>\n",
       "      <td>\\N</td>\n",
       "      <td>1</td>\n",
       "      <td>0</td>\n",
       "      <td>2018-10-25 10:14:07</td>\n",
       "      <td>56307</td>\n",
       "      <td>8776</td>\n",
       "    </tr>\n",
       "    <tr>\n",
       "      <th>2184062</th>\n",
       "      <td>16213949</td>\n",
       "      <td>1155117</td>\n",
       "      <td>7910000</td>\n",
       "      <td>7910000</td>\n",
       "      <td>\\N</td>\n",
       "      <td>\\N</td>\n",
       "      <td>4</td>\n",
       "      <td>\\N</td>\n",
       "      <td>\\N</td>\n",
       "      <td>\\N</td>\n",
       "      <td>1</td>\n",
       "      <td>1</td>\n",
       "      <td>2018-10-28 12:00:11</td>\n",
       "      <td>56307</td>\n",
       "      <td>8776</td>\n",
       "    </tr>\n",
       "    <tr>\n",
       "      <th>2184069</th>\n",
       "      <td>14405974</td>\n",
       "      <td>1155093</td>\n",
       "      <td>2420000</td>\n",
       "      <td>2420000</td>\n",
       "      <td>\\N</td>\n",
       "      <td>\\N</td>\n",
       "      <td>5</td>\n",
       "      <td>\\N</td>\n",
       "      <td>\\N</td>\n",
       "      <td>\\N</td>\n",
       "      <td>1</td>\n",
       "      <td>1</td>\n",
       "      <td>2018-10-07 17:45:43</td>\n",
       "      <td>390295</td>\n",
       "      <td>2009</td>\n",
       "    </tr>\n",
       "    <tr>\n",
       "      <th>2184109</th>\n",
       "      <td>7191124</td>\n",
       "      <td>1155075</td>\n",
       "      <td>2350000</td>\n",
       "      <td>2350000</td>\n",
       "      <td>2350000</td>\n",
       "      <td>\\N</td>\n",
       "      <td>1</td>\n",
       "      <td>\\N</td>\n",
       "      <td>\\N</td>\n",
       "      <td>\\N</td>\n",
       "      <td>1</td>\n",
       "      <td>0</td>\n",
       "      <td>2018-06-25 16:27:25</td>\n",
       "      <td>52236</td>\n",
       "      <td>169</td>\n",
       "    </tr>\n",
       "    <tr>\n",
       "      <th>2184110</th>\n",
       "      <td>12763356</td>\n",
       "      <td>1155075</td>\n",
       "      <td>2850000</td>\n",
       "      <td>2850000</td>\n",
       "      <td>\\N</td>\n",
       "      <td>\\N</td>\n",
       "      <td>1</td>\n",
       "      <td>\\N</td>\n",
       "      <td>\\N</td>\n",
       "      <td>\\N</td>\n",
       "      <td>1</td>\n",
       "      <td>1</td>\n",
       "      <td>2018-09-13 20:28:12</td>\n",
       "      <td>52236</td>\n",
       "      <td>169</td>\n",
       "    </tr>\n",
       "  </tbody>\n",
       "</table>\n",
       "<p>1294508 rows × 15 columns</p>\n",
       "</div>"
      ],
      "text/plain": [
       "               id  product_variant_id  ...  product_id  marketplace_seller_id\n",
       "1        18752022             1977380  ...      150144                  78525\n",
       "2        18752046             1977380  ...      150144                  78525\n",
       "5        18751959             1977367  ...      150144                  78525\n",
       "6        18752064             1977367  ...      150144                  78525\n",
       "8        18751880             1977358  ...      150144                  78525\n",
       "...           ...                 ...  ...         ...                    ...\n",
       "2184061  15998814             1155117  ...       56307                   8776\n",
       "2184062  16213949             1155117  ...       56307                   8776\n",
       "2184069  14405974             1155093  ...      390295                   2009\n",
       "2184109   7191124             1155075  ...       52236                    169\n",
       "2184110  12763356             1155075  ...       52236                    169\n",
       "\n",
       "[1294508 rows x 15 columns]"
      ]
     },
     "execution_count": 46,
     "metadata": {
      "tags": []
     },
     "output_type": "execute_result"
    }
   ],
   "source": [
    "df_tarikhche.loc[(df_tarikhche['selling_price'] <= amount_gross_outlier1) | (df_tarikhche['selling_price'] >= amount_gross_outlier2)]"
   ]
  },
  {
   "cell_type": "code",
   "execution_count": null,
   "metadata": {
    "id": "Zy0wLGu_dd-F"
   },
   "outputs": [],
   "source": [
    "x = df_tarikhche.loc[(df_tarikhche['selling_price'] > amount_gross_outlier1) & (df_tarikhche['selling_price'] < amount_gross_outlier2)]"
   ]
  },
  {
   "cell_type": "code",
   "execution_count": null,
   "metadata": {
    "colab": {
     "base_uri": "https://localhost:8080/",
     "height": 294
    },
    "id": "3D7YAMcZdd-F",
    "outputId": "bd5807ea-7561-4ece-f1f4-7eb95f11478a"
   },
   "outputs": [
    {
     "data": {
      "text/plain": [
       "<matplotlib.axes._subplots.AxesSubplot at 0x7f6a2f361d30>"
      ]
     },
     "execution_count": 51,
     "metadata": {
      "tags": []
     },
     "output_type": "execute_result"
    },
    {
     "data": {
      "image/png": "[encoded data removed]",
      "text/plain": [
       "<Figure size 432x288 with 1 Axes>"
      ]
     },
     "metadata": {
      "needs_background": "light",
      "tags": []
     },
     "output_type": "display_data"
    }
   ],
   "source": [
    "x[['selling_price']].boxplot()"
   ]
  },
  {
   "cell_type": "markdown",
   "metadata": {
    "id": "9f3XDFldesKy"
   },
   "source": [
    "## rrp_price"
   ]
  },
  {
   "cell_type": "code",
   "execution_count": null,
   "metadata": {
    "colab": {
     "base_uri": "https://localhost:8080/"
    },
    "id": "spRXUGMWesKz",
    "outputId": "a6f935b9-8eaf-4929-d50d-0f72fcc3def9"
   },
   "outputs": [
    {
     "data": {
      "text/plain": [
       "count    2.184358e+06\n",
       "mean     5.852594e+10\n",
       "std      8.459193e+13\n",
       "min      1.000000e+00\n",
       "25%      7.900000e+05\n",
       "50%      3.500000e+06\n",
       "75%      7.795000e+06\n",
       "max      1.250001e+17\n",
       "Name: rrp_price, dtype: float64"
      ]
     },
     "execution_count": 52,
     "metadata": {
      "tags": []
     },
     "output_type": "execute_result"
    }
   ],
   "source": [
    "rrp_price_des = df_tarikhche['rrp_price'].describe()\n",
    "rrp_price_des"
   ]
  },
  {
   "cell_type": "code",
   "execution_count": null,
   "metadata": {
    "colab": {
     "base_uri": "https://localhost:8080/",
     "height": 294
    },
    "id": "oIGJxCQkesK2",
    "outputId": "94c74dd6-895c-4722-abc3-ebb0430bff55"
   },
   "outputs": [
    {
     "data": {
      "text/plain": [
       "<matplotlib.axes._subplots.AxesSubplot at 0x7f6a2f1cc4e0>"
      ]
     },
     "execution_count": 53,
     "metadata": {
      "tags": []
     },
     "output_type": "execute_result"
    },
    {
     "data": {
      "image/png": "[encoded data removed]",
      "text/plain": [
       "<Figure size 432x288 with 1 Axes>"
      ]
     },
     "metadata": {
      "needs_background": "light",
      "tags": []
     },
     "output_type": "display_data"
    }
   ],
   "source": [
    "df_tarikhche[['rrp_price']].boxplot()"
   ]
  },
  {
   "cell_type": "markdown",
   "metadata": {
    "id": "Q7aiG0nnesK3"
   },
   "source": [
    "removing the outliers of these two feature"
   ]
  },
  {
   "cell_type": "markdown",
   "metadata": {
    "id": "p_N6zx7MesK3"
   },
   "source": [
    "**TODO** \\\\\n",
    "In this part, we store some atributes about our feature, such as Q1, Q2, Q3, mean, minimum and maximum."
   ]
  },
  {
   "cell_type": "code",
   "execution_count": null,
   "metadata": {
    "id": "JcoNdA3LesK3"
   },
   "outputs": [],
   "source": [
    "rrp_price_q1    =  rrp_price_des['25%']\n",
    "rrp_price_q2    =  rrp_price_des['50%']\n",
    "rrp_price_q3    =  rrp_price_des['75%']\n",
    "rrp_price_mean  =  rrp_price_des['mean']\n",
    "rrp_price_min   =  rrp_price_des['min']\n",
    "rrp_price_max   =  rrp_price_des['max']"
   ]
  },
  {
   "cell_type": "markdown",
   "metadata": {
    "id": "5ukh9vYpesK4"
   },
   "source": [
    "\\\\\n",
    "Calulate the IQR of likes"
   ]
  },
  {
   "cell_type": "code",
   "execution_count": null,
   "metadata": {
    "colab": {
     "base_uri": "https://localhost:8080/"
    },
    "id": "6ekPCFYaesK4",
    "outputId": "a948d171-1a18-45d4-f6cc-3a3a893ada55"
   },
   "outputs": [
    {
     "name": "stdout",
     "output_type": "stream",
     "text": [
      "IQR of rrp_price feature =  7005000.0\n"
     ]
    }
   ],
   "source": [
    "rrp_price_iqr = rrp_price_q3 - rrp_price_q1\n",
    "print(\"IQR of rrp_price feature = \", rrp_price_iqr)"
   ]
  },
  {
   "cell_type": "markdown",
   "metadata": {
    "id": "5W6eAyV5esK4"
   },
   "source": [
    "\\\\\n",
    "Code below caculate the top and bottom boundries, which define the ranges that includes outliers.\n",
    "\n",
    "* if value of a record for this feature is **less than or equal** to the ```rrp_price_outlier1``` variable, it will be considered as an outlier.\n",
    "* if value of a record for this feature is **greater than or equal** to the ```rrp_price_outlier2``` variable, it will be considered as an outlier."
   ]
  },
  {
   "cell_type": "code",
   "execution_count": null,
   "metadata": {
    "colab": {
     "base_uri": "https://localhost:8080/"
    },
    "id": "LpOHLt9qesK4",
    "outputId": "b07e6640-12b2-4d21-c889-6b407c6f5acf"
   },
   "outputs": [
    {
     "name": "stdout",
     "output_type": "stream",
     "text": [
      "outlier bottom boundry = 1.0\n",
      "outlier top boundry = 18207400.0\n"
     ]
    }
   ],
   "source": [
    "rrp_price_outlier1 = max(selling_price_q1 - 1.5 * rrp_price_iqr, rrp_price_min)\n",
    "rrp_price_outlier2 = min(selling_price_q3 + 1.5 * rrp_price_iqr, rrp_price_max)\n",
    "print(\"outlier bottom boundry = \" + str(rrp_price_outlier1))\n",
    "print(\"outlier top boundry = \" + str(rrp_price_outlier2))"
   ]
  },
  {
   "cell_type": "markdown",
   "metadata": {
    "id": "MfzBUVLuesK5"
   },
   "source": [
    "\\\\\n",
    "In this part, we can see the rows of the data in which the value for the likes feature are outlier. \\\\\n",
    "As can be seen at the table below, there is 1312417 record have outlier value for ```rrp_price``` feature."
   ]
  },
  {
   "cell_type": "code",
   "execution_count": null,
   "metadata": {
    "colab": {
     "base_uri": "https://localhost:8080/",
     "height": 626
    },
    "id": "Q9Iu6rDbesK5",
    "outputId": "b548d242-b7d5-466c-bf2a-7de749138a06"
   },
   "outputs": [
    {
     "data": {
      "text/html": [
       "<div>\n",
       "<style scoped>\n",
       "    .dataframe tbody tr th:only-of-type {\n",
       "        vertical-align: middle;\n",
       "    }\n",
       "\n",
       "    .dataframe tbody tr th {\n",
       "        vertical-align: top;\n",
       "    }\n",
       "\n",
       "    .dataframe thead th {\n",
       "        text-align: right;\n",
       "    }\n",
       "</style>\n",
       "<table border=\"1\" class=\"dataframe\">\n",
       "  <thead>\n",
       "    <tr style=\"text-align: right;\">\n",
       "      <th></th>\n",
       "      <th>id</th>\n",
       "      <th>product_variant_id</th>\n",
       "      <th>selling_price</th>\n",
       "      <th>rrp_price</th>\n",
       "      <th>base_price</th>\n",
       "      <th>buy_price</th>\n",
       "      <th>order_limit</th>\n",
       "      <th>start_at</th>\n",
       "      <th>end_at</th>\n",
       "      <th>tags</th>\n",
       "      <th>show_in_price_history</th>\n",
       "      <th>active</th>\n",
       "      <th>created_at</th>\n",
       "      <th>product_id</th>\n",
       "      <th>marketplace_seller_id</th>\n",
       "    </tr>\n",
       "  </thead>\n",
       "  <tbody>\n",
       "    <tr>\n",
       "      <th>1</th>\n",
       "      <td>18752022</td>\n",
       "      <td>1977380</td>\n",
       "      <td>12550000</td>\n",
       "      <td>12550000</td>\n",
       "      <td>\\N</td>\n",
       "      <td>\\N</td>\n",
       "      <td>2</td>\n",
       "      <td>\\N</td>\n",
       "      <td>\\N</td>\n",
       "      <td>\\N</td>\n",
       "      <td>1</td>\n",
       "      <td>0</td>\n",
       "      <td>2018-11-26 18:59:31</td>\n",
       "      <td>150144</td>\n",
       "      <td>78525</td>\n",
       "    </tr>\n",
       "    <tr>\n",
       "      <th>2</th>\n",
       "      <td>18752046</td>\n",
       "      <td>1977380</td>\n",
       "      <td>12500000</td>\n",
       "      <td>12500000</td>\n",
       "      <td>\\N</td>\n",
       "      <td>\\N</td>\n",
       "      <td>2</td>\n",
       "      <td>\\N</td>\n",
       "      <td>\\N</td>\n",
       "      <td>\\N</td>\n",
       "      <td>1</td>\n",
       "      <td>1</td>\n",
       "      <td>2018-11-26 18:59:55</td>\n",
       "      <td>150144</td>\n",
       "      <td>78525</td>\n",
       "    </tr>\n",
       "    <tr>\n",
       "      <th>5</th>\n",
       "      <td>18751959</td>\n",
       "      <td>1977367</td>\n",
       "      <td>15500000</td>\n",
       "      <td>15500000</td>\n",
       "      <td>\\N</td>\n",
       "      <td>\\N</td>\n",
       "      <td>2</td>\n",
       "      <td>\\N</td>\n",
       "      <td>\\N</td>\n",
       "      <td>\\N</td>\n",
       "      <td>1</td>\n",
       "      <td>0</td>\n",
       "      <td>2018-11-26 18:58:19</td>\n",
       "      <td>150144</td>\n",
       "      <td>78525</td>\n",
       "    </tr>\n",
       "    <tr>\n",
       "      <th>6</th>\n",
       "      <td>18752064</td>\n",
       "      <td>1977367</td>\n",
       "      <td>12500000</td>\n",
       "      <td>12500000</td>\n",
       "      <td>\\N</td>\n",
       "      <td>\\N</td>\n",
       "      <td>2</td>\n",
       "      <td>\\N</td>\n",
       "      <td>\\N</td>\n",
       "      <td>\\N</td>\n",
       "      <td>1</td>\n",
       "      <td>1</td>\n",
       "      <td>2018-11-26 19:00:16</td>\n",
       "      <td>150144</td>\n",
       "      <td>78525</td>\n",
       "    </tr>\n",
       "    <tr>\n",
       "      <th>8</th>\n",
       "      <td>18751880</td>\n",
       "      <td>1977358</td>\n",
       "      <td>15800000</td>\n",
       "      <td>15800000</td>\n",
       "      <td>\\N</td>\n",
       "      <td>\\N</td>\n",
       "      <td>2</td>\n",
       "      <td>\\N</td>\n",
       "      <td>\\N</td>\n",
       "      <td>\\N</td>\n",
       "      <td>1</td>\n",
       "      <td>1</td>\n",
       "      <td>2018-11-26 18:56:59</td>\n",
       "      <td>150144</td>\n",
       "      <td>78525</td>\n",
       "    </tr>\n",
       "    <tr>\n",
       "      <th>...</th>\n",
       "      <td>...</td>\n",
       "      <td>...</td>\n",
       "      <td>...</td>\n",
       "      <td>...</td>\n",
       "      <td>...</td>\n",
       "      <td>...</td>\n",
       "      <td>...</td>\n",
       "      <td>...</td>\n",
       "      <td>...</td>\n",
       "      <td>...</td>\n",
       "      <td>...</td>\n",
       "      <td>...</td>\n",
       "      <td>...</td>\n",
       "      <td>...</td>\n",
       "      <td>...</td>\n",
       "    </tr>\n",
       "    <tr>\n",
       "      <th>2184062</th>\n",
       "      <td>16213949</td>\n",
       "      <td>1155117</td>\n",
       "      <td>7910000</td>\n",
       "      <td>7910000</td>\n",
       "      <td>\\N</td>\n",
       "      <td>\\N</td>\n",
       "      <td>4</td>\n",
       "      <td>\\N</td>\n",
       "      <td>\\N</td>\n",
       "      <td>\\N</td>\n",
       "      <td>1</td>\n",
       "      <td>1</td>\n",
       "      <td>2018-10-28 12:00:11</td>\n",
       "      <td>56307</td>\n",
       "      <td>8776</td>\n",
       "    </tr>\n",
       "    <tr>\n",
       "      <th>2184069</th>\n",
       "      <td>14405974</td>\n",
       "      <td>1155093</td>\n",
       "      <td>2420000</td>\n",
       "      <td>2420000</td>\n",
       "      <td>\\N</td>\n",
       "      <td>\\N</td>\n",
       "      <td>5</td>\n",
       "      <td>\\N</td>\n",
       "      <td>\\N</td>\n",
       "      <td>\\N</td>\n",
       "      <td>1</td>\n",
       "      <td>1</td>\n",
       "      <td>2018-10-07 17:45:43</td>\n",
       "      <td>390295</td>\n",
       "      <td>2009</td>\n",
       "    </tr>\n",
       "    <tr>\n",
       "      <th>2184070</th>\n",
       "      <td>15952720</td>\n",
       "      <td>1155093</td>\n",
       "      <td>2330000</td>\n",
       "      <td>2420000</td>\n",
       "      <td>0</td>\n",
       "      <td>\\N</td>\n",
       "      <td>5</td>\n",
       "      <td>2018-11-19 10:00:00</td>\n",
       "      <td>2018-11-27 10:00:00</td>\n",
       "      <td>selling_and_sales</td>\n",
       "      <td>1</td>\n",
       "      <td>1</td>\n",
       "      <td>2018-10-24 16:26:50</td>\n",
       "      <td>390295</td>\n",
       "      <td>2009</td>\n",
       "    </tr>\n",
       "    <tr>\n",
       "      <th>2184109</th>\n",
       "      <td>7191124</td>\n",
       "      <td>1155075</td>\n",
       "      <td>2350000</td>\n",
       "      <td>2350000</td>\n",
       "      <td>2350000</td>\n",
       "      <td>\\N</td>\n",
       "      <td>1</td>\n",
       "      <td>\\N</td>\n",
       "      <td>\\N</td>\n",
       "      <td>\\N</td>\n",
       "      <td>1</td>\n",
       "      <td>0</td>\n",
       "      <td>2018-06-25 16:27:25</td>\n",
       "      <td>52236</td>\n",
       "      <td>169</td>\n",
       "    </tr>\n",
       "    <tr>\n",
       "      <th>2184110</th>\n",
       "      <td>12763356</td>\n",
       "      <td>1155075</td>\n",
       "      <td>2850000</td>\n",
       "      <td>2850000</td>\n",
       "      <td>\\N</td>\n",
       "      <td>\\N</td>\n",
       "      <td>1</td>\n",
       "      <td>\\N</td>\n",
       "      <td>\\N</td>\n",
       "      <td>\\N</td>\n",
       "      <td>1</td>\n",
       "      <td>1</td>\n",
       "      <td>2018-09-13 20:28:12</td>\n",
       "      <td>52236</td>\n",
       "      <td>169</td>\n",
       "    </tr>\n",
       "  </tbody>\n",
       "</table>\n",
       "<p>1312417 rows × 15 columns</p>\n",
       "</div>"
      ],
      "text/plain": [
       "               id  product_variant_id  ...  product_id  marketplace_seller_id\n",
       "1        18752022             1977380  ...      150144                  78525\n",
       "2        18752046             1977380  ...      150144                  78525\n",
       "5        18751959             1977367  ...      150144                  78525\n",
       "6        18752064             1977367  ...      150144                  78525\n",
       "8        18751880             1977358  ...      150144                  78525\n",
       "...           ...                 ...  ...         ...                    ...\n",
       "2184062  16213949             1155117  ...       56307                   8776\n",
       "2184069  14405974             1155093  ...      390295                   2009\n",
       "2184070  15952720             1155093  ...      390295                   2009\n",
       "2184109   7191124             1155075  ...       52236                    169\n",
       "2184110  12763356             1155075  ...       52236                    169\n",
       "\n",
       "[1312417 rows x 15 columns]"
      ]
     },
     "execution_count": 59,
     "metadata": {
      "tags": []
     },
     "output_type": "execute_result"
    }
   ],
   "source": [
    "df_tarikhche.loc[(df_tarikhche['rrp_price'] <= amount_gross_outlier1) | (df_tarikhche['rrp_price'] >= amount_gross_outlier2)]"
   ]
  },
  {
   "cell_type": "code",
   "execution_count": null,
   "metadata": {
    "id": "SFqqqpGYesK5"
   },
   "outputs": [],
   "source": [
    "x = df_tarikhche.loc[(df_tarikhche['rrp_price'] > amount_gross_outlier1) & (df_tarikhche['rrp_price'] < amount_gross_outlier2)]"
   ]
  },
  {
   "cell_type": "code",
   "execution_count": null,
   "metadata": {
    "colab": {
     "base_uri": "https://localhost:8080/",
     "height": 294
    },
    "id": "lfnMCgFFesK6",
    "outputId": "2c4f7162-cc14-4e76-e6aa-ba0bdad0e38b"
   },
   "outputs": [
    {
     "data": {
      "text/plain": [
       "<matplotlib.axes._subplots.AxesSubplot at 0x7f6a2f0fb320>"
      ]
     },
     "execution_count": 62,
     "metadata": {
      "tags": []
     },
     "output_type": "execute_result"
    },
    {
     "data": {
      "image/png": "[encoded data removed]",
      "text/plain": [
       "<Figure size 432x288 with 1 Axes>"
      ]
     },
     "metadata": {
      "needs_background": "light",
      "tags": []
     },
     "output_type": "display_data"
    }
   ],
   "source": [
    "x[['rrp_price']].boxplot()"
   ]
  }
 ],
 "metadata": {
  "colab": {
   "collapsed_sections": [
    "lam2CEAQA7pR",
    "_6pd3WDF0w8S",
    "Zn54QvW327jR",
    "Q_xz3XFc3WSj",
    "P__Zw019D7SU",
    "zI1BF9PjFB8D",
    "PJ05q8LYGYe0",
    "35fcpduSJdsN",
    "j5GMUrJHLKQu",
    "uK7oHSOELsNV",
    "bZNE851odd-C",
    "9f3XDFldesKy"
   ],
   "name": "Part 1",
   "provenance": [],
   "toc_visible": true
  },
  "kernelspec": {
   "display_name": "Python 3",
   "language": "python",
   "name": "python3"
  },
  "language_info": {
   "codemirror_mode": {
    "name": "ipython",
    "version": 3
   },
   "file_extension": ".py",
   "mimetype": "text/x-python",
   "name": "python",
   "nbconvert_exporter": "python",
   "pygments_lexer": "ipython3",
   "version": "3.6.3"
  }
 },
 "nbformat": 4,
 "nbformat_minor": 4
}
