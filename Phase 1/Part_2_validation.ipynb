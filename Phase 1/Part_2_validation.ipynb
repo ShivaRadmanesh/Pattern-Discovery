{
  "nbformat": 4,
  "nbformat_minor": 0,
  "metadata": {
    "colab": {
      "name": "Part 2 - validation.ipynb",
      "provenance": [],
      "collapsed_sections": [
        "zmcQFIT-zKNg",
        "f9ZjPn0GzOm4",
        "VPd16vMV8SPG",
        "x34Kl6PpMFn9"
      ]
    },
    "kernelspec": {
      "name": "python3",
      "display_name": "Python 3"
    }
  },
  "cells": [
    {
      "cell_type": "code",
      "metadata": {
        "colab": {
          "base_uri": "https://localhost:8080/"
        },
        "id": "0JBbo3jzf4ud",
        "outputId": "da9a6192-dc1c-49b5-d8c9-1e0f76522dbc"
      },
      "source": [
        "from google.colab import drive\n",
        "drive.mount('/content/drive')"
      ],
      "execution_count": null,
      "outputs": [
        {
          "output_type": "stream",
          "text": [
            "Mounted at /content/drive\n"
          ],
          "name": "stdout"
        }
      ]
    },
    {
      "cell_type": "code",
      "metadata": {
        "colab": {
          "base_uri": "https://localhost:8080/"
        },
        "id": "Qj0Xpx1HzmQt",
        "outputId": "bd4dac3e-7fdc-42fd-d27a-ee5011e21880"
      },
      "source": [
        "!unrar e /content/drive/'My Drive'/DataMining/dataset.rar"
      ],
      "execution_count": null,
      "outputs": [
        {
          "output_type": "stream",
          "text": [
            "\n",
            "UNRAR 5.50 freeware      Copyright (c) 1993-2017 Alexander Roshal\n",
            "\n",
            "\n",
            "Extracting from /content/drive/My Drive/DataMining/dataset.rar\n",
            "\n",
            "Extracting  product.xlsx                                                 \b\b\b\b  5%\b\b\b\b 10%\b\b\b\b 16%\b\b\b\b 17%\b\b\b\b\b  OK \n",
            "Extracting  tarikhche kharid.csv                                         \b\b\b\b 22%\b\b\b\b 27%\b\b\b\b 33%\b\b\b\b 38%\b\b\b\b 43%\b\b\b\b 48%\b\b\b\b\b  OK \n",
            "Extracting  comment.xlsx                                                 \b\b\b\b 53%\b\b\b\b 58%\b\b\b\b 64%\b\b\b\b 69%\b\b\b\b\b  OK \n",
            "Extracting  keifiat.xlsx                                                 \b\b\b\b 69%\b\b\b\b 70%\b\b\b\b 71%\b\b\b\b 72%\b\b\b\b 73%\b\b\b\b 74%\b\b\b\b 75%\b\b\b\b 76%\b\b\b\b 77%\b\b\b\b 78%\b\b\b\b 79%\b\b\b\b 80%\b\b\b\b 81%\b\b\b\b 82%\b\b\b\b 83%\b\b\b\b 84%\b\b\b\b 85%\b\b\b\b 86%\b\b\b\b 87%\b\b\b\b 88%\b\b\b\b 89%\b\b\b\b 90%\b\b\b\b 91%\b\b\b\b 92%\b\b\b\b 93%\b\b\b\b 94%\b\b\b\b\b  OK \n",
            "Extracting  orders.csv                                                   \b\b\b\b 99%\b\b\b\b\b  OK \n",
            "All OK\n"
          ],
          "name": "stdout"
        }
      ]
    },
    {
      "cell_type": "code",
      "metadata": {
        "colab": {
          "base_uri": "https://localhost:8080/"
        },
        "id": "Kx6hgPbh27bM",
        "outputId": "91697aa3-1401-49f8-a63a-3eeb4b8de4c3"
      },
      "source": [
        "import pandas as pd \n",
        "import numpy as np\n",
        "import datetime\n",
        "import re\n",
        "print('done')"
      ],
      "execution_count": null,
      "outputs": [
        {
          "output_type": "stream",
          "text": [
            "done\n"
          ],
          "name": "stdout"
        }
      ]
    },
    {
      "cell_type": "markdown",
      "metadata": {
        "id": "zmcQFIT-zKNg"
      },
      "source": [
        "# **Orders dataset**"
      ]
    },
    {
      "cell_type": "code",
      "metadata": {
        "colab": {
          "base_uri": "https://localhost:8080/",
          "height": 419
        },
        "id": "BD6iTcZY3Dzq",
        "outputId": "be225a67-ad69-4d37-e130-9d04bb3e5b2f"
      },
      "source": [
        "df_orders = pd.read_csv('orders.csv')\n",
        "df_orders"
      ],
      "execution_count": null,
      "outputs": [
        {
          "output_type": "execute_result",
          "data": {
            "text/html": [
              "<div>\n",
              "<style scoped>\n",
              "    .dataframe tbody tr th:only-of-type {\n",
              "        vertical-align: middle;\n",
              "    }\n",
              "\n",
              "    .dataframe tbody tr th {\n",
              "        vertical-align: top;\n",
              "    }\n",
              "\n",
              "    .dataframe thead th {\n",
              "        text-align: right;\n",
              "    }\n",
              "</style>\n",
              "<table border=\"1\" class=\"dataframe\">\n",
              "  <thead>\n",
              "    <tr style=\"text-align: right;\">\n",
              "      <th></th>\n",
              "      <th>ID_Order</th>\n",
              "      <th>ID_Customer</th>\n",
              "      <th>ID_Item</th>\n",
              "      <th>DateTime_CartFinalize</th>\n",
              "      <th>Amount_Gross_Order</th>\n",
              "      <th>city_name_fa</th>\n",
              "      <th>Quantity_item</th>\n",
              "    </tr>\n",
              "  </thead>\n",
              "  <tbody>\n",
              "    <tr>\n",
              "      <th>0</th>\n",
              "      <td>2714054</td>\n",
              "      <td>469662</td>\n",
              "      <td>21386</td>\n",
              "      <td>2015-10-15 08:50:56.000</td>\n",
              "      <td>597982.0</td>\n",
              "      <td>محمود آباد</td>\n",
              "      <td>1.0</td>\n",
              "    </tr>\n",
              "    <tr>\n",
              "      <th>1</th>\n",
              "      <td>11104039</td>\n",
              "      <td>3063877</td>\n",
              "      <td>248497</td>\n",
              "      <td>2018-02-11 00:29:26.000</td>\n",
              "      <td>980000.0</td>\n",
              "      <td>خرمدره</td>\n",
              "      <td>1.0</td>\n",
              "    </tr>\n",
              "    <tr>\n",
              "      <th>2</th>\n",
              "      <td>4228130</td>\n",
              "      <td>3184893</td>\n",
              "      <td>50144</td>\n",
              "      <td>2016-06-14 00:30:08.000</td>\n",
              "      <td>229358.0</td>\n",
              "      <td>قرچک</td>\n",
              "      <td>1.0</td>\n",
              "    </tr>\n",
              "    <tr>\n",
              "      <th>3</th>\n",
              "      <td>22225624</td>\n",
              "      <td>6888562</td>\n",
              "      <td>70208</td>\n",
              "      <td>2018-09-03 14:37:19.000</td>\n",
              "      <td>16514.0</td>\n",
              "      <td>قم</td>\n",
              "      <td>1.0</td>\n",
              "    </tr>\n",
              "    <tr>\n",
              "      <th>4</th>\n",
              "      <td>4068771</td>\n",
              "      <td>2533490</td>\n",
              "      <td>67627</td>\n",
              "      <td>2016-05-21 11:51:02.000</td>\n",
              "      <td>133028.0</td>\n",
              "      <td>تهران</td>\n",
              "      <td>1.0</td>\n",
              "    </tr>\n",
              "    <tr>\n",
              "      <th>...</th>\n",
              "      <td>...</td>\n",
              "      <td>...</td>\n",
              "      <td>...</td>\n",
              "      <td>...</td>\n",
              "      <td>...</td>\n",
              "      <td>...</td>\n",
              "      <td>...</td>\n",
              "    </tr>\n",
              "    <tr>\n",
              "      <th>199995</th>\n",
              "      <td>12172771</td>\n",
              "      <td>4403268</td>\n",
              "      <td>445940</td>\n",
              "      <td>2018-04-03 12:07:01.000</td>\n",
              "      <td>344037.0</td>\n",
              "      <td>تهران</td>\n",
              "      <td>2.0</td>\n",
              "    </tr>\n",
              "    <tr>\n",
              "      <th>199996</th>\n",
              "      <td>4425393</td>\n",
              "      <td>3745774</td>\n",
              "      <td>131645</td>\n",
              "      <td>2016-07-09 19:14:09.000</td>\n",
              "      <td>600000.0</td>\n",
              "      <td>محمدیه</td>\n",
              "      <td>1.0</td>\n",
              "    </tr>\n",
              "    <tr>\n",
              "      <th>199997</th>\n",
              "      <td>6671889</td>\n",
              "      <td>4845514</td>\n",
              "      <td>215045</td>\n",
              "      <td>2017-03-08 23:47:06.000</td>\n",
              "      <td>450000.0</td>\n",
              "      <td>اصفهان</td>\n",
              "      <td>1.0</td>\n",
              "    </tr>\n",
              "    <tr>\n",
              "      <th>199998</th>\n",
              "      <td>6315995</td>\n",
              "      <td>2541418</td>\n",
              "      <td>264021</td>\n",
              "      <td>2017-02-08 14:59:39.000</td>\n",
              "      <td>193486.0</td>\n",
              "      <td>همدان</td>\n",
              "      <td>1.0</td>\n",
              "    </tr>\n",
              "    <tr>\n",
              "      <th>199999</th>\n",
              "      <td>7584127</td>\n",
              "      <td>1342585</td>\n",
              "      <td>89427</td>\n",
              "      <td>2017-06-17 10:08:06.000</td>\n",
              "      <td>55046.0</td>\n",
              "      <td>بندر انزلی</td>\n",
              "      <td>1.0</td>\n",
              "    </tr>\n",
              "  </tbody>\n",
              "</table>\n",
              "<p>200000 rows × 7 columns</p>\n",
              "</div>"
            ],
            "text/plain": [
              "        ID_Order  ID_Customer  ...  city_name_fa Quantity_item\n",
              "0        2714054       469662  ...    محمود آباد           1.0\n",
              "1       11104039      3063877  ...        خرمدره           1.0\n",
              "2        4228130      3184893  ...          قرچک           1.0\n",
              "3       22225624      6888562  ...            قم           1.0\n",
              "4        4068771      2533490  ...         تهران           1.0\n",
              "...          ...          ...  ...           ...           ...\n",
              "199995  12172771      4403268  ...         تهران           2.0\n",
              "199996   4425393      3745774  ...        محمدیه           1.0\n",
              "199997   6671889      4845514  ...        اصفهان           1.0\n",
              "199998   6315995      2541418  ...         همدان           1.0\n",
              "199999   7584127      1342585  ...    بندر انزلی           1.0\n",
              "\n",
              "[200000 rows x 7 columns]"
            ]
          },
          "metadata": {
            "tags": []
          },
          "execution_count": 5
        }
      ]
    },
    {
      "cell_type": "code",
      "metadata": {
        "colab": {
          "base_uri": "https://localhost:8080/"
        },
        "id": "Uli4wTvcphU_",
        "outputId": "3c81f93c-ccaf-4427-fba2-5344cf37be75"
      },
      "source": [
        "e = df_orders.loc[1, ['DateTime_CartFinalize']]\n",
        "print(type(e))"
      ],
      "execution_count": null,
      "outputs": [
        {
          "output_type": "stream",
          "text": [
            "<class 'pandas.core.series.Series'>\n"
          ],
          "name": "stdout"
        }
      ]
    },
    {
      "cell_type": "markdown",
      "metadata": {
        "id": "WQD2BUeZsWvS"
      },
      "source": [
        "\\\\\n",
        "with this line we check if the time is in the future compare to now. This shows all of the rows of the ```DateTime_CartFinalize``` column are valid beacuse, there is no record that the belongs to a future time."
      ]
    },
    {
      "cell_type": "code",
      "metadata": {
        "colab": {
          "base_uri": "https://localhost:8080/",
          "height": 49
        },
        "id": "wIuGCxSzrGWz",
        "outputId": "4630ceb8-39b4-46b1-959b-ad2bff716698"
      },
      "source": [
        "df_orders[(pd.to_datetime(df_orders['DateTime_CartFinalize']) > datetime.datetime.now())]"
      ],
      "execution_count": null,
      "outputs": [
        {
          "output_type": "execute_result",
          "data": {
            "text/html": [
              "<div>\n",
              "<style scoped>\n",
              "    .dataframe tbody tr th:only-of-type {\n",
              "        vertical-align: middle;\n",
              "    }\n",
              "\n",
              "    .dataframe tbody tr th {\n",
              "        vertical-align: top;\n",
              "    }\n",
              "\n",
              "    .dataframe thead th {\n",
              "        text-align: right;\n",
              "    }\n",
              "</style>\n",
              "<table border=\"1\" class=\"dataframe\">\n",
              "  <thead>\n",
              "    <tr style=\"text-align: right;\">\n",
              "      <th></th>\n",
              "      <th>ID_Order</th>\n",
              "      <th>ID_Customer</th>\n",
              "      <th>ID_Item</th>\n",
              "      <th>DateTime_CartFinalize</th>\n",
              "      <th>Amount_Gross_Order</th>\n",
              "      <th>city_name_fa</th>\n",
              "      <th>Quantity_item</th>\n",
              "    </tr>\n",
              "  </thead>\n",
              "  <tbody>\n",
              "  </tbody>\n",
              "</table>\n",
              "</div>"
            ],
            "text/plain": [
              "Empty DataFrame\n",
              "Columns: [ID_Order, ID_Customer, ID_Item, DateTime_CartFinalize, Amount_Gross_Order, city_name_fa, Quantity_item]\n",
              "Index: []"
            ]
          },
          "metadata": {
            "tags": []
          },
          "execution_count": 7
        }
      ]
    },
    {
      "cell_type": "markdown",
      "metadata": {
        "id": "vGtFgm8Fx4Oc"
      },
      "source": [
        "\\\\\n",
        "These two lines below checks shows that all of the rows of ```Amount_Gross_Order``` and ```Quantity_item``` columns are integer"
      ]
    },
    {
      "cell_type": "code",
      "metadata": {
        "colab": {
          "base_uri": "https://localhost:8080/"
        },
        "id": "j49R5fUoxlnQ",
        "outputId": "779647d2-02f4-490e-d8b7-738b7f45d004"
      },
      "source": [
        "all(x.is_integer() for x in df_orders['Amount_Gross_Order'])"
      ],
      "execution_count": null,
      "outputs": [
        {
          "output_type": "execute_result",
          "data": {
            "text/plain": [
              "True"
            ]
          },
          "metadata": {
            "tags": []
          },
          "execution_count": 66
        }
      ]
    },
    {
      "cell_type": "code",
      "metadata": {
        "colab": {
          "base_uri": "https://localhost:8080/"
        },
        "id": "pdAWZzxQzBuu",
        "outputId": "8e3ccfbb-1fb6-4e1a-ce61-758608e195b7"
      },
      "source": [
        "all(x.is_integer() for x in df_orders['Quantity_item'])"
      ],
      "execution_count": null,
      "outputs": [
        {
          "output_type": "execute_result",
          "data": {
            "text/plain": [
              "True"
            ]
          },
          "metadata": {
            "tags": []
          },
          "execution_count": 52
        }
      ]
    },
    {
      "cell_type": "markdown",
      "metadata": {
        "id": "_0YCB6G8tsRB"
      },
      "source": [
        "\\\\\n",
        "Code below shows what is the range of the id of the orders in which we can see that the all the ids consist of 5 digits."
      ]
    },
    {
      "cell_type": "code",
      "metadata": {
        "colab": {
          "base_uri": "https://localhost:8080/"
        },
        "id": "7dJQwWyHsiyP",
        "outputId": "c656bdec-d425-4051-acfa-c66cae0b9037"
      },
      "source": [
        "minimum = min(df_orders['ID_Order'])\n",
        "maximum = max(df_orders['ID_Order'])\n",
        "print('minimum = ', minimum)\n",
        "print('maximum = ', maximum)"
      ],
      "execution_count": null,
      "outputs": [
        {
          "output_type": "stream",
          "text": [
            "minimum =  1000411\n",
            "maximum =  24846558\n"
          ],
          "name": "stdout"
        }
      ]
    },
    {
      "cell_type": "markdown",
      "metadata": {
        "id": "f9ZjPn0GzOm4"
      },
      "source": [
        "\\\\\n",
        "# **Product dataset**"
      ]
    },
    {
      "cell_type": "code",
      "metadata": {
        "colab": {
          "base_uri": "https://localhost:8080/",
          "height": 915
        },
        "id": "a5hHWRjjzdhu",
        "outputId": "0c52e5f9-be40-4dcc-9e0a-fd7b248dfc2b"
      },
      "source": [
        "df_product = pd.read_excel('product.xlsx')\n",
        "df_product"
      ],
      "execution_count": null,
      "outputs": [
        {
          "output_type": "execute_result",
          "data": {
            "text/html": [
              "<div>\n",
              "<style scoped>\n",
              "    .dataframe tbody tr th:only-of-type {\n",
              "        vertical-align: middle;\n",
              "    }\n",
              "\n",
              "    .dataframe tbody tr th {\n",
              "        vertical-align: top;\n",
              "    }\n",
              "\n",
              "    .dataframe thead th {\n",
              "        text-align: right;\n",
              "    }\n",
              "</style>\n",
              "<table border=\"1\" class=\"dataframe\">\n",
              "  <thead>\n",
              "    <tr style=\"text-align: right;\">\n",
              "      <th></th>\n",
              "      <th>id</th>\n",
              "      <th>product_title_fa</th>\n",
              "      <th>product_title_en</th>\n",
              "      <th>url_code</th>\n",
              "      <th>title_alt</th>\n",
              "      <th>category_title_fa</th>\n",
              "      <th>category_keywords</th>\n",
              "      <th>brand_name_fa</th>\n",
              "      <th>brand_name_en</th>\n",
              "      <th>product_attributes</th>\n",
              "    </tr>\n",
              "  </thead>\n",
              "  <tbody>\n",
              "    <tr>\n",
              "      <th>0</th>\n",
              "      <td>723302</td>\n",
              "      <td>ماگ حرارتی لومانا مدل عرفانه کد MAG1042</td>\n",
              "      <td>NaN</td>\n",
              "      <td>ماگ-حرارتی-لومانا-مدل-عرفانه-کد-mag1042</td>\n",
              "      <td>mug، لیوان ، ماگ ، فنجان ، لیوان دسته دار ، لو...</td>\n",
              "      <td>ماگ، لیوان و فنجان</td>\n",
              "      <td>ماگ، لیوان و فنجان CupandMug</td>\n",
              "      <td>لومانا</td>\n",
              "      <td>Lomana</td>\n",
              "      <td>[{\"Key\":\"وزن بسته‌بندی\",\"Value\":\"480\"},{\"Key\":...</td>\n",
              "    </tr>\n",
              "    <tr>\n",
              "      <th>1</th>\n",
              "      <td>727089</td>\n",
              "      <td>ست آبکش و آبگیر تیتیز مدل AP-9141 سایز متوسط</td>\n",
              "      <td>NaN</td>\n",
              "      <td>ست-آبکش-و-آبگیر-تیتیز-مدل-ap-9141-سایز-متوسط</td>\n",
              "      <td>;hsi, steel, کاسه، کاسه بامبو، لگن، کالا خانه ...</td>\n",
              "      <td>آبکش و آبگیر</td>\n",
              "      <td>آبکش و آبگیر VirgoBasin</td>\n",
              "      <td>تیتیز</td>\n",
              "      <td>Titiz</td>\n",
              "      <td>[{\"Key\":\"دستگیره\",\"Value\":\"1 جفت\"},{\"Key\":\"نوع...</td>\n",
              "    </tr>\n",
              "    <tr>\n",
              "      <th>2</th>\n",
              "      <td>727096</td>\n",
              "      <td>روغن مرطوب کننده کدلی مدل Divine oil حجم 50 می...</td>\n",
              "      <td>NaN</td>\n",
              "      <td>روغن-مرطوب-کننده-کدلی-مدل-divine-oil-حجم-50-می...</td>\n",
              "      <td>NaN</td>\n",
              "      <td>روغن صورت</td>\n",
              "      <td>روغن صورت Face-Oil</td>\n",
              "      <td>کدلی</td>\n",
              "      <td>CAUDALIE</td>\n",
              "      <td>[{\"Key\":\"حجم\",\"Value\":\"50\"},{\"Key\":\"نوع عصاره\"...</td>\n",
              "    </tr>\n",
              "    <tr>\n",
              "      <th>3</th>\n",
              "      <td>727803</td>\n",
              "      <td>ست لحاف پوپلین هوبی مدل اما یکنفره چهار تکه کاوری</td>\n",
              "      <td>Hobby Emma Quilt Single Set - 4 Pieces</td>\n",
              "      <td>ست-لحاف-پوپلین-هوبی-مدل-اما-یکنفره-چهار-تکه-کاوری</td>\n",
              "      <td>روتختی اسپرت، اما، emma، روتختی یکنفره، لحاف ی...</td>\n",
              "      <td>سرویس خواب</td>\n",
              "      <td>سرویس خواب SleepSet</td>\n",
              "      <td>هوبی</td>\n",
              "      <td>Hobby</td>\n",
              "      <td>[{\"Key\":\"ابعاد رو بالشی\",\"Value\":\"50×70\"},{\"Ke...</td>\n",
              "    </tr>\n",
              "    <tr>\n",
              "      <th>4</th>\n",
              "      <td>725222</td>\n",
              "      <td>ماگ آبنبات رنگی مدل AR0143</td>\n",
              "      <td>NaN</td>\n",
              "      <td>ماگ-آبنبات-رنگی-مدل-ar0143</td>\n",
              "      <td>ماگ آبنبات رنگی،شذدشذشفقشدله،Mag Abnabatrangi</td>\n",
              "      <td>ماگ، لیوان و فنجان</td>\n",
              "      <td>ماگ، لیوان و فنجان CupandMug</td>\n",
              "      <td>متفرقه</td>\n",
              "      <td>Miscellaneous</td>\n",
              "      <td>[{\"Key\":\"در\",\"Value\":\"ندارد\"},{\"Key\":\"جنس\",\"Va...</td>\n",
              "    </tr>\n",
              "    <tr>\n",
              "      <th>...</th>\n",
              "      <td>...</td>\n",
              "      <td>...</td>\n",
              "      <td>...</td>\n",
              "      <td>...</td>\n",
              "      <td>...</td>\n",
              "      <td>...</td>\n",
              "      <td>...</td>\n",
              "      <td>...</td>\n",
              "      <td>...</td>\n",
              "      <td>...</td>\n",
              "    </tr>\n",
              "    <tr>\n",
              "      <th>99995</th>\n",
              "      <td>803375</td>\n",
              "      <td>سوتین زنانه طرح گل کد 262014527</td>\n",
              "      <td>NaN</td>\n",
              "      <td>سوتین-زنانه-طرح-گل-کد-262014527</td>\n",
              "      <td>لباس زیر، کتان، سوتین، شورت و سوتین، توری، جک ...</td>\n",
              "      <td>سوتین</td>\n",
              "      <td>سوتین Women-UW-Bra</td>\n",
              "      <td>متفرقه</td>\n",
              "      <td>Miscellaneous</td>\n",
              "      <td>NaN</td>\n",
              "    </tr>\n",
              "    <tr>\n",
              "      <th>99996</th>\n",
              "      <td>790932</td>\n",
              "      <td>محافظ صفحه نمایش مدل نانو گلس مناسب برای گوشی ...</td>\n",
              "      <td>NaN</td>\n",
              "      <td>محافظ-صفحه-نمایش-مدل-نانو-گلس-مناسب-برای-گوشی-...</td>\n",
              "      <td>نانو گلس سامسونگ J7 Pro  ، محافظ صفحه نمایش ،ن...</td>\n",
              "      <td>محافظ صفحه نمایش گوشی</td>\n",
              "      <td>محافظ صفحه نمایش گوشی Cell-Phone-Screen-Guard</td>\n",
              "      <td>متفرقه</td>\n",
              "      <td>Miscellaneous</td>\n",
              "      <td>NaN</td>\n",
              "    </tr>\n",
              "    <tr>\n",
              "      <th>99997</th>\n",
              "      <td>786604</td>\n",
              "      <td>تابلو نوشته تکس پیک مدل A63</td>\n",
              "      <td>NaN</td>\n",
              "      <td>تابلو-نوشته-تکس-پیک-مدل-a63</td>\n",
              "      <td>عکس نوشته,تابلونوشته,تکستگرافی,تابلوعکس,تابلو ...</td>\n",
              "      <td>تابلو شاسی</td>\n",
              "      <td>تابلو شاسی Chassis</td>\n",
              "      <td>متفرقه</td>\n",
              "      <td>Miscellaneous</td>\n",
              "      <td>NaN</td>\n",
              "    </tr>\n",
              "    <tr>\n",
              "      <th>99998</th>\n",
              "      <td>799047</td>\n",
              "      <td>سینی  برایتون مدل BT-8387</td>\n",
              "      <td>NaN</td>\n",
              "      <td>سینی-برایتون-مدل-bt-8387</td>\n",
              "      <td>سینی، سینی چای،  sdkd ]hd</td>\n",
              "      <td>سینی</td>\n",
              "      <td>سینی Tray</td>\n",
              "      <td>برایتون</td>\n",
              "      <td>briton</td>\n",
              "      <td>NaN</td>\n",
              "    </tr>\n",
              "    <tr>\n",
              "      <th>99999</th>\n",
              "      <td>782276</td>\n",
              "      <td>تیشرت زنانه تارپون طرح فانتزی کد 10532</td>\n",
              "      <td>NaN</td>\n",
              "      <td>تیشرت-زنانه-تارپون-طرح-فانتزی-کد-10532</td>\n",
              "      <td>تیشرت، تیشرت آستین کوتاه، تیشرت تارپون، تیشرت ...</td>\n",
              "      <td>تی‌شرت و پولوشرت زنانه</td>\n",
              "      <td>تی‌شرت و پولوشرت زنانه womens-tshirts-polos</td>\n",
              "      <td>تارپون</td>\n",
              "      <td>tarpon</td>\n",
              "      <td>NaN</td>\n",
              "    </tr>\n",
              "  </tbody>\n",
              "</table>\n",
              "<p>100000 rows × 10 columns</p>\n",
              "</div>"
            ],
            "text/plain": [
              "           id  ...                                 product_attributes\n",
              "0      723302  ...  [{\"Key\":\"وزن بسته‌بندی\",\"Value\":\"480\"},{\"Key\":...\n",
              "1      727089  ...  [{\"Key\":\"دستگیره\",\"Value\":\"1 جفت\"},{\"Key\":\"نوع...\n",
              "2      727096  ...  [{\"Key\":\"حجم\",\"Value\":\"50\"},{\"Key\":\"نوع عصاره\"...\n",
              "3      727803  ...  [{\"Key\":\"ابعاد رو بالشی\",\"Value\":\"50×70\"},{\"Ke...\n",
              "4      725222  ...  [{\"Key\":\"در\",\"Value\":\"ندارد\"},{\"Key\":\"جنس\",\"Va...\n",
              "...       ...  ...                                                ...\n",
              "99995  803375  ...                                                NaN\n",
              "99996  790932  ...                                                NaN\n",
              "99997  786604  ...                                                NaN\n",
              "99998  799047  ...                                                NaN\n",
              "99999  782276  ...                                                NaN\n",
              "\n",
              "[100000 rows x 10 columns]"
            ]
          },
          "metadata": {
            "tags": []
          },
          "execution_count": 46
        }
      ]
    },
    {
      "cell_type": "markdown",
      "metadata": {
        "id": "VPd16vMV8SPG"
      },
      "source": [
        "# **Comments dataset**"
      ]
    },
    {
      "cell_type": "code",
      "metadata": {
        "colab": {
          "base_uri": "https://localhost:8080/",
          "height": 419
        },
        "id": "Aruy9oeK8Ze1",
        "outputId": "2cc60066-a11e-4389-e61c-3bbca5114254"
      },
      "source": [
        "df_comment = pd.read_excel('comment.xlsx')\n",
        "df_comment"
      ],
      "execution_count": null,
      "outputs": [
        {
          "output_type": "execute_result",
          "data": {
            "text/html": [
              "<div>\n",
              "<style scoped>\n",
              "    .dataframe tbody tr th:only-of-type {\n",
              "        vertical-align: middle;\n",
              "    }\n",
              "\n",
              "    .dataframe tbody tr th {\n",
              "        vertical-align: top;\n",
              "    }\n",
              "\n",
              "    .dataframe thead th {\n",
              "        text-align: right;\n",
              "    }\n",
              "</style>\n",
              "<table border=\"1\" class=\"dataframe\">\n",
              "  <thead>\n",
              "    <tr style=\"text-align: right;\">\n",
              "      <th></th>\n",
              "      <th>product_id</th>\n",
              "      <th>confirmed_at</th>\n",
              "      <th>comment</th>\n",
              "    </tr>\n",
              "  </thead>\n",
              "  <tbody>\n",
              "    <tr>\n",
              "      <th>0</th>\n",
              "      <td>90213</td>\n",
              "      <td>2018-08-23 11:05:47</td>\n",
              "      <td>سلام، قبل اینکه نظرم رو بگم میخواستم به یک موض...</td>\n",
              "    </tr>\n",
              "    <tr>\n",
              "      <th>1</th>\n",
              "      <td>56871</td>\n",
              "      <td>2018-08-23 10:21:53</td>\n",
              "      <td>بوی تند ولی خوشبو داره.ماندگاریش خوبه و هر چقد...</td>\n",
              "    </tr>\n",
              "    <tr>\n",
              "      <th>2</th>\n",
              "      <td>49738</td>\n",
              "      <td>2018-10-13 11:13:39</td>\n",
              "      <td>متاسفانه عمر مفید این ماشین کم هست و بعد از دو...</td>\n",
              "    </tr>\n",
              "    <tr>\n",
              "      <th>3</th>\n",
              "      <td>134367</td>\n",
              "      <td>2018-10-17 11:27:57</td>\n",
              "      <td>افا از وقتی من اینو واسه پسرم خریدم همه بچه ها...</td>\n",
              "    </tr>\n",
              "    <tr>\n",
              "      <th>4</th>\n",
              "      <td>151402</td>\n",
              "      <td>2018-08-23 10:28:47</td>\n",
              "      <td>این تیغ محصول کشور آمریکا هست ( در عکس محصول م...</td>\n",
              "    </tr>\n",
              "    <tr>\n",
              "      <th>...</th>\n",
              "      <td>...</td>\n",
              "      <td>...</td>\n",
              "      <td>...</td>\n",
              "    </tr>\n",
              "    <tr>\n",
              "      <th>100003</th>\n",
              "      <td>104998</td>\n",
              "      <td>2018-07-09 21:27:12</td>\n",
              "      <td>قیمت مناسبی داره در حال حاضر . با این پول سخت ...</td>\n",
              "    </tr>\n",
              "    <tr>\n",
              "      <th>100004</th>\n",
              "      <td>333389</td>\n",
              "      <td>2018-07-09 21:26:52</td>\n",
              "      <td>در کل راضیم درسته لنوو با قیمت پایین تر هسته و...</td>\n",
              "    </tr>\n",
              "    <tr>\n",
              "      <th>100005</th>\n",
              "      <td>356546</td>\n",
              "      <td>2018-07-09 21:26:30</td>\n",
              "      <td>من این محصول رو از بیرون تهیه کردم . و باید بگ...</td>\n",
              "    </tr>\n",
              "    <tr>\n",
              "      <th>100006</th>\n",
              "      <td>33874</td>\n",
              "      <td>2018-07-09 21:26:12</td>\n",
              "      <td>دوسال و.نیم پیش از دیجی کالا گرفتم. هنوز مثل ر...</td>\n",
              "    </tr>\n",
              "    <tr>\n",
              "      <th>100007</th>\n",
              "      <td>318278</td>\n",
              "      <td>2018-07-09 21:26:02</td>\n",
              "      <td>با استفاده از این شامپو مشکل خشکی مو و پوست سر...</td>\n",
              "    </tr>\n",
              "  </tbody>\n",
              "</table>\n",
              "<p>100008 rows × 3 columns</p>\n",
              "</div>"
            ],
            "text/plain": [
              "        product_id  ...                                            comment\n",
              "0            90213  ...  سلام، قبل اینکه نظرم رو بگم میخواستم به یک موض...\n",
              "1            56871  ...  بوی تند ولی خوشبو داره.ماندگاریش خوبه و هر چقد...\n",
              "2            49738  ...  متاسفانه عمر مفید این ماشین کم هست و بعد از دو...\n",
              "3           134367  ...  افا از وقتی من اینو واسه پسرم خریدم همه بچه ها...\n",
              "4           151402  ...  این تیغ محصول کشور آمریکا هست ( در عکس محصول م...\n",
              "...            ...  ...                                                ...\n",
              "100003      104998  ...  قیمت مناسبی داره در حال حاضر . با این پول سخت ...\n",
              "100004      333389  ...  در کل راضیم درسته لنوو با قیمت پایین تر هسته و...\n",
              "100005      356546  ...  من این محصول رو از بیرون تهیه کردم . و باید بگ...\n",
              "100006       33874  ...  دوسال و.نیم پیش از دیجی کالا گرفتم. هنوز مثل ر...\n",
              "100007      318278  ...  با استفاده از این شامپو مشکل خشکی مو و پوست سر...\n",
              "\n",
              "[100008 rows x 3 columns]"
            ]
          },
          "metadata": {
            "tags": []
          },
          "execution_count": 79
        }
      ]
    },
    {
      "cell_type": "code",
      "metadata": {
        "colab": {
          "base_uri": "https://localhost:8080/",
          "height": 49
        },
        "id": "Z3ZZQG5x8oZG",
        "outputId": "e16a5445-ae49-4fda-a751-fe8aceda1dfa"
      },
      "source": [
        "df_comment.loc[(pd.to_datetime(df_comment['confirmed_at']) > datetime.datetime.now())]"
      ],
      "execution_count": null,
      "outputs": [
        {
          "output_type": "execute_result",
          "data": {
            "text/html": [
              "<div>\n",
              "<style scoped>\n",
              "    .dataframe tbody tr th:only-of-type {\n",
              "        vertical-align: middle;\n",
              "    }\n",
              "\n",
              "    .dataframe tbody tr th {\n",
              "        vertical-align: top;\n",
              "    }\n",
              "\n",
              "    .dataframe thead th {\n",
              "        text-align: right;\n",
              "    }\n",
              "</style>\n",
              "<table border=\"1\" class=\"dataframe\">\n",
              "  <thead>\n",
              "    <tr style=\"text-align: right;\">\n",
              "      <th></th>\n",
              "      <th>product_id</th>\n",
              "      <th>confirmed_at</th>\n",
              "      <th>comment</th>\n",
              "    </tr>\n",
              "  </thead>\n",
              "  <tbody>\n",
              "  </tbody>\n",
              "</table>\n",
              "</div>"
            ],
            "text/plain": [
              "Empty DataFrame\n",
              "Columns: [product_id, confirmed_at, comment]\n",
              "Index: []"
            ]
          },
          "metadata": {
            "tags": []
          },
          "execution_count": 54
        }
      ]
    },
    {
      "cell_type": "markdown",
      "metadata": {
        "id": "a5FbSREp87Ps"
      },
      "source": [
        "The code below shows that all of the our dataset product_id have an integer value."
      ]
    },
    {
      "cell_type": "code",
      "metadata": {
        "colab": {
          "base_uri": "https://localhost:8080/",
          "height": 49
        },
        "id": "W1O4T3wk-Q0e",
        "outputId": "35e35fc0-2ffb-4b48-8b70-06d98c24a6cb"
      },
      "source": [
        "pattern = re.compile(r'[a-zA-Z]*')\n",
        "df_keifiat[~(df_keifiat.product_id.apply(lambda x: bool(pattern.match(str(x).strip()))))]"
      ],
      "execution_count": null,
      "outputs": [
        {
          "output_type": "execute_result",
          "data": {
            "text/html": [
              "<div>\n",
              "<style scoped>\n",
              "    .dataframe tbody tr th:only-of-type {\n",
              "        vertical-align: middle;\n",
              "    }\n",
              "\n",
              "    .dataframe tbody tr th {\n",
              "        vertical-align: top;\n",
              "    }\n",
              "\n",
              "    .dataframe thead th {\n",
              "        text-align: right;\n",
              "    }\n",
              "</style>\n",
              "<table border=\"1\" class=\"dataframe\">\n",
              "  <thead>\n",
              "    <tr style=\"text-align: right;\">\n",
              "      <th></th>\n",
              "      <th>product_id</th>\n",
              "      <th>product_title</th>\n",
              "      <th>title_en</th>\n",
              "      <th>user_id</th>\n",
              "      <th>likes</th>\n",
              "      <th>dislikes</th>\n",
              "      <th>verification_status</th>\n",
              "      <th>recommend</th>\n",
              "      <th>title</th>\n",
              "      <th>comment</th>\n",
              "      <th>advantages</th>\n",
              "      <th>disadvantages</th>\n",
              "    </tr>\n",
              "  </thead>\n",
              "  <tbody>\n",
              "  </tbody>\n",
              "</table>\n",
              "</div>"
            ],
            "text/plain": [
              "Empty DataFrame\n",
              "Columns: [product_id, product_title, title_en, user_id, likes, dislikes, verification_status, recommend, title, comment, advantages, disadvantages]\n",
              "Index: []"
            ]
          },
          "metadata": {
            "tags": []
          },
          "execution_count": 69
        }
      ]
    },
    {
      "cell_type": "markdown",
      "metadata": {
        "id": "c8vlU-h_u9ZV"
      },
      "source": [
        "\\\\\n",
        "Code below shows what is the range of the id of the orders. As can be seen, the minimum value for a product_id is 281 and this is a bit suspicious."
      ]
    },
    {
      "cell_type": "code",
      "metadata": {
        "colab": {
          "base_uri": "https://localhost:8080/"
        },
        "id": "kjOZkeuqu9ZV",
        "outputId": "6e4fc94f-0dd9-4d44-99d4-e46efd00e900"
      },
      "source": [
        "minimum = min(df_comment['product_id'])\n",
        "maximum = max(df_comment['product_id'])\n",
        "print('minimum = ', minimum)\n",
        "print('maximum = ', maximum)"
      ],
      "execution_count": null,
      "outputs": [
        {
          "output_type": "stream",
          "text": [
            "minimum =  281\n",
            "maximum =  684859\n"
          ],
          "name": "stdout"
        }
      ]
    },
    {
      "cell_type": "markdown",
      "metadata": {
        "id": "x34Kl6PpMFn9"
      },
      "source": [
        "# **keifiat dataset**"
      ]
    },
    {
      "cell_type": "code",
      "metadata": {
        "colab": {
          "base_uri": "https://localhost:8080/",
          "height": 589
        },
        "id": "wOC2HQuiMN0D",
        "outputId": "6a26c9e8-8cc9-4316-9b02-6d6b4f7bdfd5"
      },
      "source": [
        "df_keifiat = pd.read_excel('keifiat.xlsx')\n",
        "df_keifiat"
      ],
      "execution_count": null,
      "outputs": [
        {
          "output_type": "execute_result",
          "data": {
            "text/html": [
              "<div>\n",
              "<style scoped>\n",
              "    .dataframe tbody tr th:only-of-type {\n",
              "        vertical-align: middle;\n",
              "    }\n",
              "\n",
              "    .dataframe tbody tr th {\n",
              "        vertical-align: top;\n",
              "    }\n",
              "\n",
              "    .dataframe thead th {\n",
              "        text-align: right;\n",
              "    }\n",
              "</style>\n",
              "<table border=\"1\" class=\"dataframe\">\n",
              "  <thead>\n",
              "    <tr style=\"text-align: right;\">\n",
              "      <th></th>\n",
              "      <th>product_id</th>\n",
              "      <th>product_title</th>\n",
              "      <th>title_en</th>\n",
              "      <th>user_id</th>\n",
              "      <th>likes</th>\n",
              "      <th>dislikes</th>\n",
              "      <th>verification_status</th>\n",
              "      <th>recommend</th>\n",
              "      <th>title</th>\n",
              "      <th>comment</th>\n",
              "      <th>advantages</th>\n",
              "      <th>disadvantages</th>\n",
              "    </tr>\n",
              "  </thead>\n",
              "  <tbody>\n",
              "    <tr>\n",
              "      <th>0</th>\n",
              "      <td>3692</td>\n",
              "      <td>ماوس بی‌سیم لاجیتک مدل M325</td>\n",
              "      <td>IT</td>\n",
              "      <td>989472</td>\n",
              "      <td>0</td>\n",
              "      <td>0</td>\n",
              "      <td>verified</td>\n",
              "      <td>\\N</td>\n",
              "      <td>NaN</td>\n",
              "      <td>واقعا عالیه. من که ازش خیلی راضیم</td>\n",
              "      <td>NaN</td>\n",
              "      <td>NaN</td>\n",
              "    </tr>\n",
              "    <tr>\n",
              "      <th>1</th>\n",
              "      <td>90213</td>\n",
              "      <td>شارژر همراه شیاومی مدل NDY-02-AN با ظرفیت 1000...</td>\n",
              "      <td>AC</td>\n",
              "      <td>3862150</td>\n",
              "      <td>4</td>\n",
              "      <td>1</td>\n",
              "      <td>verified</td>\n",
              "      <td>recommended</td>\n",
              "      <td>واقعاً عالیه</td>\n",
              "      <td>سلام، قبل اینکه نظرم رو بگم میخواستم به یک موض...</td>\n",
              "      <td>[\"عمر طولانی\\r\",\"افت بسیار کم میزان شارژ\\r\",\"ا...</td>\n",
              "      <td>[\"ندارد\"]</td>\n",
              "    </tr>\n",
              "    <tr>\n",
              "      <th>2</th>\n",
              "      <td>59473</td>\n",
              "      <td>یدک پولیشر میکروفایبر مهسان مدل 20119</td>\n",
              "      <td>HW</td>\n",
              "      <td>626843</td>\n",
              "      <td>1</td>\n",
              "      <td>0</td>\n",
              "      <td>verified</td>\n",
              "      <td>not_recommended</td>\n",
              "      <td>خیلی سخت حوله اش در میاد</td>\n",
              "      <td>گیره های فلزی خیلی سخت تا میشوند و لذا حوله را...</td>\n",
              "      <td>NaN</td>\n",
              "      <td>NaN</td>\n",
              "    </tr>\n",
              "    <tr>\n",
              "      <th>3</th>\n",
              "      <td>120499</td>\n",
              "      <td>گوشی موبایل هوآوی آنر مدل 5X KIW-L21 دو سیم‌کارت</td>\n",
              "      <td>MO</td>\n",
              "      <td>786887</td>\n",
              "      <td>6</td>\n",
              "      <td>11</td>\n",
              "      <td>verified</td>\n",
              "      <td>no_idea</td>\n",
              "      <td>گوشی مقرون به صرفه</td>\n",
              "      <td>همه چیز در رابطه با ظاهر این گوشی بسیار خوب اس...</td>\n",
              "      <td>[\"صفحه نمایش پرنور و با کیفیت\\r\",\"کیفیت بالای ...</td>\n",
              "      <td>[\"کیفیت پایین اسپیکر\\r\",\"حاشیه خالی زیر صفحه ن...</td>\n",
              "    </tr>\n",
              "    <tr>\n",
              "      <th>4</th>\n",
              "      <td>67200</td>\n",
              "      <td>شارژر همراه شیائومی مدل Mi ظرفیت 5000 میلی آمپ...</td>\n",
              "      <td>AC</td>\n",
              "      <td>854531</td>\n",
              "      <td>19</td>\n",
              "      <td>4</td>\n",
              "      <td>verified</td>\n",
              "      <td>no_idea</td>\n",
              "      <td>ابعاد، استحکام و نگهداری شارژ مناسب</td>\n",
              "      <td>اگر ظرفیتش براتون کافیه حتما بخرید.\\r\\nیه شارژ...</td>\n",
              "      <td>[\"ظریف و زیبا و باریک\\r\",\"بدنه محکم و با دوام\"]</td>\n",
              "      <td>[\"ظرفیت متوسط\"]</td>\n",
              "    </tr>\n",
              "    <tr>\n",
              "      <th>...</th>\n",
              "      <td>...</td>\n",
              "      <td>...</td>\n",
              "      <td>...</td>\n",
              "      <td>...</td>\n",
              "      <td>...</td>\n",
              "      <td>...</td>\n",
              "      <td>...</td>\n",
              "      <td>...</td>\n",
              "      <td>...</td>\n",
              "      <td>...</td>\n",
              "      <td>...</td>\n",
              "      <td>...</td>\n",
              "    </tr>\n",
              "    <tr>\n",
              "      <th>99995</th>\n",
              "      <td>549845</td>\n",
              "      <td>شید آباژور آرام مدل SH45/01</td>\n",
              "      <td>TC</td>\n",
              "      <td>4979401</td>\n",
              "      <td>0</td>\n",
              "      <td>0</td>\n",
              "      <td>verified</td>\n",
              "      <td>recommended</td>\n",
              "      <td>بسیار تمیز و زیبا</td>\n",
              "      <td>بسیار تمیز و زیبا...من که خیلی راضیم</td>\n",
              "      <td>[\"کاملا مطابق با عکس\\r\",\"ساخت بسیار تمیز\"]</td>\n",
              "      <td>[\"ندارد\"]</td>\n",
              "    </tr>\n",
              "    <tr>\n",
              "      <th>99996</th>\n",
              "      <td>784160</td>\n",
              "      <td>کفش مخصوص دویدن مردانه و زنانه آلبرتینی مدل دا...</td>\n",
              "      <td>FA</td>\n",
              "      <td>1066034</td>\n",
              "      <td>7</td>\n",
              "      <td>32</td>\n",
              "      <td>verified</td>\n",
              "      <td>\\N</td>\n",
              "      <td>توصیه به خرید میکنم</td>\n",
              "      <td>من این کفش را برای پیاده روی اربعین خریدم از ی...</td>\n",
              "      <td>[\"سبک زیبا ارزان \"]</td>\n",
              "      <td>[\"محل عبور بند کفش ها ایراد دارد\"]</td>\n",
              "    </tr>\n",
              "    <tr>\n",
              "      <th>99997</th>\n",
              "      <td>820985</td>\n",
              "      <td>واکس کفش ساتل مدل 20 حجم 60 میلی لیتر</td>\n",
              "      <td>FA</td>\n",
              "      <td>568208</td>\n",
              "      <td>0</td>\n",
              "      <td>0</td>\n",
              "      <td>verified</td>\n",
              "      <td>recommended</td>\n",
              "      <td>خوبه و غلیظه</td>\n",
              "      <td>واکس خوبیه..</td>\n",
              "      <td>[\"روغنیه\"]</td>\n",
              "      <td>[\"ندیدم\"]</td>\n",
              "    </tr>\n",
              "    <tr>\n",
              "      <th>99998</th>\n",
              "      <td>678073</td>\n",
              "      <td>کش رنگی مدادچوبی مدل 010 بسته 100</td>\n",
              "      <td>TC</td>\n",
              "      <td>981594</td>\n",
              "      <td>2</td>\n",
              "      <td>1</td>\n",
              "      <td>verified</td>\n",
              "      <td>no_idea</td>\n",
              "      <td>سلام</td>\n",
              "      <td>هیچ کدوم از این رنگهای که توی عکسه داخل بسته ن...</td>\n",
              "      <td>NaN</td>\n",
              "      <td>NaN</td>\n",
              "    </tr>\n",
              "    <tr>\n",
              "      <th>99999</th>\n",
              "      <td>451791</td>\n",
              "      <td>ماژیک علامت گذار 6 رنگ اسکای مدل S-905</td>\n",
              "      <td>MA</td>\n",
              "      <td>3397901</td>\n",
              "      <td>0</td>\n",
              "      <td>0</td>\n",
              "      <td>verified</td>\n",
              "      <td>no_idea</td>\n",
              "      <td>مارکر</td>\n",
              "      <td>من خریدم و راضی بودم ولی متاسفانه یکی از مارکر...</td>\n",
              "      <td>NaN</td>\n",
              "      <td>NaN</td>\n",
              "    </tr>\n",
              "  </tbody>\n",
              "</table>\n",
              "<p>100000 rows × 12 columns</p>\n",
              "</div>"
            ],
            "text/plain": [
              "       product_id  ...                                      disadvantages\n",
              "0            3692  ...                                                NaN\n",
              "1           90213  ...                                          [\"ندارد\"]\n",
              "2           59473  ...                                                NaN\n",
              "3          120499  ...  [\"کیفیت پایین اسپیکر\\r\",\"حاشیه خالی زیر صفحه ن...\n",
              "4           67200  ...                                    [\"ظرفیت متوسط\"]\n",
              "...           ...  ...                                                ...\n",
              "99995      549845  ...                                          [\"ندارد\"]\n",
              "99996      784160  ...                 [\"محل عبور بند کفش ها ایراد دارد\"]\n",
              "99997      820985  ...                                          [\"ندیدم\"]\n",
              "99998      678073  ...                                                NaN\n",
              "99999      451791  ...                                                NaN\n",
              "\n",
              "[100000 rows x 12 columns]"
            ]
          },
          "metadata": {
            "tags": []
          },
          "execution_count": 62
        }
      ]
    },
    {
      "cell_type": "markdown",
      "metadata": {
        "id": "TGCBtqWYSqbG"
      },
      "source": [
        "\\\\\n",
        "The ```verification_status``` has only consisted of verified, rejected, not_verified.\n",
        "\n",
        "*   verified: 98496\n",
        "*   rejected: 1263\n",
        "*   not_verified: 241\n"
      ]
    },
    {
      "cell_type": "code",
      "metadata": {
        "colab": {
          "base_uri": "https://localhost:8080/",
          "height": 572
        },
        "id": "xREBd5btR09t",
        "outputId": "37a54290-10c3-4840-9b02-9a5485c4100b"
      },
      "source": [
        "df_keifiat[(df_keifiat['verification_status'] != 'verified') & (df_keifiat['verification_status'] != 'rejected')]"
      ],
      "execution_count": null,
      "outputs": [
        {
          "output_type": "execute_result",
          "data": {
            "text/html": [
              "<div>\n",
              "<style scoped>\n",
              "    .dataframe tbody tr th:only-of-type {\n",
              "        vertical-align: middle;\n",
              "    }\n",
              "\n",
              "    .dataframe tbody tr th {\n",
              "        vertical-align: top;\n",
              "    }\n",
              "\n",
              "    .dataframe thead th {\n",
              "        text-align: right;\n",
              "    }\n",
              "</style>\n",
              "<table border=\"1\" class=\"dataframe\">\n",
              "  <thead>\n",
              "    <tr style=\"text-align: right;\">\n",
              "      <th></th>\n",
              "      <th>product_id</th>\n",
              "      <th>product_title</th>\n",
              "      <th>title_en</th>\n",
              "      <th>user_id</th>\n",
              "      <th>likes</th>\n",
              "      <th>dislikes</th>\n",
              "      <th>verification_status</th>\n",
              "      <th>recommend</th>\n",
              "      <th>title</th>\n",
              "      <th>comment</th>\n",
              "      <th>advantages</th>\n",
              "      <th>disadvantages</th>\n",
              "    </tr>\n",
              "  </thead>\n",
              "  <tbody>\n",
              "    <tr>\n",
              "      <th>94</th>\n",
              "      <td>183430</td>\n",
              "      <td>کامپیوتر همه کاره 21.5 اینچی ایسوس مدل Zen ZN2...</td>\n",
              "      <td>IT</td>\n",
              "      <td>4407582</td>\n",
              "      <td>1</td>\n",
              "      <td>0</td>\n",
              "      <td>not_verified</td>\n",
              "      <td>recommended</td>\n",
              "      <td>یک توصیه به عنوان خرید، یک تاسف از بابت نخریدن...</td>\n",
              "      <td>لطفاً موجود بشه چون یکی خریدم و واقعاً پشیمونم...</td>\n",
              "      <td>[\"مونیتور بزرگ تمام لمسی حساس و سخت جون، نرم ا...</td>\n",
              "      <td>[\"گارانتی، در خدمات پس از فروش\"]</td>\n",
              "    </tr>\n",
              "    <tr>\n",
              "      <th>149</th>\n",
              "      <td>147179</td>\n",
              "      <td>باتری قلمی قابل شارژ سونی مدل NH-AA-B2KN بسته ...</td>\n",
              "      <td>AC</td>\n",
              "      <td>2870189</td>\n",
              "      <td>12</td>\n",
              "      <td>5</td>\n",
              "      <td>not_verified</td>\n",
              "      <td>recommended</td>\n",
              "      <td>با کیفیت</td>\n",
              "      <td>3 سال گذشته که خریدم و بسیار راضیم اما قیمت ها...</td>\n",
              "      <td>NaN</td>\n",
              "      <td>NaN</td>\n",
              "    </tr>\n",
              "    <tr>\n",
              "      <th>258</th>\n",
              "      <td>203451</td>\n",
              "      <td>ساعت هوشمند سامسونگ مدل Gear S3 Frontier SM-R760</td>\n",
              "      <td>PA</td>\n",
              "      <td>2719969</td>\n",
              "      <td>13</td>\n",
              "      <td>4</td>\n",
              "      <td>not_verified</td>\n",
              "      <td>recommended</td>\n",
              "      <td>ساعتی بسیار زیبا و کار آمد</td>\n",
              "      <td>فوقالعاده ترین ساعتی که دیدم \\r\\nقوت:اسپیکر و ...</td>\n",
              "      <td>[\"اسپیکر و میکروفن\\r\\n\",\"رابط کاربری ساده و در...</td>\n",
              "      <td>[\"هیچی\"]</td>\n",
              "    </tr>\n",
              "    <tr>\n",
              "      <th>262</th>\n",
              "      <td>90894</td>\n",
              "      <td>مچ‌ بند هوشمند آی واون مدل i5 Plus</td>\n",
              "      <td>PA</td>\n",
              "      <td>2937957</td>\n",
              "      <td>10</td>\n",
              "      <td>0</td>\n",
              "      <td>not_verified</td>\n",
              "      <td>recommended</td>\n",
              "      <td>نبود بند یدک</td>\n",
              "      <td>برای یکساله داره کار می‌کنه و مشکل ندارد \\nفقط...</td>\n",
              "      <td>[]</td>\n",
              "      <td>[]</td>\n",
              "    </tr>\n",
              "    <tr>\n",
              "      <th>350</th>\n",
              "      <td>263989</td>\n",
              "      <td>گوشی موبایل ایسوس مدل Zenfone 3 ZE520KL دو سیم...</td>\n",
              "      <td>MO</td>\n",
              "      <td>1367455</td>\n",
              "      <td>4</td>\n",
              "      <td>0</td>\n",
              "      <td>not_verified</td>\n",
              "      <td>\\N</td>\n",
              "      <td>تجربیات خرید زنفون۳ ze520kl</td>\n",
              "      <td>سلام.گوشی را خریدم با گارانتی حامی،به تاریخ ۹۷...</td>\n",
              "      <td>[\"دوربین،صفحه نمایش،cpu،کیفیت و کارایی، مصرف ک...</td>\n",
              "      <td>[\"قیمت\"]</td>\n",
              "    </tr>\n",
              "    <tr>\n",
              "      <th>...</th>\n",
              "      <td>...</td>\n",
              "      <td>...</td>\n",
              "      <td>...</td>\n",
              "      <td>...</td>\n",
              "      <td>...</td>\n",
              "      <td>...</td>\n",
              "      <td>...</td>\n",
              "      <td>...</td>\n",
              "      <td>...</td>\n",
              "      <td>...</td>\n",
              "      <td>...</td>\n",
              "      <td>...</td>\n",
              "    </tr>\n",
              "    <tr>\n",
              "      <th>96985</th>\n",
              "      <td>434472</td>\n",
              "      <td>لامپ خودرو ایگل مدل H4 12V 90/130 W Crystal Gold</td>\n",
              "      <td>TC</td>\n",
              "      <td>472221</td>\n",
              "      <td>1</td>\n",
              "      <td>1</td>\n",
              "      <td>not_verified</td>\n",
              "      <td>recommended</td>\n",
              "      <td>نور طلایی قوی</td>\n",
              "      <td>این لامپ ضمن دارا بودن کیفیت و شدت نور بالا، ح...</td>\n",
              "      <td>[\"شدت نور قوی\\r\\n\",\"مناسب برای تندر 90\"]</td>\n",
              "      <td>NaN</td>\n",
              "    </tr>\n",
              "    <tr>\n",
              "      <th>97140</th>\n",
              "      <td>728278</td>\n",
              "      <td>کفش دخترانه آذاردو مدل W01724</td>\n",
              "      <td>FA</td>\n",
              "      <td>6393111</td>\n",
              "      <td>0</td>\n",
              "      <td>0</td>\n",
              "      <td>not_verified</td>\n",
              "      <td>recommended</td>\n",
              "      <td>از خریدم راضی ام</td>\n",
              "      <td>بعد از چند بار استفاده پی بردم جنس خوبی داره.....</td>\n",
              "      <td>[]</td>\n",
              "      <td>[]</td>\n",
              "    </tr>\n",
              "    <tr>\n",
              "      <th>97202</th>\n",
              "      <td>893102</td>\n",
              "      <td>بادی اسپلش ویکتوریا سکرت مدل Vanilla Lace حجم ...</td>\n",
              "      <td>PC</td>\n",
              "      <td>8045969</td>\n",
              "      <td>1</td>\n",
              "      <td>1</td>\n",
              "      <td>not_verified</td>\n",
              "      <td>\\N</td>\n",
              "      <td>اسپری بدن ویکتوریا سکرت</td>\n",
              "      <td>من اسپری بدن ویکتوریا سیکرت رو قبلا از جای دیگ...</td>\n",
              "      <td>[]</td>\n",
              "      <td>[\"محصول فیک و تقلبی\"]</td>\n",
              "    </tr>\n",
              "    <tr>\n",
              "      <th>97546</th>\n",
              "      <td>574637</td>\n",
              "      <td>ماشین لباسشویی بوش سری 8 مدل WAW3266XIR ظرفیت ...</td>\n",
              "      <td>HA</td>\n",
              "      <td>8508075</td>\n",
              "      <td>1</td>\n",
              "      <td>2</td>\n",
              "      <td>not_verified</td>\n",
              "      <td>\\N</td>\n",
              "      <td>عالیه</td>\n",
              "      <td>عالیه</td>\n",
              "      <td>NaN</td>\n",
              "      <td>NaN</td>\n",
              "    </tr>\n",
              "    <tr>\n",
              "      <th>97602</th>\n",
              "      <td>382126</td>\n",
              "      <td>اسپیکر بلوتوثی قابل حمل  مدل   pluse E3</td>\n",
              "      <td>IT</td>\n",
              "      <td>8560169</td>\n",
              "      <td>4</td>\n",
              "      <td>4</td>\n",
              "      <td>not_verified</td>\n",
              "      <td>recommended</td>\n",
              "      <td>این مدلش e3  پلاس</td>\n",
              "      <td>لطفاً پلاس ذکر شود</td>\n",
              "      <td>NaN</td>\n",
              "      <td>NaN</td>\n",
              "    </tr>\n",
              "  </tbody>\n",
              "</table>\n",
              "<p>241 rows × 12 columns</p>\n",
              "</div>"
            ],
            "text/plain": [
              "       product_id  ...                     disadvantages\n",
              "94         183430  ...  [\"گارانتی، در خدمات پس از فروش\"]\n",
              "149        147179  ...                               NaN\n",
              "258        203451  ...                          [\"هیچی\"]\n",
              "262         90894  ...                                []\n",
              "350        263989  ...                          [\"قیمت\"]\n",
              "...           ...  ...                               ...\n",
              "96985      434472  ...                               NaN\n",
              "97140      728278  ...                                []\n",
              "97202      893102  ...             [\"محصول فیک و تقلبی\"]\n",
              "97546      574637  ...                               NaN\n",
              "97602      382126  ...                               NaN\n",
              "\n",
              "[241 rows x 12 columns]"
            ]
          },
          "metadata": {
            "tags": []
          },
          "execution_count": 64
        }
      ]
    },
    {
      "cell_type": "markdown",
      "metadata": {
        "id": "VpmGpL-Dhq0R"
      },
      "source": [
        "\\\\\n",
        "**id validation**:\n",
        "\n",
        "check which of the product_ids are not valid.\n",
        "This shows that product_id of all rows only consist of numbers. As can be seen, all the product_ids are valid."
      ]
    },
    {
      "cell_type": "code",
      "metadata": {
        "colab": {
          "base_uri": "https://localhost:8080/",
          "height": 49
        },
        "id": "9llwgCcXLSv_",
        "outputId": "2b64ae8e-d3f0-4f7b-dcd0-dd77744e0db1"
      },
      "source": [
        "pattern = re.compile(r'[a-zA-Z]*')\n",
        "df_keifiat[~(df_keifiat.product_id.apply(lambda x: bool(pattern.match(str(x).strip()))))]"
      ],
      "execution_count": null,
      "outputs": [
        {
          "output_type": "execute_result",
          "data": {
            "text/html": [
              "<div>\n",
              "<style scoped>\n",
              "    .dataframe tbody tr th:only-of-type {\n",
              "        vertical-align: middle;\n",
              "    }\n",
              "\n",
              "    .dataframe tbody tr th {\n",
              "        vertical-align: top;\n",
              "    }\n",
              "\n",
              "    .dataframe thead th {\n",
              "        text-align: right;\n",
              "    }\n",
              "</style>\n",
              "<table border=\"1\" class=\"dataframe\">\n",
              "  <thead>\n",
              "    <tr style=\"text-align: right;\">\n",
              "      <th></th>\n",
              "      <th>product_id</th>\n",
              "      <th>product_title</th>\n",
              "      <th>title_en</th>\n",
              "      <th>user_id</th>\n",
              "      <th>likes</th>\n",
              "      <th>dislikes</th>\n",
              "      <th>verification_status</th>\n",
              "      <th>recommend</th>\n",
              "      <th>title</th>\n",
              "      <th>comment</th>\n",
              "      <th>advantages</th>\n",
              "      <th>disadvantages</th>\n",
              "    </tr>\n",
              "  </thead>\n",
              "  <tbody>\n",
              "  </tbody>\n",
              "</table>\n",
              "</div>"
            ],
            "text/plain": [
              "Empty DataFrame\n",
              "Columns: [product_id, product_title, title_en, user_id, likes, dislikes, verification_status, recommend, title, comment, advantages, disadvantages]\n",
              "Index: []"
            ]
          },
          "metadata": {
            "tags": []
          },
          "execution_count": 68
        }
      ]
    },
    {
      "cell_type": "markdown",
      "metadata": {
        "id": "9NmF3MLZqbre"
      },
      "source": [
        "# **Tarikhche kharid dataset**"
      ]
    },
    {
      "cell_type": "code",
      "metadata": {
        "colab": {
          "base_uri": "https://localhost:8080/",
          "height": 419
        },
        "id": "YdAdkih1qf2I",
        "outputId": "65abf0cd-2600-48f5-e6dc-5a50a79e4065"
      },
      "source": [
        "df_tarikhche = pd.read_csv('tarikhche kharid.csv')\n",
        "df_tarikhche"
      ],
      "execution_count": null,
      "outputs": [
        {
          "output_type": "execute_result",
          "data": {
            "text/html": [
              "<div>\n",
              "<style scoped>\n",
              "    .dataframe tbody tr th:only-of-type {\n",
              "        vertical-align: middle;\n",
              "    }\n",
              "\n",
              "    .dataframe tbody tr th {\n",
              "        vertical-align: top;\n",
              "    }\n",
              "\n",
              "    .dataframe thead th {\n",
              "        text-align: right;\n",
              "    }\n",
              "</style>\n",
              "<table border=\"1\" class=\"dataframe\">\n",
              "  <thead>\n",
              "    <tr style=\"text-align: right;\">\n",
              "      <th></th>\n",
              "      <th>id</th>\n",
              "      <th>product_variant_id</th>\n",
              "      <th>selling_price</th>\n",
              "      <th>rrp_price</th>\n",
              "      <th>base_price</th>\n",
              "      <th>buy_price</th>\n",
              "      <th>order_limit</th>\n",
              "      <th>start_at</th>\n",
              "      <th>end_at</th>\n",
              "      <th>tags</th>\n",
              "      <th>show_in_price_history</th>\n",
              "      <th>active</th>\n",
              "      <th>created_at</th>\n",
              "      <th>product_id</th>\n",
              "      <th>marketplace_seller_id</th>\n",
              "    </tr>\n",
              "  </thead>\n",
              "  <tbody>\n",
              "    <tr>\n",
              "      <th>0</th>\n",
              "      <td>18752043</td>\n",
              "      <td>1977385</td>\n",
              "      <td>850000</td>\n",
              "      <td>850000</td>\n",
              "      <td>\\N</td>\n",
              "      <td>\\N</td>\n",
              "      <td>1</td>\n",
              "      <td>\\N</td>\n",
              "      <td>\\N</td>\n",
              "      <td>\\N</td>\n",
              "      <td>1</td>\n",
              "      <td>1</td>\n",
              "      <td>2018-11-26 18:59:52</td>\n",
              "      <td>667969</td>\n",
              "      <td>2962</td>\n",
              "    </tr>\n",
              "    <tr>\n",
              "      <th>1</th>\n",
              "      <td>18752022</td>\n",
              "      <td>1977380</td>\n",
              "      <td>12550000</td>\n",
              "      <td>12550000</td>\n",
              "      <td>\\N</td>\n",
              "      <td>\\N</td>\n",
              "      <td>2</td>\n",
              "      <td>\\N</td>\n",
              "      <td>\\N</td>\n",
              "      <td>\\N</td>\n",
              "      <td>1</td>\n",
              "      <td>0</td>\n",
              "      <td>2018-11-26 18:59:31</td>\n",
              "      <td>150144</td>\n",
              "      <td>78525</td>\n",
              "    </tr>\n",
              "    <tr>\n",
              "      <th>2</th>\n",
              "      <td>18752046</td>\n",
              "      <td>1977380</td>\n",
              "      <td>12500000</td>\n",
              "      <td>12500000</td>\n",
              "      <td>\\N</td>\n",
              "      <td>\\N</td>\n",
              "      <td>2</td>\n",
              "      <td>\\N</td>\n",
              "      <td>\\N</td>\n",
              "      <td>\\N</td>\n",
              "      <td>1</td>\n",
              "      <td>1</td>\n",
              "      <td>2018-11-26 18:59:55</td>\n",
              "      <td>150144</td>\n",
              "      <td>78525</td>\n",
              "    </tr>\n",
              "    <tr>\n",
              "      <th>3</th>\n",
              "      <td>18751982</td>\n",
              "      <td>1977374</td>\n",
              "      <td>310000</td>\n",
              "      <td>310000</td>\n",
              "      <td>\\N</td>\n",
              "      <td>\\N</td>\n",
              "      <td>2</td>\n",
              "      <td>\\N</td>\n",
              "      <td>\\N</td>\n",
              "      <td>\\N</td>\n",
              "      <td>1</td>\n",
              "      <td>0</td>\n",
              "      <td>2018-11-26 18:58:48</td>\n",
              "      <td>908541</td>\n",
              "      <td>4199</td>\n",
              "    </tr>\n",
              "    <tr>\n",
              "      <th>4</th>\n",
              "      <td>18752018</td>\n",
              "      <td>1977374</td>\n",
              "      <td>300000</td>\n",
              "      <td>300000</td>\n",
              "      <td>\\N</td>\n",
              "      <td>\\N</td>\n",
              "      <td>2</td>\n",
              "      <td>\\N</td>\n",
              "      <td>\\N</td>\n",
              "      <td>\\N</td>\n",
              "      <td>1</td>\n",
              "      <td>1</td>\n",
              "      <td>2018-11-26 18:59:28</td>\n",
              "      <td>908541</td>\n",
              "      <td>4199</td>\n",
              "    </tr>\n",
              "    <tr>\n",
              "      <th>...</th>\n",
              "      <td>...</td>\n",
              "      <td>...</td>\n",
              "      <td>...</td>\n",
              "      <td>...</td>\n",
              "      <td>...</td>\n",
              "      <td>...</td>\n",
              "      <td>...</td>\n",
              "      <td>...</td>\n",
              "      <td>...</td>\n",
              "      <td>...</td>\n",
              "      <td>...</td>\n",
              "      <td>...</td>\n",
              "      <td>...</td>\n",
              "      <td>...</td>\n",
              "      <td>...</td>\n",
              "    </tr>\n",
              "    <tr>\n",
              "      <th>2184353</th>\n",
              "      <td>12763117</td>\n",
              "      <td>1155042</td>\n",
              "      <td>439000</td>\n",
              "      <td>529000</td>\n",
              "      <td>\\N</td>\n",
              "      <td>\\N</td>\n",
              "      <td>2</td>\n",
              "      <td>\\N</td>\n",
              "      <td>\\N</td>\n",
              "      <td>\\N</td>\n",
              "      <td>1</td>\n",
              "      <td>0</td>\n",
              "      <td>2018-09-13 20:23:28</td>\n",
              "      <td>221109</td>\n",
              "      <td>7664</td>\n",
              "    </tr>\n",
              "    <tr>\n",
              "      <th>2184354</th>\n",
              "      <td>13703581</td>\n",
              "      <td>1155042</td>\n",
              "      <td>469000</td>\n",
              "      <td>529000</td>\n",
              "      <td>\\N</td>\n",
              "      <td>\\N</td>\n",
              "      <td>2</td>\n",
              "      <td>\\N</td>\n",
              "      <td>\\N</td>\n",
              "      <td>\\N</td>\n",
              "      <td>1</td>\n",
              "      <td>0</td>\n",
              "      <td>2018-09-29 20:14:36</td>\n",
              "      <td>221109</td>\n",
              "      <td>7664</td>\n",
              "    </tr>\n",
              "    <tr>\n",
              "      <th>2184355</th>\n",
              "      <td>13703591</td>\n",
              "      <td>1155042</td>\n",
              "      <td>465000</td>\n",
              "      <td>529000</td>\n",
              "      <td>\\N</td>\n",
              "      <td>\\N</td>\n",
              "      <td>2</td>\n",
              "      <td>\\N</td>\n",
              "      <td>\\N</td>\n",
              "      <td>\\N</td>\n",
              "      <td>1</td>\n",
              "      <td>0</td>\n",
              "      <td>2018-09-29 20:14:50</td>\n",
              "      <td>221109</td>\n",
              "      <td>7664</td>\n",
              "    </tr>\n",
              "    <tr>\n",
              "      <th>2184356</th>\n",
              "      <td>13703595</td>\n",
              "      <td>1155042</td>\n",
              "      <td>460000</td>\n",
              "      <td>460000</td>\n",
              "      <td>\\N</td>\n",
              "      <td>\\N</td>\n",
              "      <td>2</td>\n",
              "      <td>\\N</td>\n",
              "      <td>\\N</td>\n",
              "      <td>\\N</td>\n",
              "      <td>1</td>\n",
              "      <td>0</td>\n",
              "      <td>2018-09-29 20:15:03</td>\n",
              "      <td>221109</td>\n",
              "      <td>7664</td>\n",
              "    </tr>\n",
              "    <tr>\n",
              "      <th>2184357</th>\n",
              "      <td>16766304</td>\n",
              "      <td>1155042</td>\n",
              "      <td>449000</td>\n",
              "      <td>449000</td>\n",
              "      <td>\\N</td>\n",
              "      <td>\\N</td>\n",
              "      <td>2</td>\n",
              "      <td>\\N</td>\n",
              "      <td>\\N</td>\n",
              "      <td>\\N</td>\n",
              "      <td>1</td>\n",
              "      <td>1</td>\n",
              "      <td>2018-11-03 19:21:04</td>\n",
              "      <td>221109</td>\n",
              "      <td>7664</td>\n",
              "    </tr>\n",
              "  </tbody>\n",
              "</table>\n",
              "<p>2184358 rows × 15 columns</p>\n",
              "</div>"
            ],
            "text/plain": [
              "               id  product_variant_id  ...  product_id  marketplace_seller_id\n",
              "0        18752043             1977385  ...      667969                   2962\n",
              "1        18752022             1977380  ...      150144                  78525\n",
              "2        18752046             1977380  ...      150144                  78525\n",
              "3        18751982             1977374  ...      908541                   4199\n",
              "4        18752018             1977374  ...      908541                   4199\n",
              "...           ...                 ...  ...         ...                    ...\n",
              "2184353  12763117             1155042  ...      221109                   7664\n",
              "2184354  13703581             1155042  ...      221109                   7664\n",
              "2184355  13703591             1155042  ...      221109                   7664\n",
              "2184356  13703595             1155042  ...      221109                   7664\n",
              "2184357  16766304             1155042  ...      221109                   7664\n",
              "\n",
              "[2184358 rows x 15 columns]"
            ]
          },
          "metadata": {
            "tags": []
          },
          "execution_count": 7
        }
      ]
    },
    {
      "cell_type": "markdown",
      "metadata": {
        "id": "azNei671HFi9"
      },
      "source": [
        "\\\\\n",
        "Code below shows that non of the data rows have invalid create_at date."
      ]
    },
    {
      "cell_type": "code",
      "metadata": {
        "colab": {
          "base_uri": "https://localhost:8080/",
          "height": 49
        },
        "id": "f8yTI8V2tIwH",
        "outputId": "0ef8cd8a-a4c2-4b5d-8a92-1e6c042a6bb3"
      },
      "source": [
        "df_tarikhche[(pd.to_datetime(df_tarikhche['created_at']) > datetime.datetime.now())]"
      ],
      "execution_count": null,
      "outputs": [
        {
          "output_type": "execute_result",
          "data": {
            "text/html": [
              "<div>\n",
              "<style scoped>\n",
              "    .dataframe tbody tr th:only-of-type {\n",
              "        vertical-align: middle;\n",
              "    }\n",
              "\n",
              "    .dataframe tbody tr th {\n",
              "        vertical-align: top;\n",
              "    }\n",
              "\n",
              "    .dataframe thead th {\n",
              "        text-align: right;\n",
              "    }\n",
              "</style>\n",
              "<table border=\"1\" class=\"dataframe\">\n",
              "  <thead>\n",
              "    <tr style=\"text-align: right;\">\n",
              "      <th></th>\n",
              "      <th>id</th>\n",
              "      <th>product_variant_id</th>\n",
              "      <th>selling_price</th>\n",
              "      <th>rrp_price</th>\n",
              "      <th>base_price</th>\n",
              "      <th>buy_price</th>\n",
              "      <th>order_limit</th>\n",
              "      <th>start_at</th>\n",
              "      <th>end_at</th>\n",
              "      <th>tags</th>\n",
              "      <th>show_in_price_history</th>\n",
              "      <th>active</th>\n",
              "      <th>created_at</th>\n",
              "      <th>product_id</th>\n",
              "      <th>marketplace_seller_id</th>\n",
              "    </tr>\n",
              "  </thead>\n",
              "  <tbody>\n",
              "  </tbody>\n",
              "</table>\n",
              "</div>"
            ],
            "text/plain": [
              "Empty DataFrame\n",
              "Columns: [id, product_variant_id, selling_price, rrp_price, base_price, buy_price, order_limit, start_at, end_at, tags, show_in_price_history, active, created_at, product_id, marketplace_seller_id]\n",
              "Index: []"
            ]
          },
          "metadata": {
            "tags": []
          },
          "execution_count": 10
        }
      ]
    },
    {
      "cell_type": "markdown",
      "metadata": {
        "id": "IYN_MQPvvxaC"
      },
      "source": [
        "\\\\\n",
        "This line of code shows that, the ```active``` column has just the values of 0 or 1"
      ]
    },
    {
      "cell_type": "code",
      "metadata": {
        "colab": {
          "base_uri": "https://localhost:8080/",
          "height": 49
        },
        "id": "7e9UiSUYuV7O",
        "outputId": "599a26f2-b75c-4c31-d854-2cf8a66d2b90"
      },
      "source": [
        "df_tarikhche[(df_tarikhche['active'] != 1) & (df_tarikhche['active'] != 0)]"
      ],
      "execution_count": null,
      "outputs": [
        {
          "output_type": "execute_result",
          "data": {
            "text/html": [
              "<div>\n",
              "<style scoped>\n",
              "    .dataframe tbody tr th:only-of-type {\n",
              "        vertical-align: middle;\n",
              "    }\n",
              "\n",
              "    .dataframe tbody tr th {\n",
              "        vertical-align: top;\n",
              "    }\n",
              "\n",
              "    .dataframe thead th {\n",
              "        text-align: right;\n",
              "    }\n",
              "</style>\n",
              "<table border=\"1\" class=\"dataframe\">\n",
              "  <thead>\n",
              "    <tr style=\"text-align: right;\">\n",
              "      <th></th>\n",
              "      <th>id</th>\n",
              "      <th>product_variant_id</th>\n",
              "      <th>selling_price</th>\n",
              "      <th>rrp_price</th>\n",
              "      <th>base_price</th>\n",
              "      <th>buy_price</th>\n",
              "      <th>order_limit</th>\n",
              "      <th>start_at</th>\n",
              "      <th>end_at</th>\n",
              "      <th>tags</th>\n",
              "      <th>show_in_price_history</th>\n",
              "      <th>active</th>\n",
              "      <th>created_at</th>\n",
              "      <th>product_id</th>\n",
              "      <th>marketplace_seller_id</th>\n",
              "    </tr>\n",
              "  </thead>\n",
              "  <tbody>\n",
              "  </tbody>\n",
              "</table>\n",
              "</div>"
            ],
            "text/plain": [
              "Empty DataFrame\n",
              "Columns: [id, product_variant_id, selling_price, rrp_price, base_price, buy_price, order_limit, start_at, end_at, tags, show_in_price_history, active, created_at, product_id, marketplace_seller_id]\n",
              "Index: []"
            ]
          },
          "metadata": {
            "tags": []
          },
          "execution_count": 21
        }
      ]
    },
    {
      "cell_type": "markdown",
      "metadata": {
        "id": "i_33aYnV8sph"
      },
      "source": [
        "\\\\\n",
        "## **not valid dataframes:**\n",
        "\n",
        "We defined a valid price is a price which is more than 1000 so, using regex, we have filtered  the ```selling_price``` and ```rrp_price``` to find out which of the rows have a price less than 1000."
      ]
    },
    {
      "cell_type": "markdown",
      "metadata": {
        "id": "l065-oAm8r3a"
      },
      "source": [
        "\\\\\n",
        "### **1**"
      ]
    },
    {
      "cell_type": "code",
      "metadata": {
        "colab": {
          "base_uri": "https://localhost:8080/"
        },
        "id": "tNXwJ_Ao81uA",
        "outputId": "d975c105-6326-4ac6-ea29-98511cd02102"
      },
      "source": [
        "lenDf1 = len(notValid_df1)\n",
        "\n",
        "for i in range(lenDf1):\n",
        "  print(notValid_df1)"
      ],
      "execution_count": null,
      "outputs": [
        {
          "output_type": "execute_result",
          "data": {
            "text/plain": [
              "725"
            ]
          },
          "metadata": {
            "tags": []
          },
          "execution_count": 11
        }
      ]
    },
    {
      "cell_type": "markdown",
      "metadata": {
        "id": "2F7ptZIK-1ew"
      },
      "source": [
        "\\\\\n",
        "\n",
        "### **1**\n",
        "Code below shows that, there are **725** rows which have invalid values for column ``` selling_price``` and ```rrp_price```."
      ]
    },
    {
      "cell_type": "code",
      "metadata": {
        "colab": {
          "base_uri": "https://localhost:8080/",
          "height": 419
        },
        "id": "7Oh-8WrC-jfh",
        "outputId": "44fe86d8-4e08-400a-e8dc-2fc4588fbc51"
      },
      "source": [
        "pattern = re.compile(r'^[0-9]{4,}')\n",
        "notValid_df1 = df_tarikhche[~(df_tarikhche.selling_price.apply(lambda x: bool(pattern.match(str(x).strip())))) & \n",
        "                            ~(df_tarikhche.rrp_price.apply(lambda x: bool(pattern.match(str(x).strip()))))]\n",
        "notValid_df1                        "
      ],
      "execution_count": null,
      "outputs": [
        {
          "output_type": "execute_result",
          "data": {
            "text/html": [
              "<div>\n",
              "<style scoped>\n",
              "    .dataframe tbody tr th:only-of-type {\n",
              "        vertical-align: middle;\n",
              "    }\n",
              "\n",
              "    .dataframe tbody tr th {\n",
              "        vertical-align: top;\n",
              "    }\n",
              "\n",
              "    .dataframe thead th {\n",
              "        text-align: right;\n",
              "    }\n",
              "</style>\n",
              "<table border=\"1\" class=\"dataframe\">\n",
              "  <thead>\n",
              "    <tr style=\"text-align: right;\">\n",
              "      <th></th>\n",
              "      <th>id</th>\n",
              "      <th>product_variant_id</th>\n",
              "      <th>selling_price</th>\n",
              "      <th>rrp_price</th>\n",
              "      <th>base_price</th>\n",
              "      <th>buy_price</th>\n",
              "      <th>order_limit</th>\n",
              "      <th>start_at</th>\n",
              "      <th>end_at</th>\n",
              "      <th>tags</th>\n",
              "      <th>show_in_price_history</th>\n",
              "      <th>active</th>\n",
              "      <th>created_at</th>\n",
              "      <th>product_id</th>\n",
              "      <th>marketplace_seller_id</th>\n",
              "    </tr>\n",
              "  </thead>\n",
              "  <tbody>\n",
              "    <tr>\n",
              "      <th>20905</th>\n",
              "      <td>18274482</td>\n",
              "      <td>1926782</td>\n",
              "      <td>200</td>\n",
              "      <td>200</td>\n",
              "      <td>\\N</td>\n",
              "      <td>\\N</td>\n",
              "      <td>2</td>\n",
              "      <td>\\N</td>\n",
              "      <td>\\N</td>\n",
              "      <td>\\N</td>\n",
              "      <td>1</td>\n",
              "      <td>0</td>\n",
              "      <td>2018-11-19 21:10:52</td>\n",
              "      <td>469087</td>\n",
              "      <td>9691</td>\n",
              "    </tr>\n",
              "    <tr>\n",
              "      <th>20913</th>\n",
              "      <td>18274447</td>\n",
              "      <td>1926774</td>\n",
              "      <td>200</td>\n",
              "      <td>200</td>\n",
              "      <td>\\N</td>\n",
              "      <td>\\N</td>\n",
              "      <td>2</td>\n",
              "      <td>\\N</td>\n",
              "      <td>\\N</td>\n",
              "      <td>\\N</td>\n",
              "      <td>1</td>\n",
              "      <td>0</td>\n",
              "      <td>2018-11-19 21:10:23</td>\n",
              "      <td>469087</td>\n",
              "      <td>9691</td>\n",
              "    </tr>\n",
              "    <tr>\n",
              "      <th>20927</th>\n",
              "      <td>18274439</td>\n",
              "      <td>1926766</td>\n",
              "      <td>200</td>\n",
              "      <td>200</td>\n",
              "      <td>\\N</td>\n",
              "      <td>\\N</td>\n",
              "      <td>2</td>\n",
              "      <td>\\N</td>\n",
              "      <td>\\N</td>\n",
              "      <td>\\N</td>\n",
              "      <td>1</td>\n",
              "      <td>0</td>\n",
              "      <td>2018-11-19 21:10:11</td>\n",
              "      <td>469087</td>\n",
              "      <td>9691</td>\n",
              "    </tr>\n",
              "    <tr>\n",
              "      <th>20931</th>\n",
              "      <td>18274545</td>\n",
              "      <td>1926766</td>\n",
              "      <td>200</td>\n",
              "      <td>200</td>\n",
              "      <td>\\N</td>\n",
              "      <td>\\N</td>\n",
              "      <td>2</td>\n",
              "      <td>\\N</td>\n",
              "      <td>\\N</td>\n",
              "      <td>\\N</td>\n",
              "      <td>1</td>\n",
              "      <td>0</td>\n",
              "      <td>2018-11-19 21:12:07</td>\n",
              "      <td>469087</td>\n",
              "      <td>9691</td>\n",
              "    </tr>\n",
              "    <tr>\n",
              "      <th>20936</th>\n",
              "      <td>18274418</td>\n",
              "      <td>1926748</td>\n",
              "      <td>200</td>\n",
              "      <td>200</td>\n",
              "      <td>\\N</td>\n",
              "      <td>\\N</td>\n",
              "      <td>2</td>\n",
              "      <td>\\N</td>\n",
              "      <td>\\N</td>\n",
              "      <td>\\N</td>\n",
              "      <td>1</td>\n",
              "      <td>0</td>\n",
              "      <td>2018-11-19 21:09:26</td>\n",
              "      <td>859481</td>\n",
              "      <td>9691</td>\n",
              "    </tr>\n",
              "    <tr>\n",
              "      <th>...</th>\n",
              "      <td>...</td>\n",
              "      <td>...</td>\n",
              "      <td>...</td>\n",
              "      <td>...</td>\n",
              "      <td>...</td>\n",
              "      <td>...</td>\n",
              "      <td>...</td>\n",
              "      <td>...</td>\n",
              "      <td>...</td>\n",
              "      <td>...</td>\n",
              "      <td>...</td>\n",
              "      <td>...</td>\n",
              "      <td>...</td>\n",
              "      <td>...</td>\n",
              "      <td>...</td>\n",
              "    </tr>\n",
              "    <tr>\n",
              "      <th>2014942</th>\n",
              "      <td>17825295</td>\n",
              "      <td>1240364</td>\n",
              "      <td>100</td>\n",
              "      <td>100</td>\n",
              "      <td>\\N</td>\n",
              "      <td>\\N</td>\n",
              "      <td>3</td>\n",
              "      <td>\\N</td>\n",
              "      <td>\\N</td>\n",
              "      <td>\\N</td>\n",
              "      <td>1</td>\n",
              "      <td>0</td>\n",
              "      <td>2018-11-14 19:14:05</td>\n",
              "      <td>684376</td>\n",
              "      <td>6167</td>\n",
              "    </tr>\n",
              "    <tr>\n",
              "      <th>2031706</th>\n",
              "      <td>7795384</td>\n",
              "      <td>1231314</td>\n",
              "      <td>18</td>\n",
              "      <td>18</td>\n",
              "      <td>18</td>\n",
              "      <td>\\N</td>\n",
              "      <td>2</td>\n",
              "      <td>\\N</td>\n",
              "      <td>\\N</td>\n",
              "      <td>\\N</td>\n",
              "      <td>1</td>\n",
              "      <td>0</td>\n",
              "      <td>2018-07-12 17:26:45</td>\n",
              "      <td>157816</td>\n",
              "      <td>10078</td>\n",
              "    </tr>\n",
              "    <tr>\n",
              "      <th>2124915</th>\n",
              "      <td>7255330</td>\n",
              "      <td>1194692</td>\n",
              "      <td>1</td>\n",
              "      <td>1</td>\n",
              "      <td>1</td>\n",
              "      <td>\\N</td>\n",
              "      <td>1</td>\n",
              "      <td>\\N</td>\n",
              "      <td>\\N</td>\n",
              "      <td>\\N</td>\n",
              "      <td>1</td>\n",
              "      <td>0</td>\n",
              "      <td>2018-06-27 13:04:34</td>\n",
              "      <td>59785</td>\n",
              "      <td>6085</td>\n",
              "    </tr>\n",
              "    <tr>\n",
              "      <th>2134552</th>\n",
              "      <td>7236502</td>\n",
              "      <td>1192407</td>\n",
              "      <td>3</td>\n",
              "      <td>3</td>\n",
              "      <td>3</td>\n",
              "      <td>\\N</td>\n",
              "      <td>3</td>\n",
              "      <td>\\N</td>\n",
              "      <td>\\N</td>\n",
              "      <td>\\N</td>\n",
              "      <td>1</td>\n",
              "      <td>0</td>\n",
              "      <td>2018-06-26 20:02:33</td>\n",
              "      <td>404828</td>\n",
              "      <td>10939</td>\n",
              "    </tr>\n",
              "    <tr>\n",
              "      <th>2144740</th>\n",
              "      <td>7348258</td>\n",
              "      <td>1183151</td>\n",
              "      <td>1</td>\n",
              "      <td>1</td>\n",
              "      <td>1</td>\n",
              "      <td>\\N</td>\n",
              "      <td>1</td>\n",
              "      <td>\\N</td>\n",
              "      <td>\\N</td>\n",
              "      <td>\\N</td>\n",
              "      <td>1</td>\n",
              "      <td>0</td>\n",
              "      <td>2018-06-30 16:38:28</td>\n",
              "      <td>88874</td>\n",
              "      <td>10939</td>\n",
              "    </tr>\n",
              "  </tbody>\n",
              "</table>\n",
              "<p>725 rows × 15 columns</p>\n",
              "</div>"
            ],
            "text/plain": [
              "               id  product_variant_id  ...  product_id  marketplace_seller_id\n",
              "20905    18274482             1926782  ...      469087                   9691\n",
              "20913    18274447             1926774  ...      469087                   9691\n",
              "20927    18274439             1926766  ...      469087                   9691\n",
              "20931    18274545             1926766  ...      469087                   9691\n",
              "20936    18274418             1926748  ...      859481                   9691\n",
              "...           ...                 ...  ...         ...                    ...\n",
              "2014942  17825295             1240364  ...      684376                   6167\n",
              "2031706   7795384             1231314  ...      157816                  10078\n",
              "2124915   7255330             1194692  ...       59785                   6085\n",
              "2134552   7236502             1192407  ...      404828                  10939\n",
              "2144740   7348258             1183151  ...       88874                  10939\n",
              "\n",
              "[725 rows x 15 columns]"
            ]
          },
          "metadata": {
            "tags": []
          },
          "execution_count": 35
        }
      ]
    },
    {
      "cell_type": "markdown",
      "metadata": {
        "id": "KPFV4tsu_kuu"
      },
      "source": [
        "\\\\\n",
        "**Strategy to fill the invalid cells:**\n",
        "\n",
        "Replace all value in ```notValid_df1``` for columns ```selling_price``` and ```rrp_price``` to ```NaN```"
      ]
    },
    {
      "cell_type": "markdown",
      "metadata": {
        "id": "L_ONJJq4_7g6"
      },
      "source": [
        "\\\\\n",
        "### **2**\n",
        "\n",
        "Code below show that there is only 1 which has an invalid rrp_price and its rrp_price is not equal to its selling_price."
      ]
    },
    {
      "cell_type": "code",
      "metadata": {
        "colab": {
          "base_uri": "https://localhost:8080/",
          "height": 80
        },
        "id": "HPecoJ7RALmZ",
        "outputId": "85282cfe-b958-40e8-9599-c05f287d32fc"
      },
      "source": [
        "pattern = re.compile(r'^[0-9]{4,}')\n",
        "notValid_df2 = df_tarikhche[~(df_tarikhche.rrp_price.apply(lambda x: bool(pattern.match(str(x).strip())))) & (df_tarikhche['rrp_price'] != df_tarikhche['selling_price'])]"
      ],
      "execution_count": null,
      "outputs": [
        {
          "output_type": "execute_result",
          "data": {
            "text/html": [
              "<div>\n",
              "<style scoped>\n",
              "    .dataframe tbody tr th:only-of-type {\n",
              "        vertical-align: middle;\n",
              "    }\n",
              "\n",
              "    .dataframe tbody tr th {\n",
              "        vertical-align: top;\n",
              "    }\n",
              "\n",
              "    .dataframe thead th {\n",
              "        text-align: right;\n",
              "    }\n",
              "</style>\n",
              "<table border=\"1\" class=\"dataframe\">\n",
              "  <thead>\n",
              "    <tr style=\"text-align: right;\">\n",
              "      <th></th>\n",
              "      <th>id</th>\n",
              "      <th>product_variant_id</th>\n",
              "      <th>selling_price</th>\n",
              "      <th>rrp_price</th>\n",
              "      <th>base_price</th>\n",
              "      <th>buy_price</th>\n",
              "      <th>order_limit</th>\n",
              "      <th>start_at</th>\n",
              "      <th>end_at</th>\n",
              "      <th>tags</th>\n",
              "      <th>show_in_price_history</th>\n",
              "      <th>active</th>\n",
              "      <th>created_at</th>\n",
              "      <th>product_id</th>\n",
              "      <th>marketplace_seller_id</th>\n",
              "    </tr>\n",
              "  </thead>\n",
              "  <tbody>\n",
              "    <tr>\n",
              "      <th>1092073</th>\n",
              "      <td>10938499</td>\n",
              "      <td>1434284</td>\n",
              "      <td>100</td>\n",
              "      <td>200</td>\n",
              "      <td>\\N</td>\n",
              "      <td>\\N</td>\n",
              "      <td>2</td>\n",
              "      <td>\\N</td>\n",
              "      <td>\\N</td>\n",
              "      <td>\\N</td>\n",
              "      <td>1</td>\n",
              "      <td>0</td>\n",
              "      <td>2018-08-19 16:05:49</td>\n",
              "      <td>679181</td>\n",
              "      <td>8392</td>\n",
              "    </tr>\n",
              "  </tbody>\n",
              "</table>\n",
              "</div>"
            ],
            "text/plain": [
              "               id  product_variant_id  ...  product_id  marketplace_seller_id\n",
              "1092073  10938499             1434284  ...      679181                   8392\n",
              "\n",
              "[1 rows x 15 columns]"
            ]
          },
          "metadata": {
            "tags": []
          },
          "execution_count": 46
        }
      ]
    },
    {
      "cell_type": "markdown",
      "metadata": {
        "id": "hHb6DomCO0Us"
      },
      "source": [
        "\\\\\n",
        "**Strategy to fill the invalid cells:**\n",
        "\n",
        "Replace all value in ```notValid_df1``` for columns ```selling_price``` and ```rrp_price``` to ```NaN```"
      ]
    },
    {
      "cell_type": "markdown",
      "metadata": {
        "id": "Sa3abPFOBWdt"
      },
      "source": [
        "\\\\\n",
        "### **3**\n",
        "\n",
        "Code below show that there are 89 rows, which have an invalid selling_price and its rrp_price is not equal to its selling_price."
      ]
    },
    {
      "cell_type": "code",
      "metadata": {
        "colab": {
          "base_uri": "https://localhost:8080/",
          "height": 589
        },
        "id": "jtKhNN8tBWdt",
        "outputId": "702e05ac-7e1e-4e85-89be-bd80e6fa9f2a"
      },
      "source": [
        "pattern = re.compile(r'^[0-9]{4,}')\n",
        "notValid_df3 = df_tarikhche[~(df_tarikhche.selling_price.apply(lambda x: bool(pattern.match(str(x).strip())))) & (df_tarikhche['rrp_price'] != df_tarikhche['selling_price'])]"
      ],
      "execution_count": null,
      "outputs": [
        {
          "output_type": "execute_result",
          "data": {
            "text/html": [
              "<div>\n",
              "<style scoped>\n",
              "    .dataframe tbody tr th:only-of-type {\n",
              "        vertical-align: middle;\n",
              "    }\n",
              "\n",
              "    .dataframe tbody tr th {\n",
              "        vertical-align: top;\n",
              "    }\n",
              "\n",
              "    .dataframe thead th {\n",
              "        text-align: right;\n",
              "    }\n",
              "</style>\n",
              "<table border=\"1\" class=\"dataframe\">\n",
              "  <thead>\n",
              "    <tr style=\"text-align: right;\">\n",
              "      <th></th>\n",
              "      <th>id</th>\n",
              "      <th>product_variant_id</th>\n",
              "      <th>selling_price</th>\n",
              "      <th>rrp_price</th>\n",
              "      <th>base_price</th>\n",
              "      <th>buy_price</th>\n",
              "      <th>order_limit</th>\n",
              "      <th>start_at</th>\n",
              "      <th>end_at</th>\n",
              "      <th>tags</th>\n",
              "      <th>show_in_price_history</th>\n",
              "      <th>active</th>\n",
              "      <th>created_at</th>\n",
              "      <th>product_id</th>\n",
              "      <th>marketplace_seller_id</th>\n",
              "    </tr>\n",
              "  </thead>\n",
              "  <tbody>\n",
              "    <tr>\n",
              "      <th>606745</th>\n",
              "      <td>13260493</td>\n",
              "      <td>1589716</td>\n",
              "      <td>100</td>\n",
              "      <td>800000</td>\n",
              "      <td>\\N</td>\n",
              "      <td>\\N</td>\n",
              "      <td>3</td>\n",
              "      <td>\\N</td>\n",
              "      <td>\\N</td>\n",
              "      <td>\\N</td>\n",
              "      <td>1</td>\n",
              "      <td>0</td>\n",
              "      <td>2018-09-22 15:27:04</td>\n",
              "      <td>23232</td>\n",
              "      <td>8095</td>\n",
              "    </tr>\n",
              "    <tr>\n",
              "      <th>805911</th>\n",
              "      <td>12338768</td>\n",
              "      <td>1518976</td>\n",
              "      <td>100</td>\n",
              "      <td>500000</td>\n",
              "      <td>\\N</td>\n",
              "      <td>\\N</td>\n",
              "      <td>2</td>\n",
              "      <td>\\N</td>\n",
              "      <td>\\N</td>\n",
              "      <td>\\N</td>\n",
              "      <td>1</td>\n",
              "      <td>0</td>\n",
              "      <td>2018-09-08 19:14:55</td>\n",
              "      <td>349877</td>\n",
              "      <td>8652</td>\n",
              "    </tr>\n",
              "    <tr>\n",
              "      <th>982644</th>\n",
              "      <td>11338674</td>\n",
              "      <td>1464151</td>\n",
              "      <td>100</td>\n",
              "      <td>300000</td>\n",
              "      <td>\\N</td>\n",
              "      <td>\\N</td>\n",
              "      <td>5</td>\n",
              "      <td>\\N</td>\n",
              "      <td>\\N</td>\n",
              "      <td>\\N</td>\n",
              "      <td>1</td>\n",
              "      <td>0</td>\n",
              "      <td>2018-08-26 12:30:01</td>\n",
              "      <td>768056</td>\n",
              "      <td>8095</td>\n",
              "    </tr>\n",
              "    <tr>\n",
              "      <th>982647</th>\n",
              "      <td>11338590</td>\n",
              "      <td>1464140</td>\n",
              "      <td>100</td>\n",
              "      <td>200000</td>\n",
              "      <td>\\N</td>\n",
              "      <td>\\N</td>\n",
              "      <td>5</td>\n",
              "      <td>\\N</td>\n",
              "      <td>\\N</td>\n",
              "      <td>\\N</td>\n",
              "      <td>1</td>\n",
              "      <td>0</td>\n",
              "      <td>2018-08-26 12:28:23</td>\n",
              "      <td>279167</td>\n",
              "      <td>8095</td>\n",
              "    </tr>\n",
              "    <tr>\n",
              "      <th>1059900</th>\n",
              "      <td>16125301</td>\n",
              "      <td>1444315</td>\n",
              "      <td>1</td>\n",
              "      <td>3050000</td>\n",
              "      <td>3050000</td>\n",
              "      <td>1320000</td>\n",
              "      <td>3</td>\n",
              "      <td>2018-10-28 00:00:00</td>\n",
              "      <td>2018-10-28 09:00:00</td>\n",
              "      <td>incredible_offer</td>\n",
              "      <td>1</td>\n",
              "      <td>0</td>\n",
              "      <td>2018-10-27 11:48:56</td>\n",
              "      <td>763821</td>\n",
              "      <td>1</td>\n",
              "    </tr>\n",
              "    <tr>\n",
              "      <th>...</th>\n",
              "      <td>...</td>\n",
              "      <td>...</td>\n",
              "      <td>...</td>\n",
              "      <td>...</td>\n",
              "      <td>...</td>\n",
              "      <td>...</td>\n",
              "      <td>...</td>\n",
              "      <td>...</td>\n",
              "      <td>...</td>\n",
              "      <td>...</td>\n",
              "      <td>...</td>\n",
              "      <td>...</td>\n",
              "      <td>...</td>\n",
              "      <td>...</td>\n",
              "      <td>...</td>\n",
              "    </tr>\n",
              "    <tr>\n",
              "      <th>2176033</th>\n",
              "      <td>7557728</td>\n",
              "      <td>1160964</td>\n",
              "      <td>2</td>\n",
              "      <td>500000</td>\n",
              "      <td>2</td>\n",
              "      <td>\\N</td>\n",
              "      <td>5</td>\n",
              "      <td>\\N</td>\n",
              "      <td>\\N</td>\n",
              "      <td>\\N</td>\n",
              "      <td>1</td>\n",
              "      <td>0</td>\n",
              "      <td>2018-07-06 01:19:10</td>\n",
              "      <td>634224</td>\n",
              "      <td>69</td>\n",
              "    </tr>\n",
              "    <tr>\n",
              "      <th>2176035</th>\n",
              "      <td>7576266</td>\n",
              "      <td>1160964</td>\n",
              "      <td>1</td>\n",
              "      <td>500000</td>\n",
              "      <td>1</td>\n",
              "      <td>\\N</td>\n",
              "      <td>5</td>\n",
              "      <td>\\N</td>\n",
              "      <td>\\N</td>\n",
              "      <td>\\N</td>\n",
              "      <td>1</td>\n",
              "      <td>0</td>\n",
              "      <td>2018-07-07 00:38:11</td>\n",
              "      <td>634224</td>\n",
              "      <td>69</td>\n",
              "    </tr>\n",
              "    <tr>\n",
              "      <th>2176037</th>\n",
              "      <td>7599305</td>\n",
              "      <td>1160964</td>\n",
              "      <td>1</td>\n",
              "      <td>500000</td>\n",
              "      <td>1</td>\n",
              "      <td>\\N</td>\n",
              "      <td>5</td>\n",
              "      <td>\\N</td>\n",
              "      <td>\\N</td>\n",
              "      <td>\\N</td>\n",
              "      <td>1</td>\n",
              "      <td>0</td>\n",
              "      <td>2018-07-07 15:21:26</td>\n",
              "      <td>634224</td>\n",
              "      <td>69</td>\n",
              "    </tr>\n",
              "    <tr>\n",
              "      <th>2176039</th>\n",
              "      <td>7616207</td>\n",
              "      <td>1160964</td>\n",
              "      <td>1</td>\n",
              "      <td>500000</td>\n",
              "      <td>1</td>\n",
              "      <td>\\N</td>\n",
              "      <td>5</td>\n",
              "      <td>\\N</td>\n",
              "      <td>\\N</td>\n",
              "      <td>\\N</td>\n",
              "      <td>1</td>\n",
              "      <td>0</td>\n",
              "      <td>2018-07-07 21:32:09</td>\n",
              "      <td>634224</td>\n",
              "      <td>69</td>\n",
              "    </tr>\n",
              "    <tr>\n",
              "      <th>2180806</th>\n",
              "      <td>7018650</td>\n",
              "      <td>1157096</td>\n",
              "      <td>95</td>\n",
              "      <td>125000</td>\n",
              "      <td>95</td>\n",
              "      <td>\\N</td>\n",
              "      <td>1</td>\n",
              "      <td>\\N</td>\n",
              "      <td>\\N</td>\n",
              "      <td>\\N</td>\n",
              "      <td>1</td>\n",
              "      <td>0</td>\n",
              "      <td>2018-06-20 11:59:04</td>\n",
              "      <td>85988</td>\n",
              "      <td>10078</td>\n",
              "    </tr>\n",
              "  </tbody>\n",
              "</table>\n",
              "<p>89 rows × 15 columns</p>\n",
              "</div>"
            ],
            "text/plain": [
              "               id  product_variant_id  ...  product_id  marketplace_seller_id\n",
              "606745   13260493             1589716  ...       23232                   8095\n",
              "805911   12338768             1518976  ...      349877                   8652\n",
              "982644   11338674             1464151  ...      768056                   8095\n",
              "982647   11338590             1464140  ...      279167                   8095\n",
              "1059900  16125301             1444315  ...      763821                      1\n",
              "...           ...                 ...  ...         ...                    ...\n",
              "2176033   7557728             1160964  ...      634224                     69\n",
              "2176035   7576266             1160964  ...      634224                     69\n",
              "2176037   7599305             1160964  ...      634224                     69\n",
              "2176039   7616207             1160964  ...      634224                     69\n",
              "2180806   7018650             1157096  ...       85988                  10078\n",
              "\n",
              "[89 rows x 15 columns]"
            ]
          },
          "metadata": {
            "tags": []
          },
          "execution_count": 49
        }
      ]
    },
    {
      "cell_type": "markdown",
      "metadata": {
        "id": "FgsOv3BNBscg"
      },
      "source": [
        "\\\\\n",
        "**Our strategy:**\n",
        "\n",
        "We decided to change the value of the selling_price columns to its rrp_price."
      ]
    }
  ]
}